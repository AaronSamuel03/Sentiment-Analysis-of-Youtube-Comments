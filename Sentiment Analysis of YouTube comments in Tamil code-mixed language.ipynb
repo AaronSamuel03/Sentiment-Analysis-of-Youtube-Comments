{
  "nbformat": 4,
  "nbformat_minor": 0,
  "metadata": {
    "colab": {
      "provenance": []
    },
    "kernelspec": {
      "name": "python3",
      "display_name": "Python 3"
    },
    "language_info": {
      "name": "python"
    }
  },
  "cells": [
    {
      "cell_type": "code",
      "execution_count": 1,
      "metadata": {
        "id": "Ervj-n7Td3Zg"
      },
      "outputs": [],
      "source": [
        "import tensorflow as tf\n",
        "gpus = tf.config.experimental.list_physical_devices('GPU')\n",
        "if gpus:\n",
        "  # Restrict TensorFlow to only allocate 4GB of memory on the first GPU\n",
        "  try:\n",
        "    tf.config.experimental.set_virtual_device_configuration(\n",
        "        gpus[0],\n",
        "        [tf.config.experimental.VirtualDeviceConfiguration(memory_limit=4096)])\n",
        "    logical_gpus = tf.config.experimental.list_logical_devices('GPU')\n",
        "    print(len(gpus), \"Physical GPUs,\", len(logical_gpus), \"Logical GPUs\")\n",
        "  except RuntimeError as e:\n",
        "    # Virtual devices must be set before GPUs have been initialized\n",
        "    print(e)"
      ]
    },
    {
      "cell_type": "code",
      "source": [
        "import pandas as pd\n",
        "import re\n",
        "import numpy as np\n",
        "import itertools\n",
        "import collections\n",
        "from collections import defaultdict, Counter\n",
        "import matplotlib.pyplot as plt\n",
        "import string\n",
        "from wordcloud import WordCloud\n",
        "\n",
        "import nltk\n",
        "nltk.download('treebank')\n",
        "nltk.download('stopwords')\n",
        "nltk.download('punkt')\n",
        "nltk.download('wordnet')\n",
        "nltk.download('averaged_perceptron_tagger')\n",
        "from nltk.corpus import stopwords\n",
        "from nltk.corpus import wordnet as wn\n",
        "from nltk.stem.wordnet import WordNetLemmatizer\n",
        "from nltk import word_tokenize, pos_tag\n",
        "\n",
        "from sklearn.metrics import classification_report\n",
        "from sklearn.model_selection import train_test_split\n",
        "from sklearn.preprocessing import LabelEncoder\n",
        "from sklearn.metrics import accuracy_score, f1_score, precision_score, recall_score, confusion_matrix\n",
        "from sklearn.svm import SVC\n",
        "from sklearn.neighbors import KNeighborsClassifier\n",
        "from sklearn.neural_network import MLPClassifier\n",
        "from sklearn.tree import DecisionTreeClassifier\n",
        "from sklearn.naive_bayes import GaussianNB\n",
        "from sklearn.ensemble import RandomForestClassifier\n",
        "from sklearn.feature_extraction.text import CountVectorizer, TfidfVectorizer \n",
        "\n",
        "import gensim\n",
        "from gensim.models import KeyedVectors, Word2Vec, FastText\n",
        "\n",
        "import tensorflow as tf\n",
        "import unicodedata"
      ],
      "metadata": {
        "colab": {
          "base_uri": "https://localhost:8080/"
        },
        "id": "IGezuOkUd6Uj",
        "outputId": "cbf059b1-d7a3-45c2-cfdc-0a7f610a67b0"
      },
      "execution_count": 2,
      "outputs": [
        {
          "output_type": "stream",
          "name": "stderr",
          "text": [
            "[nltk_data] Downloading package treebank to /root/nltk_data...\n",
            "[nltk_data]   Unzipping corpora/treebank.zip.\n",
            "[nltk_data] Downloading package stopwords to /root/nltk_data...\n",
            "[nltk_data]   Unzipping corpora/stopwords.zip.\n",
            "[nltk_data] Downloading package punkt to /root/nltk_data...\n",
            "[nltk_data]   Unzipping tokenizers/punkt.zip.\n",
            "[nltk_data] Downloading package wordnet to /root/nltk_data...\n",
            "[nltk_data] Downloading package averaged_perceptron_tagger to\n",
            "[nltk_data]     /root/nltk_data...\n",
            "[nltk_data]   Unzipping taggers/averaged_perceptron_tagger.zip.\n"
          ]
        }
      ]
    },
    {
      "cell_type": "code",
      "source": [
        "train_df = pd.read_csv(\"tam_sentiment_train.tsv\", sep='\\t')\n",
        "print(len(train_df))\n",
        "\n",
        "valid_df = pd.read_csv(\"tam_sentiment_dev.tsv\", sep='\\t')\n",
        "print(len(valid_df))\n",
        "\n",
        "test_df = pd.read_csv(\"sen_tam_test_without_labels.tsv\", sep='\\t')\n",
        "len(test_df)"
      ],
      "metadata": {
        "colab": {
          "base_uri": "https://localhost:8080/"
        },
        "id": "cIpC0ILAeW0a",
        "outputId": "9cd66347-b648-4662-c58a-ee7212f18a28"
      },
      "execution_count": 3,
      "outputs": [
        {
          "output_type": "stream",
          "name": "stdout",
          "text": [
            "35656\n",
            "3962\n"
          ]
        },
        {
          "output_type": "execute_result",
          "data": {
            "text/plain": [
              "649"
            ]
          },
          "metadata": {},
          "execution_count": 3
        }
      ]
    },
    {
      "cell_type": "code",
      "source": [
        "test_df"
      ],
      "metadata": {
        "colab": {
          "base_uri": "https://localhost:8080/",
          "height": 468
        },
        "id": "G44NRBNWe7Ja",
        "outputId": "66e1c685-97e5-4903-ef9d-cc00703f0e14"
      },
      "execution_count": 4,
      "outputs": [
        {
          "output_type": "execute_result",
          "data": {
            "text/plain": [
              "          id                                               Text\n",
              "0     TAM_01                         இது புதுவகை கொள்ளை கூட்டம்\n",
              "1     TAM_02  சுட்டுக்கொல்ல வேண்டும் அல்லது குண்டர் சட்டத்தி...\n",
              "2     TAM_03  இந்த திருநங்கைகள் பொதுமக்களுக்கு பொது இடங்களில...\n",
              "3     TAM_04  அராஜகம் செய்து தங்களுடைய மதிப்பை தாங்களே கெடுத...\n",
              "4     TAM_05  தவறான விடையம் சகோ...அந்த பொண்டுகப் புண்டாமகன்ள...\n",
              "..       ...                                                ...\n",
              "644  TAM_645               பல நாள் திருடன் ஒரு நாள் அகப்படுவான்\n",
              "645  TAM_646  கர்நாடாகாவில் இருந்து தமிழர்களை,காவிரி பிரச்சன...\n",
              "646  TAM_647             கருணா பெயர் கொண்ட நாடு, கறு நாடு அகம்.\n",
              "647  TAM_648  @Thamizhmuckkan venkatraman RN கார் (மழை) + நா...\n",
              "648  TAM_649           நமது பெண்களை கேவலப்படுத்திய முன்னோர்கள்.\n",
              "\n",
              "[649 rows x 2 columns]"
            ],
            "text/html": [
              "\n",
              "  <div id=\"df-463d1f46-a5d9-4932-a2a3-0feb15af42a6\">\n",
              "    <div class=\"colab-df-container\">\n",
              "      <div>\n",
              "<style scoped>\n",
              "    .dataframe tbody tr th:only-of-type {\n",
              "        vertical-align: middle;\n",
              "    }\n",
              "\n",
              "    .dataframe tbody tr th {\n",
              "        vertical-align: top;\n",
              "    }\n",
              "\n",
              "    .dataframe thead th {\n",
              "        text-align: right;\n",
              "    }\n",
              "</style>\n",
              "<table border=\"1\" class=\"dataframe\">\n",
              "  <thead>\n",
              "    <tr style=\"text-align: right;\">\n",
              "      <th></th>\n",
              "      <th>id</th>\n",
              "      <th>Text</th>\n",
              "    </tr>\n",
              "  </thead>\n",
              "  <tbody>\n",
              "    <tr>\n",
              "      <th>0</th>\n",
              "      <td>TAM_01</td>\n",
              "      <td>இது புதுவகை கொள்ளை கூட்டம்</td>\n",
              "    </tr>\n",
              "    <tr>\n",
              "      <th>1</th>\n",
              "      <td>TAM_02</td>\n",
              "      <td>சுட்டுக்கொல்ல வேண்டும் அல்லது குண்டர் சட்டத்தி...</td>\n",
              "    </tr>\n",
              "    <tr>\n",
              "      <th>2</th>\n",
              "      <td>TAM_03</td>\n",
              "      <td>இந்த திருநங்கைகள் பொதுமக்களுக்கு பொது இடங்களில...</td>\n",
              "    </tr>\n",
              "    <tr>\n",
              "      <th>3</th>\n",
              "      <td>TAM_04</td>\n",
              "      <td>அராஜகம் செய்து தங்களுடைய மதிப்பை தாங்களே கெடுத...</td>\n",
              "    </tr>\n",
              "    <tr>\n",
              "      <th>4</th>\n",
              "      <td>TAM_05</td>\n",
              "      <td>தவறான விடையம் சகோ...அந்த பொண்டுகப் புண்டாமகன்ள...</td>\n",
              "    </tr>\n",
              "    <tr>\n",
              "      <th>...</th>\n",
              "      <td>...</td>\n",
              "      <td>...</td>\n",
              "    </tr>\n",
              "    <tr>\n",
              "      <th>644</th>\n",
              "      <td>TAM_645</td>\n",
              "      <td>பல நாள் திருடன் ஒரு நாள் அகப்படுவான்</td>\n",
              "    </tr>\n",
              "    <tr>\n",
              "      <th>645</th>\n",
              "      <td>TAM_646</td>\n",
              "      <td>கர்நாடாகாவில் இருந்து தமிழர்களை,காவிரி பிரச்சன...</td>\n",
              "    </tr>\n",
              "    <tr>\n",
              "      <th>646</th>\n",
              "      <td>TAM_647</td>\n",
              "      <td>கருணா பெயர் கொண்ட நாடு, கறு நாடு அகம்.</td>\n",
              "    </tr>\n",
              "    <tr>\n",
              "      <th>647</th>\n",
              "      <td>TAM_648</td>\n",
              "      <td>@Thamizhmuckkan venkatraman RN கார் (மழை) + நா...</td>\n",
              "    </tr>\n",
              "    <tr>\n",
              "      <th>648</th>\n",
              "      <td>TAM_649</td>\n",
              "      <td>நமது பெண்களை கேவலப்படுத்திய முன்னோர்கள்.</td>\n",
              "    </tr>\n",
              "  </tbody>\n",
              "</table>\n",
              "<p>649 rows × 2 columns</p>\n",
              "</div>\n",
              "      <button class=\"colab-df-convert\" onclick=\"convertToInteractive('df-463d1f46-a5d9-4932-a2a3-0feb15af42a6')\"\n",
              "              title=\"Convert this dataframe to an interactive table.\"\n",
              "              style=\"display:none;\">\n",
              "        \n",
              "  <svg xmlns=\"http://www.w3.org/2000/svg\" height=\"24px\"viewBox=\"0 0 24 24\"\n",
              "       width=\"24px\">\n",
              "    <path d=\"M0 0h24v24H0V0z\" fill=\"none\"/>\n",
              "    <path d=\"M18.56 5.44l.94 2.06.94-2.06 2.06-.94-2.06-.94-.94-2.06-.94 2.06-2.06.94zm-11 1L8.5 8.5l.94-2.06 2.06-.94-2.06-.94L8.5 2.5l-.94 2.06-2.06.94zm10 10l.94 2.06.94-2.06 2.06-.94-2.06-.94-.94-2.06-.94 2.06-2.06.94z\"/><path d=\"M17.41 7.96l-1.37-1.37c-.4-.4-.92-.59-1.43-.59-.52 0-1.04.2-1.43.59L10.3 9.45l-7.72 7.72c-.78.78-.78 2.05 0 2.83L4 21.41c.39.39.9.59 1.41.59.51 0 1.02-.2 1.41-.59l7.78-7.78 2.81-2.81c.8-.78.8-2.07 0-2.86zM5.41 20L4 18.59l7.72-7.72 1.47 1.35L5.41 20z\"/>\n",
              "  </svg>\n",
              "      </button>\n",
              "      \n",
              "  <style>\n",
              "    .colab-df-container {\n",
              "      display:flex;\n",
              "      flex-wrap:wrap;\n",
              "      gap: 12px;\n",
              "    }\n",
              "\n",
              "    .colab-df-convert {\n",
              "      background-color: #E8F0FE;\n",
              "      border: none;\n",
              "      border-radius: 50%;\n",
              "      cursor: pointer;\n",
              "      display: none;\n",
              "      fill: #1967D2;\n",
              "      height: 32px;\n",
              "      padding: 0 0 0 0;\n",
              "      width: 32px;\n",
              "    }\n",
              "\n",
              "    .colab-df-convert:hover {\n",
              "      background-color: #E2EBFA;\n",
              "      box-shadow: 0px 1px 2px rgba(60, 64, 67, 0.3), 0px 1px 3px 1px rgba(60, 64, 67, 0.15);\n",
              "      fill: #174EA6;\n",
              "    }\n",
              "\n",
              "    [theme=dark] .colab-df-convert {\n",
              "      background-color: #3B4455;\n",
              "      fill: #D2E3FC;\n",
              "    }\n",
              "\n",
              "    [theme=dark] .colab-df-convert:hover {\n",
              "      background-color: #434B5C;\n",
              "      box-shadow: 0px 1px 3px 1px rgba(0, 0, 0, 0.15);\n",
              "      filter: drop-shadow(0px 1px 2px rgba(0, 0, 0, 0.3));\n",
              "      fill: #FFFFFF;\n",
              "    }\n",
              "  </style>\n",
              "\n",
              "      <script>\n",
              "        const buttonEl =\n",
              "          document.querySelector('#df-463d1f46-a5d9-4932-a2a3-0feb15af42a6 button.colab-df-convert');\n",
              "        buttonEl.style.display =\n",
              "          google.colab.kernel.accessAllowed ? 'block' : 'none';\n",
              "\n",
              "        async function convertToInteractive(key) {\n",
              "          const element = document.querySelector('#df-463d1f46-a5d9-4932-a2a3-0feb15af42a6');\n",
              "          const dataTable =\n",
              "            await google.colab.kernel.invokeFunction('convertToInteractive',\n",
              "                                                     [key], {});\n",
              "          if (!dataTable) return;\n",
              "\n",
              "          const docLinkHtml = 'Like what you see? Visit the ' +\n",
              "            '<a target=\"_blank\" href=https://colab.research.google.com/notebooks/data_table.ipynb>data table notebook</a>'\n",
              "            + ' to learn more about interactive tables.';\n",
              "          element.innerHTML = '';\n",
              "          dataTable['output_type'] = 'display_data';\n",
              "          await google.colab.output.renderOutput(dataTable, element);\n",
              "          const docLink = document.createElement('div');\n",
              "          docLink.innerHTML = docLinkHtml;\n",
              "          element.appendChild(docLink);\n",
              "        }\n",
              "      </script>\n",
              "    </div>\n",
              "  </div>\n",
              "  "
            ]
          },
          "metadata": {},
          "execution_count": 4
        }
      ]
    },
    {
      "cell_type": "code",
      "source": [
        "print(test_df['Text'][279])\n",
        "print(test_df['Text'][516])\n",
        "print(test_df['Text'][546])\n",
        "print(test_df['Text'][555])\n",
        "print(test_df['Text'][559])\n",
        "print(test_df['Text'][570])"
      ],
      "metadata": {
        "colab": {
          "base_uri": "https://localhost:8080/"
        },
        "id": "6_HrrOQQ7VS6",
        "outputId": "168fb8a3-9624-44c6-8c7f-560c8aa4d3d1"
      },
      "execution_count": 5,
      "outputs": [
        {
          "output_type": "stream",
          "name": "stdout",
          "text": [
            "திருநங்கை இல்லை திருட்டுநங்கைனு சொல்லுங்க ஐய்ந்து ரூபாய் கொடுத்தால் வாங்க மாட்டானுக பத்துரூபாய்தான் வேனுமாம் என் கடையில் என் மனைவியிடம் பலமுறை பிரச்சனை பன்னிருக்கானுக கையில சிக்கல சிக்குரப்போ இருக்கு வாணவேடிக்கை\n",
            "காவல்துறைக்கு இதெல்லாம் கண்ணுக்கு தெரியாதா.....\n",
            "அதுல வெஷத்த கலக்க வச்சுடாதிங்க\n",
            "அசிங்கமாக திட்டுவார்கள் கொலையும் செய்வார்கள்\n",
            "Nanum oru thirunangai than yaro oru silar ipdi nadanthatharku ottu motha maguthayum ilivaga pesuvathi niruthungal avargal apdi nadanthukolla anga enna nadanthathu endru namakku yarukum theriyathu avarkal odrum araka manam komdavargal ilai athai mothalil Nan Ariya vendum angal,pengalilum iraka matra seyalgal sribavargal irukindrargal atharuku avargal mothathayum solla mudiyuma ?\n",
            "Indha mathiri pannuradha Partha mariyadhaiye pogudhu chi 😠😠😠\n"
          ]
        }
      ]
    },
    {
      "cell_type": "code",
      "source": [
        "train_df['text'][0]"
      ],
      "metadata": {
        "colab": {
          "base_uri": "https://localhost:8080/",
          "height": 36
        },
        "id": "bTzNpnEpfiIe",
        "outputId": "cd372dda-3008-48a5-ad6f-fa2d3d619aef"
      },
      "execution_count": 6,
      "outputs": [
        {
          "output_type": "execute_result",
          "data": {
            "text/plain": [
              "'Vani bhojam fans hit like solli 500 like Vangida Vendiyathu than'"
            ],
            "application/vnd.google.colaboratory.intrinsic+json": {
              "type": "string"
            }
          },
          "metadata": {},
          "execution_count": 6
        }
      ]
    },
    {
      "cell_type": "code",
      "source": [
        "train_df"
      ],
      "metadata": {
        "colab": {
          "base_uri": "https://localhost:8080/",
          "height": 468
        },
        "id": "1Pd-WG7F8hpF",
        "outputId": "98b343e7-6ccc-4b81-c00a-8950f53abc3e"
      },
      "execution_count": 7,
      "outputs": [
        {
          "output_type": "execute_result",
          "data": {
            "text/plain": [
              "                                                    text        category\n",
              "0      Vani bhojam fans hit like solli 500 like Vangi...   unknown_state\n",
              "1                           I love you ajith very I like        Positive\n",
              "2      ennaya trailer Ku mudi Ellam nikkudhu... Vera ...        Positive\n",
              "3               Vijay Annaa  Ur Maassssss Therrrrriiiiii        Positive\n",
              "4                            நம்ப நடே நாசாமா தான் போச்சி        Negative\n",
              "...                                                  ...             ...\n",
              "35651  ஒருவர் செய்த தவறுக்காக எல்லாரையும் பழி போடுவது...  Mixed_feelings\n",
              "35652  Repeated Mode to Watching Theri Trailer & Ther...        Positive\n",
              "35653  yeevanikuachu  pula kutti erudhal oodi poyidu....        Negative\n",
              "35654                 She is looking like laughing budha        Positive\n",
              "35655                   NORTH OR SOUTH KGF IS THE BEST!!        Positive\n",
              "\n",
              "[35656 rows x 2 columns]"
            ],
            "text/html": [
              "\n",
              "  <div id=\"df-0e10f3d0-9872-47a7-b4eb-7efe134e5c83\">\n",
              "    <div class=\"colab-df-container\">\n",
              "      <div>\n",
              "<style scoped>\n",
              "    .dataframe tbody tr th:only-of-type {\n",
              "        vertical-align: middle;\n",
              "    }\n",
              "\n",
              "    .dataframe tbody tr th {\n",
              "        vertical-align: top;\n",
              "    }\n",
              "\n",
              "    .dataframe thead th {\n",
              "        text-align: right;\n",
              "    }\n",
              "</style>\n",
              "<table border=\"1\" class=\"dataframe\">\n",
              "  <thead>\n",
              "    <tr style=\"text-align: right;\">\n",
              "      <th></th>\n",
              "      <th>text</th>\n",
              "      <th>category</th>\n",
              "    </tr>\n",
              "  </thead>\n",
              "  <tbody>\n",
              "    <tr>\n",
              "      <th>0</th>\n",
              "      <td>Vani bhojam fans hit like solli 500 like Vangi...</td>\n",
              "      <td>unknown_state</td>\n",
              "    </tr>\n",
              "    <tr>\n",
              "      <th>1</th>\n",
              "      <td>I love you ajith very I like</td>\n",
              "      <td>Positive</td>\n",
              "    </tr>\n",
              "    <tr>\n",
              "      <th>2</th>\n",
              "      <td>ennaya trailer Ku mudi Ellam nikkudhu... Vera ...</td>\n",
              "      <td>Positive</td>\n",
              "    </tr>\n",
              "    <tr>\n",
              "      <th>3</th>\n",
              "      <td>Vijay Annaa  Ur Maassssss Therrrrriiiiii</td>\n",
              "      <td>Positive</td>\n",
              "    </tr>\n",
              "    <tr>\n",
              "      <th>4</th>\n",
              "      <td>நம்ப நடே நாசாமா தான் போச்சி</td>\n",
              "      <td>Negative</td>\n",
              "    </tr>\n",
              "    <tr>\n",
              "      <th>...</th>\n",
              "      <td>...</td>\n",
              "      <td>...</td>\n",
              "    </tr>\n",
              "    <tr>\n",
              "      <th>35651</th>\n",
              "      <td>ஒருவர் செய்த தவறுக்காக எல்லாரையும் பழி போடுவது...</td>\n",
              "      <td>Mixed_feelings</td>\n",
              "    </tr>\n",
              "    <tr>\n",
              "      <th>35652</th>\n",
              "      <td>Repeated Mode to Watching Theri Trailer &amp; Ther...</td>\n",
              "      <td>Positive</td>\n",
              "    </tr>\n",
              "    <tr>\n",
              "      <th>35653</th>\n",
              "      <td>yeevanikuachu  pula kutti erudhal oodi poyidu....</td>\n",
              "      <td>Negative</td>\n",
              "    </tr>\n",
              "    <tr>\n",
              "      <th>35654</th>\n",
              "      <td>She is looking like laughing budha</td>\n",
              "      <td>Positive</td>\n",
              "    </tr>\n",
              "    <tr>\n",
              "      <th>35655</th>\n",
              "      <td>NORTH OR SOUTH KGF IS THE BEST!!</td>\n",
              "      <td>Positive</td>\n",
              "    </tr>\n",
              "  </tbody>\n",
              "</table>\n",
              "<p>35656 rows × 2 columns</p>\n",
              "</div>\n",
              "      <button class=\"colab-df-convert\" onclick=\"convertToInteractive('df-0e10f3d0-9872-47a7-b4eb-7efe134e5c83')\"\n",
              "              title=\"Convert this dataframe to an interactive table.\"\n",
              "              style=\"display:none;\">\n",
              "        \n",
              "  <svg xmlns=\"http://www.w3.org/2000/svg\" height=\"24px\"viewBox=\"0 0 24 24\"\n",
              "       width=\"24px\">\n",
              "    <path d=\"M0 0h24v24H0V0z\" fill=\"none\"/>\n",
              "    <path d=\"M18.56 5.44l.94 2.06.94-2.06 2.06-.94-2.06-.94-.94-2.06-.94 2.06-2.06.94zm-11 1L8.5 8.5l.94-2.06 2.06-.94-2.06-.94L8.5 2.5l-.94 2.06-2.06.94zm10 10l.94 2.06.94-2.06 2.06-.94-2.06-.94-.94-2.06-.94 2.06-2.06.94z\"/><path d=\"M17.41 7.96l-1.37-1.37c-.4-.4-.92-.59-1.43-.59-.52 0-1.04.2-1.43.59L10.3 9.45l-7.72 7.72c-.78.78-.78 2.05 0 2.83L4 21.41c.39.39.9.59 1.41.59.51 0 1.02-.2 1.41-.59l7.78-7.78 2.81-2.81c.8-.78.8-2.07 0-2.86zM5.41 20L4 18.59l7.72-7.72 1.47 1.35L5.41 20z\"/>\n",
              "  </svg>\n",
              "      </button>\n",
              "      \n",
              "  <style>\n",
              "    .colab-df-container {\n",
              "      display:flex;\n",
              "      flex-wrap:wrap;\n",
              "      gap: 12px;\n",
              "    }\n",
              "\n",
              "    .colab-df-convert {\n",
              "      background-color: #E8F0FE;\n",
              "      border: none;\n",
              "      border-radius: 50%;\n",
              "      cursor: pointer;\n",
              "      display: none;\n",
              "      fill: #1967D2;\n",
              "      height: 32px;\n",
              "      padding: 0 0 0 0;\n",
              "      width: 32px;\n",
              "    }\n",
              "\n",
              "    .colab-df-convert:hover {\n",
              "      background-color: #E2EBFA;\n",
              "      box-shadow: 0px 1px 2px rgba(60, 64, 67, 0.3), 0px 1px 3px 1px rgba(60, 64, 67, 0.15);\n",
              "      fill: #174EA6;\n",
              "    }\n",
              "\n",
              "    [theme=dark] .colab-df-convert {\n",
              "      background-color: #3B4455;\n",
              "      fill: #D2E3FC;\n",
              "    }\n",
              "\n",
              "    [theme=dark] .colab-df-convert:hover {\n",
              "      background-color: #434B5C;\n",
              "      box-shadow: 0px 1px 3px 1px rgba(0, 0, 0, 0.15);\n",
              "      filter: drop-shadow(0px 1px 2px rgba(0, 0, 0, 0.3));\n",
              "      fill: #FFFFFF;\n",
              "    }\n",
              "  </style>\n",
              "\n",
              "      <script>\n",
              "        const buttonEl =\n",
              "          document.querySelector('#df-0e10f3d0-9872-47a7-b4eb-7efe134e5c83 button.colab-df-convert');\n",
              "        buttonEl.style.display =\n",
              "          google.colab.kernel.accessAllowed ? 'block' : 'none';\n",
              "\n",
              "        async function convertToInteractive(key) {\n",
              "          const element = document.querySelector('#df-0e10f3d0-9872-47a7-b4eb-7efe134e5c83');\n",
              "          const dataTable =\n",
              "            await google.colab.kernel.invokeFunction('convertToInteractive',\n",
              "                                                     [key], {});\n",
              "          if (!dataTable) return;\n",
              "\n",
              "          const docLinkHtml = 'Like what you see? Visit the ' +\n",
              "            '<a target=\"_blank\" href=https://colab.research.google.com/notebooks/data_table.ipynb>data table notebook</a>'\n",
              "            + ' to learn more about interactive tables.';\n",
              "          element.innerHTML = '';\n",
              "          dataTable['output_type'] = 'display_data';\n",
              "          await google.colab.output.renderOutput(dataTable, element);\n",
              "          const docLink = document.createElement('div');\n",
              "          docLink.innerHTML = docLinkHtml;\n",
              "          element.appendChild(docLink);\n",
              "        }\n",
              "      </script>\n",
              "    </div>\n",
              "  </div>\n",
              "  "
            ]
          },
          "metadata": {},
          "execution_count": 7
        }
      ]
    },
    {
      "cell_type": "code",
      "source": [
        "train_df['category'].value_counts()"
      ],
      "metadata": {
        "colab": {
          "base_uri": "https://localhost:8080/"
        },
        "id": "mrMR-a-aQ9uX",
        "outputId": "5944c9c9-b648-48fb-d3fe-26a0437c3900"
      },
      "execution_count": 8,
      "outputs": [
        {
          "output_type": "execute_result",
          "data": {
            "text/plain": [
              "Positive          20069\n",
              "unknown_state      5628\n",
              "Negative           4271\n",
              "Mixed_feelings     4020\n",
              "not-Tamil          1667\n",
              "Positive              1\n",
              "Name: category, dtype: int64"
            ]
          },
          "metadata": {},
          "execution_count": 8
        }
      ]
    },
    {
      "cell_type": "code",
      "source": [
        "valid_df['category'].value_counts()"
      ],
      "metadata": {
        "colab": {
          "base_uri": "https://localhost:8080/"
        },
        "id": "2yAsZyOuULmo",
        "outputId": "2198ce57-3704-4cdd-c860-3bb0503923c8"
      },
      "execution_count": 9,
      "outputs": [
        {
          "output_type": "execute_result",
          "data": {
            "text/plain": [
              "Positive          2257\n",
              "unknown_state      611\n",
              "Negative           480\n",
              "Mixed_feelings     438\n",
              "not-Tamil          176\n",
              "Name: category, dtype: int64"
            ]
          },
          "metadata": {},
          "execution_count": 9
        }
      ]
    },
    {
      "cell_type": "code",
      "source": [
        "valid_df"
      ],
      "metadata": {
        "colab": {
          "base_uri": "https://localhost:8080/",
          "height": 468
        },
        "id": "jMIYC_BUfmBx",
        "outputId": "7f985559-6be8-41f7-e8b2-0768eb5f073e"
      },
      "execution_count": 10,
      "outputs": [
        {
          "output_type": "execute_result",
          "data": {
            "text/plain": [
              "                                                   text        category\n",
              "0     @0:40 songsuperb..kamallllla..  I'm waiting fo...   unknown_state\n",
              "1     கணத்ததோர் அகமுடையார் சார்பாக  படம் வெற்றி அடைய...        Positive\n",
              "2     Thalavia neenga veera level boss and neega tha...        Positive\n",
              "3                 Oru padam patha fell.vera level music        Positive\n",
              "4     Hairstyle than mattama iruku. Adhu mattum math...   unknown_state\n",
              "...                                                 ...             ...\n",
              "3957  நாடக காதல் மிகப்பெரிய தவறு. இதை தான் இந்த படம்...        Positive\n",
              "3958                          So long to see you suriya       not-Tamil\n",
              "3959  Super  sK  ettan adipoli makkalle dec20  waiti...  Mixed_feelings\n",
              "3960      Minimum 50m viewa vara veppoma all thala fans        Positive\n",
              "3961                     Vera Vera level da version 2.0        Positive\n",
              "\n",
              "[3962 rows x 2 columns]"
            ],
            "text/html": [
              "\n",
              "  <div id=\"df-aaceb46c-8cab-4685-ba43-5e9e1f802751\">\n",
              "    <div class=\"colab-df-container\">\n",
              "      <div>\n",
              "<style scoped>\n",
              "    .dataframe tbody tr th:only-of-type {\n",
              "        vertical-align: middle;\n",
              "    }\n",
              "\n",
              "    .dataframe tbody tr th {\n",
              "        vertical-align: top;\n",
              "    }\n",
              "\n",
              "    .dataframe thead th {\n",
              "        text-align: right;\n",
              "    }\n",
              "</style>\n",
              "<table border=\"1\" class=\"dataframe\">\n",
              "  <thead>\n",
              "    <tr style=\"text-align: right;\">\n",
              "      <th></th>\n",
              "      <th>text</th>\n",
              "      <th>category</th>\n",
              "    </tr>\n",
              "  </thead>\n",
              "  <tbody>\n",
              "    <tr>\n",
              "      <th>0</th>\n",
              "      <td>@0:40 songsuperb..kamallllla..  I'm waiting fo...</td>\n",
              "      <td>unknown_state</td>\n",
              "    </tr>\n",
              "    <tr>\n",
              "      <th>1</th>\n",
              "      <td>கணத்ததோர் அகமுடையார் சார்பாக  படம் வெற்றி அடைய...</td>\n",
              "      <td>Positive</td>\n",
              "    </tr>\n",
              "    <tr>\n",
              "      <th>2</th>\n",
              "      <td>Thalavia neenga veera level boss and neega tha...</td>\n",
              "      <td>Positive</td>\n",
              "    </tr>\n",
              "    <tr>\n",
              "      <th>3</th>\n",
              "      <td>Oru padam patha fell.vera level music</td>\n",
              "      <td>Positive</td>\n",
              "    </tr>\n",
              "    <tr>\n",
              "      <th>4</th>\n",
              "      <td>Hairstyle than mattama iruku. Adhu mattum math...</td>\n",
              "      <td>unknown_state</td>\n",
              "    </tr>\n",
              "    <tr>\n",
              "      <th>...</th>\n",
              "      <td>...</td>\n",
              "      <td>...</td>\n",
              "    </tr>\n",
              "    <tr>\n",
              "      <th>3957</th>\n",
              "      <td>நாடக காதல் மிகப்பெரிய தவறு. இதை தான் இந்த படம்...</td>\n",
              "      <td>Positive</td>\n",
              "    </tr>\n",
              "    <tr>\n",
              "      <th>3958</th>\n",
              "      <td>So long to see you suriya</td>\n",
              "      <td>not-Tamil</td>\n",
              "    </tr>\n",
              "    <tr>\n",
              "      <th>3959</th>\n",
              "      <td>Super  sK  ettan adipoli makkalle dec20  waiti...</td>\n",
              "      <td>Mixed_feelings</td>\n",
              "    </tr>\n",
              "    <tr>\n",
              "      <th>3960</th>\n",
              "      <td>Minimum 50m viewa vara veppoma all thala fans</td>\n",
              "      <td>Positive</td>\n",
              "    </tr>\n",
              "    <tr>\n",
              "      <th>3961</th>\n",
              "      <td>Vera Vera level da version 2.0</td>\n",
              "      <td>Positive</td>\n",
              "    </tr>\n",
              "  </tbody>\n",
              "</table>\n",
              "<p>3962 rows × 2 columns</p>\n",
              "</div>\n",
              "      <button class=\"colab-df-convert\" onclick=\"convertToInteractive('df-aaceb46c-8cab-4685-ba43-5e9e1f802751')\"\n",
              "              title=\"Convert this dataframe to an interactive table.\"\n",
              "              style=\"display:none;\">\n",
              "        \n",
              "  <svg xmlns=\"http://www.w3.org/2000/svg\" height=\"24px\"viewBox=\"0 0 24 24\"\n",
              "       width=\"24px\">\n",
              "    <path d=\"M0 0h24v24H0V0z\" fill=\"none\"/>\n",
              "    <path d=\"M18.56 5.44l.94 2.06.94-2.06 2.06-.94-2.06-.94-.94-2.06-.94 2.06-2.06.94zm-11 1L8.5 8.5l.94-2.06 2.06-.94-2.06-.94L8.5 2.5l-.94 2.06-2.06.94zm10 10l.94 2.06.94-2.06 2.06-.94-2.06-.94-.94-2.06-.94 2.06-2.06.94z\"/><path d=\"M17.41 7.96l-1.37-1.37c-.4-.4-.92-.59-1.43-.59-.52 0-1.04.2-1.43.59L10.3 9.45l-7.72 7.72c-.78.78-.78 2.05 0 2.83L4 21.41c.39.39.9.59 1.41.59.51 0 1.02-.2 1.41-.59l7.78-7.78 2.81-2.81c.8-.78.8-2.07 0-2.86zM5.41 20L4 18.59l7.72-7.72 1.47 1.35L5.41 20z\"/>\n",
              "  </svg>\n",
              "      </button>\n",
              "      \n",
              "  <style>\n",
              "    .colab-df-container {\n",
              "      display:flex;\n",
              "      flex-wrap:wrap;\n",
              "      gap: 12px;\n",
              "    }\n",
              "\n",
              "    .colab-df-convert {\n",
              "      background-color: #E8F0FE;\n",
              "      border: none;\n",
              "      border-radius: 50%;\n",
              "      cursor: pointer;\n",
              "      display: none;\n",
              "      fill: #1967D2;\n",
              "      height: 32px;\n",
              "      padding: 0 0 0 0;\n",
              "      width: 32px;\n",
              "    }\n",
              "\n",
              "    .colab-df-convert:hover {\n",
              "      background-color: #E2EBFA;\n",
              "      box-shadow: 0px 1px 2px rgba(60, 64, 67, 0.3), 0px 1px 3px 1px rgba(60, 64, 67, 0.15);\n",
              "      fill: #174EA6;\n",
              "    }\n",
              "\n",
              "    [theme=dark] .colab-df-convert {\n",
              "      background-color: #3B4455;\n",
              "      fill: #D2E3FC;\n",
              "    }\n",
              "\n",
              "    [theme=dark] .colab-df-convert:hover {\n",
              "      background-color: #434B5C;\n",
              "      box-shadow: 0px 1px 3px 1px rgba(0, 0, 0, 0.15);\n",
              "      filter: drop-shadow(0px 1px 2px rgba(0, 0, 0, 0.3));\n",
              "      fill: #FFFFFF;\n",
              "    }\n",
              "  </style>\n",
              "\n",
              "      <script>\n",
              "        const buttonEl =\n",
              "          document.querySelector('#df-aaceb46c-8cab-4685-ba43-5e9e1f802751 button.colab-df-convert');\n",
              "        buttonEl.style.display =\n",
              "          google.colab.kernel.accessAllowed ? 'block' : 'none';\n",
              "\n",
              "        async function convertToInteractive(key) {\n",
              "          const element = document.querySelector('#df-aaceb46c-8cab-4685-ba43-5e9e1f802751');\n",
              "          const dataTable =\n",
              "            await google.colab.kernel.invokeFunction('convertToInteractive',\n",
              "                                                     [key], {});\n",
              "          if (!dataTable) return;\n",
              "\n",
              "          const docLinkHtml = 'Like what you see? Visit the ' +\n",
              "            '<a target=\"_blank\" href=https://colab.research.google.com/notebooks/data_table.ipynb>data table notebook</a>'\n",
              "            + ' to learn more about interactive tables.';\n",
              "          element.innerHTML = '';\n",
              "          dataTable['output_type'] = 'display_data';\n",
              "          await google.colab.output.renderOutput(dataTable, element);\n",
              "          const docLink = document.createElement('div');\n",
              "          docLink.innerHTML = docLinkHtml;\n",
              "          element.appendChild(docLink);\n",
              "        }\n",
              "      </script>\n",
              "    </div>\n",
              "  </div>\n",
              "  "
            ]
          },
          "metadata": {},
          "execution_count": 10
        }
      ]
    },
    {
      "cell_type": "code",
      "source": [
        "valid_df['text']"
      ],
      "metadata": {
        "colab": {
          "base_uri": "https://localhost:8080/"
        },
        "id": "_Z7_EkWKfrHX",
        "outputId": "838746fc-7a3f-4817-e726-dbd4df6dd490"
      },
      "execution_count": 11,
      "outputs": [
        {
          "output_type": "execute_result",
          "data": {
            "text/plain": [
              "0       @0:40 songsuperb..kamallllla..  I'm waiting fo...\n",
              "1       கணத்ததோர் அகமுடையார் சார்பாக  படம் வெற்றி அடைய...\n",
              "2       Thalavia neenga veera level boss and neega tha...\n",
              "3                   Oru padam patha fell.vera level music\n",
              "4       Hairstyle than mattama iruku. Adhu mattum math...\n",
              "                              ...                        \n",
              "3957    நாடக காதல் மிகப்பெரிய தவறு. இதை தான் இந்த படம்...\n",
              "3958                            So long to see you suriya\n",
              "3959    Super  sK  ettan adipoli makkalle dec20  waiti...\n",
              "3960        Minimum 50m viewa vara veppoma all thala fans\n",
              "3961                       Vera Vera level da version 2.0\n",
              "Name: text, Length: 3962, dtype: object"
            ]
          },
          "metadata": {},
          "execution_count": 11
        }
      ]
    },
    {
      "cell_type": "code",
      "source": [
        "len(train_df)"
      ],
      "metadata": {
        "colab": {
          "base_uri": "https://localhost:8080/"
        },
        "id": "FljAIGQEqQel",
        "outputId": "8427d7d1-7d0e-4153-ae65-47ccad388ece"
      },
      "execution_count": 12,
      "outputs": [
        {
          "output_type": "execute_result",
          "data": {
            "text/plain": [
              "35656"
            ]
          },
          "metadata": {},
          "execution_count": 12
        }
      ]
    },
    {
      "cell_type": "code",
      "source": [
        "for i in range(len(train_df)):\n",
        "  if (train_df['category'][i] == 'Positive '):\n",
        "    print(i)"
      ],
      "metadata": {
        "colab": {
          "base_uri": "https://localhost:8080/"
        },
        "id": "mbWr9YIQqSaq",
        "outputId": "d89f7b27-7185-4b1a-a78c-0dd314e0b4a7"
      },
      "execution_count": 13,
      "outputs": [
        {
          "output_type": "stream",
          "name": "stdout",
          "text": [
            "32852\n"
          ]
        }
      ]
    },
    {
      "cell_type": "code",
      "source": [
        "train_df['category'][32852]"
      ],
      "metadata": {
        "colab": {
          "base_uri": "https://localhost:8080/",
          "height": 36
        },
        "id": "Gxviux-Xsn06",
        "outputId": "9e5ba983-e35d-4966-b6ed-1028d731a014"
      },
      "execution_count": 14,
      "outputs": [
        {
          "output_type": "execute_result",
          "data": {
            "text/plain": [
              "'Positive '"
            ],
            "application/vnd.google.colaboratory.intrinsic+json": {
              "type": "string"
            }
          },
          "metadata": {},
          "execution_count": 14
        }
      ]
    },
    {
      "cell_type": "code",
      "source": [
        "train_df['category'][32852] = 'Positive'\n",
        "train_df['category'][32852]"
      ],
      "metadata": {
        "colab": {
          "base_uri": "https://localhost:8080/",
          "height": 36
        },
        "id": "LDc9t7WosqQN",
        "outputId": "0a564b23-31dc-48eb-a238-417887802f8b"
      },
      "execution_count": 15,
      "outputs": [
        {
          "output_type": "execute_result",
          "data": {
            "text/plain": [
              "'Positive'"
            ],
            "application/vnd.google.colaboratory.intrinsic+json": {
              "type": "string"
            }
          },
          "metadata": {},
          "execution_count": 15
        }
      ]
    },
    {
      "cell_type": "code",
      "source": [
        "def deEmojify(text):\n",
        "    regrex_pattern = re.compile(pattern = \"[\"\n",
        "        u\"\\U0001F600-\\U0001F64F\"  # emoticons\n",
        "        u\"\\U0001F300-\\U0001F5FF\"  # symbols & pictographs\n",
        "        u\"\\U0001F680-\\U0001F6FF\"  # transport & map symbols\n",
        "        u\"\\U0001F1E0-\\U0001F1FF\"  # flags (iOS)\n",
        "        u\"\\U00002500-\\U00002BEF\"  # chinese char\n",
        "        u\"\\U00002702-\\U000027B0\"\n",
        "        u\"\\U00002702-\\U000027B0\"\n",
        "        u\"\\U000024C2-\\U0001F251\"\n",
        "        u\"\\U0001f926-\\U0001f937\"\n",
        "        u\"\\U00010000-\\U0010ffff\"\n",
        "        u\"\\u2640-\\u2642\"\n",
        "        u\"\\u2600-\\u2B55\"\n",
        "        u\"\\u200d\"\n",
        "        u\"\\u23cf\"\n",
        "        u\"\\u23e9\"\n",
        "        u\"\\u231a\"\n",
        "        u\"\\ufe0f\"  # dingbats\n",
        "        u\"\\u3030\"\n",
        "        \"]+\", flags = re.UNICODE)\n",
        "    return regrex_pattern.sub(r'',text)\n",
        "\n",
        "\n",
        "for i in range(len(train_df)):\n",
        "    temp1 = deEmojify(train_df['text'][i])\n",
        "    train_df['text'][i] = temp1\n",
        "\n",
        "for j in range(len(valid_df)):\n",
        "    temp2 = deEmojify(valid_df['text'][j])\n",
        "    valid_df['text'][j] = temp2\n",
        "\n",
        "for k in range(len(test_df)):\n",
        "    temp3 = deEmojify(test_df['Text'][k])\n",
        "    test_df['Text'][k]=temp3"
      ],
      "metadata": {
        "id": "bw6kmhxhtwhA"
      },
      "execution_count": 16,
      "outputs": []
    },
    {
      "cell_type": "code",
      "source": [
        "print(test_df['Text'][516])\n",
        "print(test_df['Text'][546])\n",
        "print(test_df['Text'][555])\n",
        "print(test_df['Text'][559])\n",
        "print(test_df['Text'][570])"
      ],
      "metadata": {
        "colab": {
          "base_uri": "https://localhost:8080/"
        },
        "id": "74vdHVsE8z1Q",
        "outputId": "567b8918-d6f6-4868-c095-d46588f9e03d"
      },
      "execution_count": 17,
      "outputs": [
        {
          "output_type": "stream",
          "name": "stdout",
          "text": [
            "காவல்துறைக்கு இதெல்லாம் கண்ணுக்கு தெரியாதா.....\n",
            "அதுல வெஷத்த கலக்க வச்சுடாதிங்க\n",
            "அசிங்கமாக திட்டுவார்கள் கொலையும் செய்வார்கள்\n",
            "Nanum oru thirunangai than yaro oru silar ipdi nadanthatharku ottu motha maguthayum ilivaga pesuvathi niruthungal avargal apdi nadanthukolla anga enna nadanthathu endru namakku yarukum theriyathu avarkal odrum araka manam komdavargal ilai athai mothalil Nan Ariya vendum angal,pengalilum iraka matra seyalgal sribavargal irukindrargal atharuku avargal mothathayum solla mudiyuma ?\n",
            "Indha mathiri pannuradha Partha mariyadhaiye pogudhu chi \n"
          ]
        }
      ]
    },
    {
      "cell_type": "code",
      "source": [
        "def preprocess_data(text):\n",
        "  user_name = '@[A-Za-z0-9]+' # Pattern for matching the user names in the tweet\n",
        "  has_tag = '#[A-Za-z0-9]+' # Pattern for matching the hasgtags in the tweer\n",
        "  url = 'https?:\\/\\/[A-Za-z0-9\\.\\/\\-]+' # Pattern for matching the URLs in the tweet\n",
        "  #emoji_pattern = r'/[x{1F600}-x{1F64F}]/u'\n",
        "  \n",
        "  x = text.lower()  # Lower casing all the characters\n",
        "  x = re.sub(user_name, '', x) # Replace the username with an empty characrer\n",
        "  x = re.sub(has_tag,'',x) # Replace the hashtags with an empty characrer\n",
        "  x = re.sub(url, '', x) # Replace the URLs with an empty characrer\n",
        "  #x = re.sub(emoji_pattern, '', x)\n",
        "  x = x.translate(str.maketrans('', '', string.punctuation)) # Replace all the characters except alphabets and digits from the tweet\n",
        "\n",
        "  return x"
      ],
      "metadata": {
        "id": "ehl5FteM9euc"
      },
      "execution_count": 18,
      "outputs": []
    },
    {
      "cell_type": "code",
      "source": [
        "train_df['text'] = train_df['text'].apply(lambda x: preprocess_data(x)) # Apply the clean_data() to all the entries in the dataframe\n",
        "valid_df['text'] = valid_df['text'].apply(lambda x: preprocess_data(x)) # Apply the clean_data() to all the entries in the dataframe\n",
        "test_df['Text'] = test_df['Text'].apply(lambda x: preprocess_data(x)) # Apply the clean_data() to all the entries in the dataframe"
      ],
      "metadata": {
        "id": "5V_Ch-4I9l1b"
      },
      "execution_count": 19,
      "outputs": []
    },
    {
      "cell_type": "code",
      "source": [
        "print(test_df['Text'][279])\n",
        "print(test_df['Text'][516])\n",
        "print(test_df['Text'][546])\n",
        "print(test_df['Text'][555])\n",
        "print(test_df['Text'][559])\n",
        "print(test_df['Text'][570])"
      ],
      "metadata": {
        "colab": {
          "base_uri": "https://localhost:8080/"
        },
        "id": "bdRvcuk_9zi8",
        "outputId": "7eabc3a7-c448-4a21-96e9-87934d2e1791"
      },
      "execution_count": 20,
      "outputs": [
        {
          "output_type": "stream",
          "name": "stdout",
          "text": [
            "திருநங்கை இல்லை திருட்டுநங்கைனு சொல்லுங்க ஐய்ந்து ரூபாய் கொடுத்தால் வாங்க மாட்டானுக பத்துரூபாய்தான் வேனுமாம் என் கடையில் என் மனைவியிடம் பலமுறை பிரச்சனை பன்னிருக்கானுக கையில சிக்கல சிக்குரப்போ இருக்கு வாணவேடிக்கை\n",
            "காவல்துறைக்கு இதெல்லாம் கண்ணுக்கு தெரியாதா\n",
            "அதுல வெஷத்த கலக்க வச்சுடாதிங்க\n",
            "அசிங்கமாக திட்டுவார்கள் கொலையும் செய்வார்கள்\n",
            "nanum oru thirunangai than yaro oru silar ipdi nadanthatharku ottu motha maguthayum ilivaga pesuvathi niruthungal avargal apdi nadanthukolla anga enna nadanthathu endru namakku yarukum theriyathu avarkal odrum araka manam komdavargal ilai athai mothalil nan ariya vendum angalpengalilum iraka matra seyalgal sribavargal irukindrargal atharuku avargal mothathayum solla mudiyuma \n",
            "indha mathiri pannuradha partha mariyadhaiye pogudhu chi \n"
          ]
        }
      ]
    },
    {
      "cell_type": "code",
      "source": [
        "valid_df['text'][0]"
      ],
      "metadata": {
        "colab": {
          "base_uri": "https://localhost:8080/",
          "height": 36
        },
        "id": "p9fdeiD_91ae",
        "outputId": "ad592b5f-4f32-434d-8079-aa75226d0cfd"
      },
      "execution_count": 21,
      "outputs": [
        {
          "output_type": "execute_result",
          "data": {
            "text/plain": [
              "'40 songsuperbkamallllla  im waiting for dis song you'"
            ],
            "application/vnd.google.colaboratory.intrinsic+json": {
              "type": "string"
            }
          },
          "metadata": {},
          "execution_count": 21
        }
      ]
    },
    {
      "cell_type": "code",
      "source": [
        "print(train_df)\n",
        "print()\n",
        "#print(valid_df.head())\n",
        "#print()\n",
        "print(valid_df)\n",
        "print()\n",
        "print(test_df)"
      ],
      "metadata": {
        "colab": {
          "base_uri": "https://localhost:8080/"
        },
        "id": "H_ww5leU98jp",
        "outputId": "aa97c91a-8aa5-4c5d-95cb-186391ef5c8c"
      },
      "execution_count": 22,
      "outputs": [
        {
          "output_type": "stream",
          "name": "stdout",
          "text": [
            "                                                    text        category\n",
            "0      vani bhojam fans hit like solli 500 like vangi...   unknown_state\n",
            "1                           i love you ajith very i like        Positive\n",
            "2      ennaya trailer ku mudi ellam nikkudhu vera lev...        Positive\n",
            "3               vijay annaa  ur maassssss therrrrriiiiii        Positive\n",
            "4                            நம்ப நடே நாசாமா தான் போச்சி        Negative\n",
            "...                                                  ...             ...\n",
            "35651  ஒருவர் செய்த தவறுக்காக எல்லாரையும் பழி போடுவது...  Mixed_feelings\n",
            "35652  repeated mode to watching theri trailer  theri...        Positive\n",
            "35653  yeevanikuachu  pula kutti erudhal oodi poyidu ...        Negative\n",
            "35654                 she is looking like laughing budha        Positive\n",
            "35655                     north or south kgf is the best        Positive\n",
            "\n",
            "[35656 rows x 2 columns]\n",
            "\n",
            "                                                   text        category\n",
            "0     40 songsuperbkamallllla  im waiting for dis so...   unknown_state\n",
            "1     கணத்ததோர் அகமுடையார் சார்பாக  படம் வெற்றி அடைய...        Positive\n",
            "2     thalavia neenga veera level boss and neega tha...        Positive\n",
            "3                  oru padam patha fellvera level music        Positive\n",
            "4     hairstyle than mattama iruku adhu mattum mathi...   unknown_state\n",
            "...                                                 ...             ...\n",
            "3957  நாடக காதல் மிகப்பெரிய தவறு இதை தான் இந்த படம் ...        Positive\n",
            "3958                          so long to see you suriya       not-Tamil\n",
            "3959  super  sk  ettan adipoli makkalle dec20  waiti...  Mixed_feelings\n",
            "3960      minimum 50m viewa vara veppoma all thala fans        Positive\n",
            "3961                      vera vera level da version 20        Positive\n",
            "\n",
            "[3962 rows x 2 columns]\n",
            "\n",
            "          id                                               Text\n",
            "0     TAM_01                         இது புதுவகை கொள்ளை கூட்டம்\n",
            "1     TAM_02  சுட்டுக்கொல்ல வேண்டும் அல்லது குண்டர் சட்டத்தி...\n",
            "2     TAM_03  இந்த திருநங்கைகள் பொதுமக்களுக்கு பொது இடங்களில...\n",
            "3     TAM_04  அராஜகம் செய்து தங்களுடைய மதிப்பை தாங்களே கெடுத...\n",
            "4     TAM_05  தவறான விடையம் சகோஅந்த பொண்டுகப் புண்டாமகன்ளுக்...\n",
            "..       ...                                                ...\n",
            "644  TAM_645               பல நாள் திருடன் ஒரு நாள் அகப்படுவான்\n",
            "645  TAM_646  கர்நாடாகாவில் இருந்து தமிழர்களைகாவிரி பிரச்சனை...\n",
            "646  TAM_647               கருணா பெயர் கொண்ட நாடு கறு நாடு அகம்\n",
            "647  TAM_648      venkatraman rn கார் மழை  நாடு அகம்  கர்நாடகம்\n",
            "648  TAM_649            நமது பெண்களை கேவலப்படுத்திய முன்னோர்கள்\n",
            "\n",
            "[649 rows x 2 columns]\n"
          ]
        }
      ]
    },
    {
      "cell_type": "code",
      "source": [
        "train_text = train_df['text'].tolist()\n",
        "valid_text = valid_df['text'].tolist()\n",
        "test_text = test_df['Text'].tolist()\n",
        "\n",
        "train_label = train_df['category'].tolist()\n",
        "valid_label = valid_df['category'].tolist()"
      ],
      "metadata": {
        "id": "EW2ZtYI19-3I"
      },
      "execution_count": 23,
      "outputs": []
    },
    {
      "cell_type": "code",
      "source": [
        "test_text"
      ],
      "metadata": {
        "colab": {
          "base_uri": "https://localhost:8080/"
        },
        "id": "_Aqjuf6x-E7r",
        "outputId": "5ebbf0fd-5d9a-4b5f-e664-9eefa6835c57"
      },
      "execution_count": 24,
      "outputs": [
        {
          "output_type": "execute_result",
          "data": {
            "text/plain": [
              "['இது புதுவகை கொள்ளை கூட்டம்',\n",
              " 'சுட்டுக்கொல்ல வேண்டும் அல்லது குண்டர் சட்டத்தில் கைது செய்ய வேண்டும்',\n",
              " 'இந்த திருநங்கைகள் பொதுமக்களுக்கு பொது இடங்களில் பெரும் தொல்லையாக உள்ளார்கள்',\n",
              " 'அராஜகம் செய்து தங்களுடைய மதிப்பை தாங்களே கெடுத்துக்கொள்கிறார்கள்',\n",
              " 'தவறான விடையம் சகோஅந்த பொண்டுகப் புண்டாமகன்ளுக்கு என்ன மதிப்பு இருந்துச்சு',\n",
              " 'romba thollai pannuthunga yaarume ketka matangala',\n",
              " 'இதற்கு அரசாங்கமும் பொது மக்களும் இணைந்து ஒரு வழி செய்ய வேண்டும்  மிக கடுமையான நடவடிக்கை தேவை',\n",
              " 'பெங்களூரில் எங்க வீட்டு திருமணத்தில் இதேமாதிரி தொல்லை நடந்தது',\n",
              " 'yenna pannenga apro',\n",
              " 'ennoda anna mareagla kooda 2000 rupa kuduthadha povom illana sabam vitruvomnu mirattunanga',\n",
              " 'இப்போது இந்த 9தொல்லை அதிகமாக ஆயிருச்சு',\n",
              " 'என்று சொல்லாதீர்கள் திருநங்கை என்று கூறுங்கள் முதலில்',\n",
              " 'intha alinga vala thaguthi illatha jenmanga intha ulagathula chi enna karumamo ipdi thollai pannuthunga',\n",
              " 'ஆமாங்க சரியாக சொன்னீங்க',\n",
              " 'பணம் கொடுத்து பத்தல கேட்கலாம் ஆனால் பிரச்சினை வர வைப்பது இதற்கென்று மறைமுக துணை அடி ஆட்களும் இவர்கள் வளர்ப்பு உண்டு மிக மிக கடுமை பாதுகாப்பு அந்த குடும்பத்திற்கு கொடுங்க உருவம் வைத்து கொள்ளை ரவுடிசம் செய்து திருநங்கை பெயர் கெடுக்கும் இந்த மாதிரியான ஆட்கள் மீது மிக மிக கடுமை நடவடிக்கை வேண்டும்',\n",
              " 'tamilnadu la kalayana veetla vanthu ippadi pannranga kudukalana sabam vidranga pavam makkal',\n",
              " 'இவங்களுக்கு என்று தனி மாவட்டம் பிரித்து கொடுத்து அவர்கள் மத்த மாவட்டங்களுக்கு செல்ல கூடது என்று உத்தரவிட்டால் தான் உண்டு',\n",
              " 'இதுபோன்ற செயல்களால் ஒரு நாள் சமுதாயத்தில் இருந்து முற்றிலும் ஒதுக்கப்படலாம்',\n",
              " 'government evalavo salugai tharuthu athu use pani muneralam  entha oora iruthalum police erakkam katama action eduthaa thaan adanguvanga',\n",
              " 'ஒரு சுப காரியம் பண்ணும் பொழுது மனம் நோகும் படி செய்து விடுகிறார்கள்',\n",
              " 'amam oru nimmathi elama poguthu',\n",
              " 'காவல்துறை கண்டிப்பாக நடவடிக்கை எடுக்க வேண்டும்',\n",
              " 'இது தமிழ் நாட்டிலும் நடக்கின்றது நானே பாதிக்கப்பட்டு உள்ளேன்',\n",
              " 'இவங்களுக்கெல்லாம் பரிதாபம் கொள்ளகூடாது',\n",
              " 'இதுபோன்ற சம்பவம் எங்கள் புதுமனை புகுவிழாவில் நடந்தது ',\n",
              " '20000rs katanga nanga 2000rs thakodutham',\n",
              " 'அவரே கஷ்டப்பட்டு கிரகப்பிரவேசம் பண்ணா இவளுக இவனுக வந்து சாமி ஆடிட்டு போகுதுக ஆரம்பமே அமர்க்களம் ',\n",
              " 'sleaper yaduthu adiga',\n",
              " 'govt should take action',\n",
              " 'rammurthy nagar romba decent areai was there rammurthy nagar 10th cross 12 years',\n",
              " 'karnataga la matum eila eaylam place la apdithan nadakuthu',\n",
              " 'சென்னையிலும் புறநகர் ரயில்களில் ஒம்போதுகளின் அராஜகம் எல்லைமீறி போகிறது காலை 5 மணிக்கே பூங்கா நகர் ரயில்நிலையத்தில் ரயிலில் ஏறி பணம் கேட்டு அராஜகம் செய்கிறார்கள்',\n",
              " 'government take this type of peoples civiliar actions',\n",
              " 'இதே போல் என் திருமணத்தில் நடந்துள்ளது',\n",
              " 'hello eallarum apadi illa nanum tirunagai than  nalaiku si exam elutha poren tnpsc grp 2 eluthiruken theriyama ellarum ore mathiri nu ninaikathinga',\n",
              " 'seiyarathala thana apadi nenaikuromunga community people ku intha awareness kudunga ipdi nadanthuka koodathu nuoruthavanga senjalum elarukum ketta peru vara thaanga seiyum',\n",
              " 'appo niraya aambala pombalainga kuda than niraya thappu seiranga athanala ealla aambala pombalaiyum ketavanga nu sonna othupingala',\n",
              " ' a yenga population la majority uh irukaravangalukum minority uh irukaravangalukum difference ilaya minority uh irukura neenga thappu senja athu perusa thaanga teriyumbut elarukum neenga thappanavanganu thought generalise aagurathukulaneenga unga community kulla ethavathu seinga',\n",
              " 'என்னிடம் ஏதாவது ஒரு திருநங்கை ஒம்போது ஒத்த ரூபாய் கேட்டாலும் மண்டையை உடைத்துவிடுவேன்',\n",
              " 'என்ன சார் பண்றதுபஸ் ரயில் ஏதாவது வீட்ல விசேசம் என எங்க பார்த்தாலும் இதுங்க தொல்லை தாங்கமுடியல சார்உங்கள மாதிரி எனக்கும் கோபம் வரத்தான் செய்கிறதுஅதுங்க சாபம் பொல்லாதது  அப்படின்னு சொல்றாங்க சகிச்சிட்டு இருக்கத்தான் வேணும்',\n",
              " 'they are losing the empathy by way scolding people on the grahapravesam day decent money he offered demanding huge sum is atrocious',\n",
              " 'இரக்கப்பட்டா இருக்க வேண்டிய எல்லாம் கேட்டா தருமம் பண்ண வேண்டாம்வேலை கொடுங்கசெய்ய மாட்டாங்கஒரு சில நல்ல உள்ளங்கள் சமைக்க தெரிந்தது சமையல் வேலைக்கு வராங்கஅவங்கள பாராட்டியே ஆக வேணும்',\n",
              " '2500 kooduka vanda manase perusu vaangitu pogama 40000 ova venum mamla chetapayale nakku',\n",
              " 'idhunga tholla thangla anyayam panudhunga',\n",
              " 'hotel vechu govrama vaalra thirunangaigalum irukaangaithu pondra theru porukki kalum irukaanga',\n",
              " '9 worst people not only bangalore everywhere first actor lawrence ah slippers la adikanum',\n",
              " 'இவர்களை எல்லாம் வெட்டி விட வேண்டும்',\n",
              " 'enda veedu function analu first poiduvangu  torture panrangu',\n",
              " 'இவர்களின் வாழ்வாதாரத்திற்கு அரசு இப்பொழுது பல வாய்ப்புகளை செய்து கொடுத்துள்ளது',\n",
              " 'ஒரு சிலர் செய்யும் தவறால் மற்ற திருநங்கையரின் மதிப்பும் குறைகிறது',\n",
              " 'இவர்களுக்கு சலுகை அளித்து வளர்த்து விட்டதே அரசாங்கம் தான்',\n",
              " 'இவர்களை போலீஸ் கொண்டு போய் சூ லாடம் கட்டவேண்டும்',\n",
              " 'உங்களை என்ன சொல்றதுன்னு தெரியலை ',\n",
              " 'police pls take action',\n",
              " 'intha naaigal attagasam thangalai',\n",
              " 'chennai shop they will come in auto enter suddenly to shop 3 4 nos will give one lemon and 10rs then they will ask 1000 minimum and shout badly',\n",
              " 'thirunangaikaluku naam response kuduthu palaginalum avargal sila nerangalil avargalin seyal mugam sulika vaikirathu',\n",
              " 'enga veedu girahappravesathlayum epdi thaan pannanga 20000 kettanga enga husband kudukala a vudane saabam vittanga nalla eruka maati ganu',\n",
              " 'avanga sabam yellam palikadhu adhu oru miratal thaan avanga pirandhade oru sabam thaan',\n",
              " 'u maithaan but one year rent ku yaarum varala appo nenaika thonum',\n",
              " '9பூராம் உழைத்து சாப்புடுங்கடா',\n",
              " 'இப்படிபட்டநங்கைகளுக்குபயிப்புலாக்கப்லவிடனும்எவ்வலவுதிமிர்',\n",
              " 'same thing happened in my brother opening finally settled for ten thousand',\n",
              " 'ennoda daughter marriage function layum ippaddithan',\n",
              " 'ivaluku vera vela pundaiye ila pola',\n",
              " 'பெங்களூருவில் நான் பங்கேற்ற ஒரு புதுமனை புகு விழாவிலும் இதே போன்ற ஒரு அராஜக கும்பல் வந்ததும் போலீஸார் வருவார்கள் என எச்சரித்த பிறகு அவர்கள் வசை பாடி விட்டு இது போன்று பெங்களூரில் பரவலாக நடைபெறுகிறது',\n",
              " 'pudchi pola pola polakanum porambokunga',\n",
              " 'இதுகள்மேல் பரிதாபப்பட்டு பல சலுகைகள் வழங்குவதை அதுகள் தவராக பயன்படுத்துகின்றார்கள் ஒருசில முட்டா கூக்கள் இதுகளை சிவபார்வதி அவதாரம் என்கிறதுகள் 99 விபச்சாரம் மிரட்டிபறித்தல் இவர்களின் தொழில்',\n",
              " 'bus la kuda poga mudiyala kasu ketta sanda poduranga ilanu sonna thittetae nikkenga oruthar vantha paravaila oruthar kuduthathum pinnadiyae innoruthar varanga 45 peru varanga yellarukum kudukanum ilana sanda poduranga  karur la than romba pandranga',\n",
              " 'thiru nangainu evanda per vatchan',\n",
              " 'ethala tha ethungala adichi thorathurom',\n",
              " 'this happens in kodaikanal too if you are a decent person pls dont go to kodaikanal i saw a transgender yelling at a family man poda sotta for not giving money the man was with his wife and two teenage daughters they were shocked and embarrassed if govt dont take action these transgender would get even bolder and they wouldnt hesitate to harass foreigners too they ruin our state tourist places',\n",
              " 'bangalore electronic city le eppume ipdidha panrangu ivangu nambaluku istam irunda kudukru  illena chumma pogunu romba kevalama nadundhukrangu ivangu',\n",
              " 'unmaya sollanumna idellam unamayana thirunangayeh illa unmayana thirunangaigal ipdi panna maatanga',\n",
              " '9 களின் அராஜகம் எல்லா இடத்திலயும் உள்ளது 99 very worst தான் 1 அலிகளுக்காகலாம் 99 9 நாய்களை அமைதியாக கடக்க முடியாது கல்லால் அடித்து கொல்லப்பட வேண்டிய ஈன பிறவிகள்',\n",
              " 'இதற்கு அரசு தான் முடிவு கட்ட வேண்டும்',\n",
              " 'பொதுவெளியில் இவர்கள் கைதட்டி பிச்சை எடுப்பது தவறு இதை தடை செய்ய வேண்டும்',\n",
              " 'இதை கண்டுகொள்ளாமல் விட்டதன் விளைவு தான் இப்போது திருமணம் புதுவீடு புகுவிழா போன்ற சுப வைபவங்கள் வரை வந்து விட்டார்கள்',\n",
              " 'தான் வினை தன்னை சுடும்',\n",
              " 'chennaiyilum innum nadakirathu 100200kudutha vanga matakanga sapadu dress kuduthalum vendam endru solgirargal but paisa mattum athigam kettu torcher panranga ithu oru paadam avargaaluku',\n",
              " 'தமிழ்நாட்டிலும் 9 கள் தொல்லை தாங்க முடியவில்லை அரசு நடவடிக்கை எடுக்க வேண்டும் இல்லை என்றால் சுட்டு தள்ளுங்கள்',\n",
              " 'tamilnada irunthal dharma adithan',\n",
              " 'ama evanga attagasam eppo romba adhigam ayiduchi ennoda brother and sister veettula kuda eppadi dhan panninanga',\n",
              " 'shop also we facing problems',\n",
              " 'இந்த எருமைகள் சாமி பேர் சொல்லி புடுங்கி திண்ணுதுக அநியாயம் பண்ணுதுங்க முதலில் இதுகள ஒழிக்கணும் இந்த மாதிரி லூசுகளால் நல்ல திருநங்கைகள் மீதும் அவதூறு வருகிறது போலீசார் இவர்களை குண்டர் சட்டத்தில் கைது செய்ய வேண்டும்',\n",
              " 'இதுபோல் திருமண மண்டபத்தில் நுழைந்து நாங்கள் 50 பேர் இருக்கிறோம் 50000 கொடு 60 ஆயிரம் கொடு என்று மிரட்டி கட்டாயப்படுத்தி பணம் பறிக்கிறார்கள் இரவு நேரத்தில் ரோட்டில் நின்று கொண்டு பலான வேலை செய்கிறார்கள் நகை அணிந்தோ அல்லது பணம் அதிகம் வைத்துக் கொண்டு அவர்களிடம் செல்லும் நபர்களை அடித்து பணம் பறிக்கும் வேலையும் செய்கிறார்கள் அடியாட்களும் வைத்துள்ளார்கள் காவல்துறையில் புகார் அளித்தால் அவர்கள் எந்த நடவடிக்கையும் எடுப்பதில்லை',\n",
              " 'இரவில் தனியாக பைக்கில் வரும் இளைஞர்களை நிறுத்தி தாக்கி பணம் மற்றும் செல்போன் கொள்ளை அடிக்கிறார்கள்',\n",
              " 'காசு சம்பாதிக்க வேறு வழி இல்லாமல் தான் இந்த ஆண்கள் எல்லாம் பொம்பள வேசம் போட்டுட்டு திரியுரானுங்க',\n",
              " 'திருநங்கை பேட்டி குடுக்கும் போது நல்லா குடுப்பாங்க அவங்கள நல்லவ மாறியே காட்டிப்பாங்க ஆனால் உண்மையா அவங்க யாரும் அப்டி illa 90 மிரட்டி பணம் வாங்குறது குடுத்தா இது எதுக்கு ஆகும் னு கேள்வி கேட்குறது',\n",
              " 'எல்லா இடங்களிலும் இவர்கள் தொல்லை அதிகம் ',\n",
              " 'yellarum odhukki vecha avanga yenna pannuvanga',\n",
              " ' gokula balan apudila illa olungha vela senja vela kooda ayiram per irukanga enga area 3 akka corporation vela seyuranga nalla than irukanga innum evalo peru nalla work la irukanga',\n",
              " ' gokula balan avunga la kaiya netty oru nallaiki 1000 kanakula sampathikiranga unaku theriuma ',\n",
              " ' jeyasingh i know and i have seen but when you have no food what else will they do i am not supporting this particular case because this is too much and they need to be reported in police',\n",
              " 'but their life is so bad than beggars',\n",
              " 'imagine when you are pushed away from house and you are hungry and no one wants to give you even sweeping job',\n",
              " 'i meant law should be also in favour of them',\n",
              " 'தமிழ்நாடில் கல்யாண மண்டபத்தில் இது போன்று நடக்கிறது',\n",
              " ' gokula balan athukumu ippidi panna makkal paaratuvaangala enna',\n",
              " 'nimmathiya bus eri kuda poga mudiya matikuthu amount ketu torture pantrangaa',\n",
              " ' இந்த மாதிரி உள்ளவர்களுக்கு வருத்தப்பட்டது',\n",
              " 'என்பது எல்லாம் அந்த காலம் இப்போது எல்லாம் இவர்களை கண்டாலே எரிச்சல் கோபம் தான் வருகிறது',\n",
              " 'same bro they are very mean dangerous ruthless cruel etc',\n",
              " 'kumbakonam la oru patti kasu kudukkalannu oru thirunangai rompa kevalamma thitti asinga paduthinanga bro atha pathathula irunthu avangala pathale payamma irukkum',\n",
              " 'sorry bro nan avangala thappa sollala avangala pathale payamma irukkunu than sonnen nan partha varaikkum maximum konjam vulgar ra than nadanthukuranga',\n",
              " 'evangala nadu road la vitu saniyangala savadikanum entha mari asinga polaikurathuukala ',\n",
              " ' praba kumpakonathulaya bro yeppo',\n",
              " 'அனைவரும் இந்த மாதிரிஇருக்க மாட்டார்கள்நல்ல திருநகைகளும் உண்டுஉன் கோபத்தை போய் அந்த அராஜகம் செய்யும் திருநங்கைகளிடம் காமி',\n",
              " 'ஆமா நண்பா  முன்பு திருநங்கைகள் மீது மரியாதை இருந்தது  ஆனால் அவர்கள் நடந்துகொள்ளும் விதத்தை பார்த்தால்  அவர்களை ஆதரிக்க தோன்றாது',\n",
              " ' அது உங்க ஊர்ல நீங்க பார்த்த ஆட்க்களாக இருக்கலாம் கொஞ்சம் வெளிய வந்து பாருங்க அதுவும் சென்னை to thanjavur train ல ரொம்ப மோசம் ',\n",
              " 'true i didnt give single paisa to this people',\n",
              " 'வீடு வாங்கறது எல்லாரோட கனவு அந்த நல்ல நேரத்துல இப்படி பண்றது ரொம்ப தப்பு ',\n",
              " 'அனைத்து பகுதிகளிலும் இவர்கள் மற்றவர்களை வற்புறுத்தி பணம் வாங்குகிறார்கள் கட்டாயம் இதை சரி செய்ய வேண்டும்',\n",
              " 'chennai selam rompa mosam aniyam thanga mudiyathu',\n",
              " 'இரும்பு பைப் எடுத்து நாலு சாத்து சாத்தனும்',\n",
              " 'இவர்களின் தொல்லை அதிகம்',\n",
              " '5rs kudutha pogamatamga 10 or 20 kuduka sollu thittuvaanga  idhukku peru dha vazhipari ',\n",
              " 'இவங்க பேர்ல நல்ல அபிப்பிராயமே இல்லைஇந்த மாதிரியான ஆளுங்க செய்யறது தவறு',\n",
              " 'இந்த திருநங்கைகளின் அட்டகாசம் தாங்க முடியல',\n",
              " 'நாளுக்கு நாள் இவர்களால் மக்கள் பெரிதும் பாதிக்கப்படுகிறார்கள்  சிலர் செய்யும் தவறால் எல்லாருக்கும் கெட்ட payar',\n",
              " 'சார் இது உண்மைதான்',\n",
              " ' வருடம் முன் இதே நிகழ்வு எங்க உறவினர் வீட்டில் நடந்தது',\n",
              " 'எல்லை மீறுகிறார்கள் இவர்கள்',\n",
              " 'இப்படியே விட்டா எல்லா வீட்டிலும் நுழைவார்கள் மாவுகட்டு போடவேண்டும் அல்லது துரத்தி துரத்தி அடிக்கவேண்டும்',\n",
              " 'இவர்களுக்கு தண்டனை கொடுக்க வேண்டும் அளவுக்கு மீறி போறாங்கிய',\n",
              " 'இதே மாதிரி எல்லா விசேஷங்களிலும் திருநங்கைகள் வந்து அட்டகாசம் பண்றாங்க',\n",
              " 'this is normal in bangalore same culture they are creating in chennai also chennai police need to control it as they did in the past',\n",
              " 'திருநங்கைகள் தவறு தவிர்க்க வேண்டும் தவறு செய்தால் எந்தவித நடவடிக்கை இல்லை என்றால் இவர்கள் இந்த நிலை என்பதை தெரிவித்து கொள்கிறோம்',\n",
              " 'அடித்து விரட்ட வேண்டும்நல்ல நிகழ்வுகளின் போது இப்படியா',\n",
              " 'உண்மை தான் எங்கள் உறவினர் புது வீடு விஷேசம் அன்று முதல் 4 பேர் வந்து 2000 ரூபாய் வாங்கி கொண்டார்கள் சிறிது நேரம் கழித்து மீண்டும் 4 பேர் வந்து பணம் கேட்டு தொந்தரவு செய்தார்கள் பாவம் அவர் அன்று முழுவதும் டென்சனாக இருந்தார் காவல்துறை இவர்களை அடக்கனும்',\n",
              " 'பாவம் வாழ்வில் மிக முக்கியமான நாள் அன்று இவ்வாறு நடப்பது அதிக வேதனை தரும் இவர்களால் மற்ற நல்ல திருநங்கைகளுக்கு அவபெயர் ',\n",
              " 'இவர்களை போன்றவர்களை துரத்தி அடிக்க வேண்டும் வீடு கட்டி விட்டால் அதிக பணம் இருக்க வேண்டும் என எண்ணம் கடன் வாங்கி கட்டி இருப்பார்கள் அல்லவா ',\n",
              " 'in bangalore its normal police never take any action',\n",
              " 'tell me about it omg i just nevr bother them always being confronted at all traffic junctions along bellaryhyderabad airport road',\n",
              " 'ivanga torture romba adhigama iruku che',\n",
              " 'they should stop looting and accept what is given in good faith hindus respect them and even keep a more spiritual respect but should not be taken for granted',\n",
              " 'unmaierode la epadi varaga brother',\n",
              " ' prasath same bro nanum erode thaan bus la nimathaya koda poga mudiyathu',\n",
              " 'இந்த சாபம் எல்லாம் பலிக்காது  சும்மா மிரட்டுவார்கள் இவர்களை அரசு தடுத்து நிறுத்த வேண்டும்',\n",
              " 'yaaru saabam koduthalum intha kaalathil atheelam palikkaathu',\n",
              " 'பக்கம் இருந்தாலும் சந்தோஷமாக விசேஷம் நடக்கும்',\n",
              " 'அந்த இடத்தில் சாபம் அல்லது வருந்தும்படி',\n",
              " 'ivankala pathala ennakku bayam varuthu',\n",
              " ' kumar yeah agreed itha ethuku sollurena ithellam palikathu so kanduka vendamnu solluren thats all',\n",
              " 'அசிங்கம் மக்கள்அஞ்சுவதால் இவர்களின் ஆட்டம் தலை விரித்து ஆடுகிறது',\n",
              " 'அச்சம் என்பது மடமை என்ற சொல்லுக்கு உயிர் வரும் நேரம் அச்சம் அஞ்சாது',\n",
              " 'seruppa kalatti adikanum',\n",
              " 'சென்னையிலேயே அண்ணா நகரில் அதிகமாக இவர்கள் பெருகிவிட்டனர் முடியலடா சாமி',\n",
              " 'banglore la enga new house layum epdi thaan pannanga poojai pannitu erukumbothu suddena 15 members vanthu 20000 kettanga tharaalana vudane entha veedu velangaathu nalla eruka maatinganu saabam kuduthanga mood out aayiduchu',\n",
              " 'thats wat they want  their plan is to get money from ppl that want to escape such a mood off after seeing this nobody is gonna be mood off with their atrocityjust call the police for forcible entry into private property',\n",
              " 'ethunga sonna mattum nadakka pogutha vidunga naai apadi than katthum',\n",
              " 'ethunga sonna nadakkum nu oru sila peru namburanga athan epadilam pannuthunga ethugalailam adichi saavadikanum',\n",
              " 'antha sabam avangaluku avangala sollikeranga sis adhanala than innum pichai edukuranga ippadi',\n",
              " 'இரும்பு பைப் எடுத்து மண்டைல போட்டா போதும் அதுங்க ஓடிடும்',\n",
              " 'vidu kumaru kadavula nambu edhalam summa',\n",
              " 'பல இடங்களில் கடைகளில் இவ்வளவு தான் வேண்டும் என கேட்டு மிரட்டி வாங்கி செல்வது வாடிக்கையாகி வருகிறதுபல பேர் விருப்பபட்டு பணம் கொடுப்பதில்லை',\n",
              " 'அரசோ காவல்துறையோ நடவடிக்கை எடுப்பதுபோல் தெரியவில்லைபணம் காசு கொடுப்பதை தவிர்க்க வேண்டும் நாம் தான் முடிவுக்கு கொண்டு வர வேண்டும்',\n",
              " 'இவர்கள் மிரட்டி பணம் கேட்கிறார்கள் அதிகமாக பசங்களிடம் தான் வேலுர் அதிகம்',\n",
              " 'இவர்கள் மிகவும் மோசமாக நடந்துக் கொள்கின்றார்கள்',\n",
              " 'இவர்கள் கடைகளில் மிரட்டி பணம் பரிக்கிறார்கள்இவர்களை பார்த்தாலே பயமா இருக்கு',\n",
              " 'இது மாதிரியான திருநங்கைளை 5 முதல் 7 வருடம் சிறை தண்டனை அளிக்க வேண்டும் மிகவும் கொடூரமானவர்கள் இத்தகைய திருநங்கைகள்',\n",
              " 'in tamil nadu during my house warming function these people came to my house suddenly and ask money we gave 100 they refused to take they demanded 1000 rupees we gave it so rudely',\n",
              " 'why did you gave 1000 you have to say that i can only give this muchif you want take it or leave it',\n",
              " ' s they refused to leave the place',\n",
              " 'எல்லா திருநங்கைகளும் பேட்டி கொடுக்கும் போது சொல்றாங்க எங்களை யாரும் மதிக்க மாற்றங்க னு இப்படி பண்ணா யாருதா மதிபாங்க அவங்க அவங்களுக்கு புத்தி வேண்டும் சும்மா சொல்ல மட்டும் போதாது',\n",
              " 'ivaluga kaasu pudungura koottam',\n",
              " 'ni poi paduthu irukiya pombalainga yarum kasuku padukarathu illaya',\n",
              " 'eallarayum ore mathiri solla kudathu nalavanga irukanga',\n",
              " ' a avanga kasu pudungura kootamnu slirukanga padukura kootamnu slala so clear ah padichutu reply panuga sister',\n",
              " 'இவர்கள் அநாகரித்தின் உச்சமான செயல்களை பொது வெளியில் செய்பவர்கள் kadumதண்டனை தேவை',\n",
              " 'விவசாயிகளுக்கு பெட்ரோல் டீசல் மானிய விலையில் கொடுக்க வேண்டும் என்று பாளையங்கோட்டையை சேர்ந்த சமூக ஆர்வலர் அய்யா வழக்குப் போட்டுள்ளார் இந்த நல்ல விசயத்தை சமூக வலைத்தளங்களில் பரப்புவோம் நன்றி',\n",
              " 'இது போல எங்கள் மாமா திருமணத்திற்கும் உள்ளே நுழைந்து குறிப்பிட்ட தொகையைபறித்துக்கொண்டனர்',\n",
              " 'ama bro my thambi mrg kku வந்து 1000 vangitanga',\n",
              " 'same in my marraige athey mathiri than pannuchiga saniyanuga ethugala pathaley kadupa varuthu',\n",
              " 'ipdi dha seiranga enga veetu mrg function ku ipdi vandhu 1000 rs kettanga',\n",
              " 'police oru encounter panna elarum mudiduvanga',\n",
              " 'sabam koduthuruvenu payam kaati kaati ipdi pandrangaromba thappu',\n",
              " 'nowadays they are not accepting what we are giving asking more than 100 rs if not they are cursing',\n",
              " 'they do these kind of things always everywhere  they should be punished severely government should take necessary actions against them ',\n",
              " 'திருமண நிகழ்ச்சிகளில்  திருமண மண்டபங்களில் புகுந்து அதிக தொகை கேட்டு ரகலை செய்வதும் நடக்கிறது ',\n",
              " 'நா ஒரு கல்யாண வீட்டுக்கு போயிருந்தேன் அங்க இந்த மாதிரிதான் பண்ணாங்க ரொம்ப கஷ்டமாக இருந்தது',\n",
              " 'i faced same issue when my brother did house warming in hosur',\n",
              " 'இப்போது இவர்கள் அதிகமாக சேட்டை செய்வதற்கு முதல் காரணம் அரசாங்கம் இவர்களுக்கு பல உதவிகள் செய்வதனால் தான் உதவி செய்வது தவறில்லை இதற்கு உகந்தவர்களாக இருக்க வேண்டும்',\n",
              " 'after function all left and my relatives went to old rented house for packing',\n",
              " 'en thambi mrg kku வந்தாங்க 1000rs வாங்கிட்டு பூய்டங்க',\n",
              " 'myself and brother checked the gifts and started counting the money suddenly 5 members entered and demanded to give half of the money',\n",
              " 'இவர்கள் இப்படி தான் எல்லா இடங்களிலும் நடப்பார்கள்',\n",
              " 'மிகவும் மோசமான நபர்கள்',\n",
              " 'இவங்களுக்கு இதே வேளைதான்',\n",
              " 'திருநங்கைகளின் அட்டகாசம் நாளுக்கு நாள் அதிகரித்து கொண்டே இருக்கிறது இதற்கு ஒரு முடிவே இல்லாமல் போகிறது',\n",
              " 'அனைத்து கோவில்களிலும் பேருந்து நிலையங்களிலும்',\n",
              " 'இவர்களுக்கு கோடிக்கணக்கான சொத்துக்கள் உள்ளது',\n",
              " 'திருநங்கைகள் அட்டுழியம் தாங்கமுடியாத இந்த அனுபவம் எனக்கும் நடந்துள்ளது',\n",
              " 'திருநங்கை ஆபரேஷன் ரத்து செய்ய வேண்டும் ',\n",
              " 'என் அனுபவத்தில் இவர்கள் இரக்க மற்றவர்கள்',\n",
              " 'பெங்களூருல எங்க கல்யாணத்து அப்போ கூட என் வீட்டுக்காரர் வீட்டுல இப்டி தான் பிரச்சனை பன்னங்களம் திருநங்ககள்  ',\n",
              " 'kalayanam la pannava kudathu first kalayanam la panna ippudi dhan pannuvanga',\n",
              " 'ஒரு veedu கட்ட எவ்ளோ கஷ்ட patrupanga',\n",
              " 'any function they demand money forcebley very worst behavier',\n",
              " 'ivalunga ellam epothaan thirunthuvangalo kaasu suyama samparikamatangala',\n",
              " 'இந்தமாதிரி அரவாணிகள் நல்ல அரவாணிகளுக்கு கெட்ட பெயர் உண்டாகும்',\n",
              " 'kutravaaligaluku kadumaiyana maavukattu pottuvittu 200 chauku adi koduthuvittu encounter pannavendum',\n",
              " 'இவர்களுக்கு திரு நங்கை என்று பெயர் இருக்கு இவர்களின் நடவடிக்கைகள் தெரு நங்கைகள் போல இருக்கு',\n",
              " 'இவர்களின் மதிப்பை இவர்கள் தான் குறைத்து கொண்டனர்கள் சட்டம் இவ்களுக்கு தகுந்த தண்டனை கொடுக்க வேண்டும்',\n",
              " 'எல்லா திருநங்கைகளும் அப்படி இல்லை எங்க ஊரு மதுர பக்கம் எல்லாம் நல்ல திருநங்கை சகோதரிகள் எங்களை வாழ்த்த தான் செய்வார்கள்',\n",
              " 'first ithu real ah thirunangai ah',\n",
              " 'endthu check  ippa naareya mens thirunangai veisam pothukkuthu irukkake',\n",
              " 'athuku thaan ithu maari pannum pothu gents ah 9 ah nu check panna koodaghu first naai ah adikura maari adikunam',\n",
              " 'முதலில் இவர்கள் மீது பாவம் வரும் இப்போ வெறுப்பு வருகிறது',\n",
              " 'இவர்களிடம் தெய்வீக சக்தி இருப்பதாக கருதி அழைப்பதே தவறு',\n",
              " 'இவர்கள் அராஜகம் எல்லா இடங்களிலும் அதிகமாக உள்ளது காவல்துறை நடவடிக்கை எடுக்க வேண்டும் இவர்கள் வேலை செய்து பிழைக்க வேண்டும் பிச்சை எடுத்து கேவலமான முறையில் வாழ வேண்டாம்',\n",
              " 'பெண்ணாக மாறுவது தவறில்லை பெண் போல் அமைதியுடனும் அன்புடனும் நடந்து கொண்டால் அனைவரும் உங்களை வணங்குவார்கள்',\n",
              " 'வீட்டை கழுவிடுங்கஇவங்களால தீட்டு வரும்',\n",
              " 'நடிகர் விஜய் கு இந்த கொடுமை நடந்து இருக்கு',\n",
              " 'இவனுங்க தொல்லை தாங்க முடியல',\n",
              " 'இவனுங்கள இவளுங்கள ஐயோ ராமா',\n",
              " 'they are doing same in hosur  tamil nadu all new layouts',\n",
              " 'inthau ga la ooru ulla la vida kodathuadichi mandiya thorakanum inthuga iruthu enna use',\n",
              " 'entha nani galai adethu kollanum oruvar kasda paddu veedu kadu vathu avvalau kasdam',\n",
              " 'இவர்களைதிட்டினாள்அனைத்துதிருநங்கைகளுக்குஅடிவரைக்கும்வேர்க்கும்இவர்கள்ஓலிங்கினம்',\n",
              " 'இவர் மேல் கேஸ் போட்டு சிறையில் அடைக்கணும் அப்பத்தான் மறுபடி தப்பு செய்ய மாட்டாங்க எச்சரிக்கை',\n",
              " 'train la pogum pothu kuda paisa kettu tholla pandrangathara lana adikka varanga',\n",
              " 'civilier punishment kutukanum  punishment civilier aha irukanum apatha ethu mari natakama irukum',\n",
              " 'சென்னை வேலூர் மற்றும் சில மாவட்டங்களில் இது போன்ற செயல்கள் நடக்கின்றன இவர் களுக்கேன சமுகத்தில் மரியாதை இருக்கிறது சில பேர் மட்டுமே இப்படி நடந்துக்கிட்டு இருக்காங்க பவம் அந்த புது மனை வீட்டார் அரசு நடவடிக்கை எடுக்க வேண்டும்',\n",
              " 'படிக்கணும் சுயதொழில் செய்யணும்னு நினைக்கும் திருநங்கை களுக்கு குடைச்சல் கொடுப்பார்கள்',\n",
              " 'in all kind of functions theyre doing this same thing  in chennai also',\n",
              " 'கட்டைய எடுத்து நாளு காட்டு காட்டிருக்கனும்',\n",
              " 'அதுசரி உளுந்தூர்பேட்டை காரனுக்கு இருக்குற வீரம் கர்நாடக காரனுக்கு இருக்குமா என்ன',\n",
              " 'avanga ella function veetlayume amount ketu varangakudukra varai edhayume panna vidradhe illa amount um adhigama kekranga',\n",
              " 'ella event layum varangakudukkura amt ah vangama event ah rompa disrb panranga',\n",
              " 'yes this is becoming too much everywhere everyday collecting from shop trains and public places if not yell at them curse them  according to hindu dharma begging is a sinful and disgusting',\n",
              " 'unmaiya tholla athikam kudukuranga ',\n",
              " 'எவளுங்க தொல்ல தாங்க முடில ஒரு சின்ன கடை கூட தொறக்க கூடாது என்றாளுங்க வந்துராளுங்க தூக்கி கினு ',\n",
              " 'அரவாணி அட்டகாசம் பஸ்டாண்டில் அதிகம்',\n",
              " 'இந்த மாதிரி விஷயங்களை பெங்களூர்ல சர்வ சாதாரணமா நடக்கிற விஷயம் இதே வாடிக்கையா போச்சு எந்த காவல் துறையினர் நடவடிக்கை எடுக்கிறது இல்ல எங்க கல்யாணம் எந்த ஒரு விஷயமானாலும் இங்கே இது நடக்கிற வாழ்க்கை யாருக்கு எனக்கு இந்த போல நடந்து இருக்கு',\n",
              " 'இதுங்க லம் திருந்தாத ஜென்மங்கள் நான் பெங்களூர் ல வேலை முடிஞ்சி வரும்போது என் கையை பிடிச்சிட்டு நடந்து வந்து காசு கேட்டாநான் கண்டுகாத நடந்துட்டே இருந்தேன் உடனே அவ துணிய தூக்கி காமிச்சி தித்திட்டு போனால் அனால் பெங்களூர் ளையும் திருநங்கை கார்மெண்ட்ஸ் ல வேலை செய்து குடும்பத்தை காப்பாத்துறாங்க',\n",
              " 'இந்த கோயம்புத்தூர் காந்திபுறம் பஸ் ஸ்டான்ட் ல காலை ல ஆறு மணிக்கெலாம் வந்து தொல்லை பண்ணுதுங்க வரிசையா  இதுங்க லம் என்ன ஜென்மங்கள் தெரில அதே நேரத்துல கண்ணு தெரியாதவங்க பொருள் விதித்து சம்பாரிகுறாங்க',\n",
              " 'இவர்களின் அநியாயம் கொஞ்சம் அதிகமாகவே உள்ளது',\n",
              " 'இதுகளை இப்படியே விடகூடாதுபஸ்ஸில்ரயிலில்இவைகளின் தொந்தரவு தாங்கவில்லை',\n",
              " 'திருமண மண்டபத்தில் அரை நிர்வாணமாக நின்று பனம் பறித்த சம்பவமும் உண்டு',\n",
              " 'crtu ennoda mariage function la kooda vanthu 500 ruppes vangittu illa illa pudingittu poittanga',\n",
              " 'social media la respect them nu easy ah solidranga  kaasu kettu tholla pani public la thaniya matna rs20 kodutha 50 kodu nu kettu vanguthunga ilana public la asingama kattha vendiyathu  bayama iruku ithula enga poie respect kodukrathu',\n",
              " 'intha naaigala adiche savadikanum paathi edathula ithungalala than thollasila per romba decent ah kuduthatha vangitu poranga',\n",
              " 'நல்ல வேளை இவர்கள் கிராமத்திற்கு வருவதில்லை திரு நங்கைகள் இப்போது நிறைய பேர் படித்து நல்ல வேலையில் இருக்கிறார்கள் இவர்களும் திருந்த வேண்டும்',\n",
              " 'arawani inathaye alikkanam',\n",
              " 'yemma kattuna purusan kitta kooda 5 paisa nanga vanga mattom',\n",
              " 'ippadi seiringa ulachu sapidunga',\n",
              " 'keta ithargelam samuthayam karanamnu soluvanga',\n",
              " 'ithumathri pantravanga peru 9',\n",
              " 'oru mayirum kan dirushti yi kalikka vendaam nu adichu thorathanum',\n",
              " 'நாங்கள் வீடு பால் காய்ச்சும் போது கூட இப்படி தான் செய்தார்கள்',\n",
              " 'evlaga pantra kuth iruka aniyam pannuvalga eppti than enga akka v2 palkuchu vanthu kasa butikito ponalga sollu ethu our polabunu irukaluga paru chiiiii thuuuuu',\n",
              " 'they should stop all this nonsense it happening every new home ceremony',\n",
              " ' more than 50 people theyll come on stand front of home and they will start to giving any bad blessings ',\n",
              " 'ethu nala than thirunagai parthale kovam varuthu',\n",
              " 'unmao thanga enga amma vedu kuda paal kachinanga recent ah same 5000 kattu prachana pananga vanthu nalla vela anga irunthavanga ellam thitti anupitanga avangala thirunangaigal mela iruka mariyathai ah intha mari sila perala kettu poguthu',\n",
              " 'endha karnataka news rombha mukkiyam tamilnadu ku',\n",
              " 'athaneingaye 1000 naari pona news irukkum pothu',\n",
              " 'thamizh natla so proud of thirunangai they are got jobs or self works do it everyone but rare thirunangai behaviour some place went to torture sometime couldnot be paisa cursed that time iam irritating that they',\n",
              " '9கள் மிகவும் கீழ்தர மானவர்கள் வழிப்பறி வழிப்பறி வழிப்பறி இல்லை னா விபச்சாரம் மற்றும் கடை கடையாக பிச்சைஎடுத்தல் அந்த காசில் டாஸ்மாக் ெசன்று நன்றாக சரக்கை போட்டு கும்மாளம் அடிப்பதே இவர்கள் அன்றாட வாழ்வியல் முறை',\n",
              " 'திருச்செந்தூர் சுப்பிரமணிய சுவாமி திருக்கோயிலில் தரிசனம் முடித்து வரிசையில் வெளியேறும் போது புதுமண தம்பதிகளுக்கு வலிய வந்து ஆசீர்செய்துவிட்டு பணம் கேட்டு தகராறு செய்தார்கள் மாப்பிள்ளை வேட்டியில் இருந்ததால் பர்ஸ் கொண்டு வரவில்லைஅப்பப்பா அதுங்க பேசினபேச்சுசாமி கும்பிட போய் மண் உளைச்சல் தான் மிச்சம்',\n",
              " 'இதுங்க தொல்லையை காவல் துறை மற்றும் நிர்வாகம் ஒழிக்க வேண்டும்',\n",
              " 'இதுபோல் அடாவடி திருநங்கைகளை அரசின் சுரங்கத்தில் கூலி வேலைக்கு இவர்களை கொத்தடிமையாக பயன்படுத்துங்கள்',\n",
              " 'government should take necessary action on this rowdiess all over country same problem is their there is no difference between rowdiess and these peoples',\n",
              " 'ea da pawam aveanea pushup veedu katti irukan',\n",
              " 'ippadi panna makkal eppidiyo ungala nambuvargal',\n",
              " 'திருமணத்திற்குள் நுழைந்து 3ஆயிரம் முதல் 10 ஆயிரம் வரைக்கும் வாங்கி விடுகின்றனர்',\n",
              " 'idhuku tha idhukala patha bayam',\n",
              " 'என்னிடம் பணம் இல்லை என்றதற்கு என்னை அடித்து விட்டார்கள்',\n",
              " 'ivangala ippo notea than vanguvanga sillaraiya kooda vanga matanga',\n",
              " 'thirumanathil kalyan veetar thirunangaigalidam invitation vaithirupargal athanalthan athanalthan thirumanathitku vanthulargal ',\n",
              " 'entha naigalaya nimathiya oru function kuda panna mudiyala correct time ku function nadakkum pothu vanthu problem pannuranga',\n",
              " 'athuku thaan veetula yeppavum neraya naai valakunamyenga veetula vantha naai kitta kadi vaanga vendiyathu thaaan',\n",
              " 'kashta pattu kasu sethu oru veeda kattina nalla naalla ivlo asingam pannitu poranga samantha pattavargaluku ithu epadi irukum',\n",
              " 'kevalaamana jenmangal kaalu kaiya odachi vidanum ',\n",
              " 'marriage function la ivanga yellarum sernthu oru 4 group ah pirinchu kasu ketkuranga  kasu kudukalana saabam viduvanga ivanga saabam pollathunu solli yellam payanthu kaasu kudukuranga athum ilama varra yella groupum miratti kaasu vaangitu poguthunga ',\n",
              " 'dindigul la rompa attuliyam pannuthunga',\n",
              " 'அவன் அவன் ராத்திரி பகல் பார்க்காமல் கஷ்டப்பட்டு வீடு வாசல் கட்டினார் இவங்க தொல்லை தாங்க முடியல',\n",
              " 'same happened during my marriage also but we didnt report it',\n",
              " 'திருநங்கை இல்லை திருட்டுநங்கைனு சொல்லுங்க ஐய்ந்து ரூபாய் கொடுத்தால் வாங்க மாட்டானுக பத்துரூபாய்தான் வேனுமாம் என் கடையில் என் மனைவியிடம் பலமுறை பிரச்சனை பன்னிருக்கானுக கையில சிக்கல சிக்குரப்போ இருக்கு வாணவேடிக்கை',\n",
              " 'உண்மையிலேயே திருநங்கைகள் தங்களுக்கு தரும் மரியாதையை\\u200c மிதித்து சமூகத்தில் அவல பெயர் எடுக்கிறார்கள் என்பது 999 ஆணித்தரமான உண்மை',\n",
              " 'தானாக திருந்தாவிட்டால் இந்திய சட்டம் ஒழுங்கு திருத்தனும்மனித அரக்க கலவைகள் என்றானால் சமூகம் திருத்தும்',\n",
              " 'sila peru ivelo kevalama nadanthukuranga chii enakum anupavam iruku enkitaum 500rs yeamathi pudingitu poitanga ennoda anumathi illama ithuku ivanga pitchai edukalam chiii sila peru nallavangalum irukanga ithula',\n",
              " 'yethu unmai yethu poi kadavulukkuthan theriyum',\n",
              " 'sila tharuthalaiyala mattravargalukku ketta peyar',\n",
              " 'ethuvum oru vagai thiruttuthan arrest panunka',\n",
              " 'saniyanuka rodala tha tholla na v2 kupoiyuma ithuku tha lgbt ya legal pnavenanu sonathu',\n",
              " 'ama enoda mama marriage last 13 jun nadantuchi apa 2000 ketu problem panuranga atlast 500 vangitu pona next 20mins la next one came and asked same nd do problem so nanga enga euruntu seekiram kelambalam nu kelambi poitom v2 ku',\n",
              " 'bus stand la ivanga romba thollai pannuvanga',\n",
              " 'இவிங்க தொல்லை தாங்க முடியல பா கல்யாண வீட்ல இவிங்க பண்ற அட்டூழியம் தாங்க முடியல',\n",
              " 'unmaithan nanbha yenga function ku da bangalore ila 5000ts kattu sanda potanga',\n",
              " 'நானும் ஒரு திருநங்கை தான் எங்களோட ஆட்கள் செய்யும் சில தவறுகள் பொது மக்களால் பெரிதும் பகிரப்படுகிறது நாட்டுல என்னென்னமோ நடக்குது அதெல்லாம் நியூஸ் ரிப்போர்ட்டர்ஸ் கவரேஜ் பண்ணாம இந்த விஷயத்தைப் போட்டு நோண்டிட்டு இருக்காங்க பிச்சை எடுக்க யார் காரணம் நீங்கதான் இந்த பொறபு பொறந்ததுக்கு நீங்கதான் காரணம் கஷ்டங்கள் பல இருக்கு மனசுல  please respect to tha transgender',\n",
              " 'in bangalore its very common',\n",
              " 'inga nadandhu irundha idhukkum dravida model nu solvaanhe',\n",
              " 'police nadavadikai eduka vendum tamilnadilum ivarkal attuliyam thanga mudiyala',\n",
              " 'yes bro ennota shop opening la yum ippadithan romba kastama pochu wanted ah ulla vanthu oru lemon  ah suththi pottu 1000 meratti vangittu poitanga full drinking',\n",
              " 'en wife ku apo irunthu ivangala pathaley romba payam shop kitta vanthaley ulla ooti poirunga ivanga ninna antha road la koota vara matranga',\n",
              " 'திருநங்கைகள் அட்டகாசம் அதிகமாகி விட்டது தென்காசியில் இரவு நேரங்களில் இவர்கள் செய்யும் அட்டகாசத்திற்க்கு அளவே இல்லை நகை பறிப்பு கும்பல் அனைவருமே திருநங்கைகள் தான் நான் பாதிக்கப்பட்டுள்ளேன்',\n",
              " 'it clearly indicates the transgenders violent character',\n",
              " 'signal la ivanga thollai thaanga mudiyala panam tharravanga kitta vaangi kittu illa soldravanga ta illa na vittu tu poidanum aana ivanga kattayam thanthe aganum nu solranga tharala na asingamaa pesuranga saabam vidranga ippo lam ivangala paarthale erichal than aaguthu',\n",
              " 'தமிழகத்தில் திருநங்கைகளின் அட்டகாசம் நாளுக்கு நாள் அதிகரித்து வருகிறது',\n",
              " 'எனது திருமணத்தின் போது அத்து மீறி நுழைந்து ஆசிர்வாதம் என்ற பெயரில் பணத்தை கறாராக வாங்கிச் சென்றனர் முதலில் இவர்கள் கடவுள் கிடையாது இவர்களை சிலர் அப்படி பார்ப்பதால் இப்படி அடாவடி செய்கின்றனர்',\n",
              " 'ivalungaaaa ellaa idathileyummm ippadi thn sila nallavarkar lum irrukirarkal ',\n",
              " 'தயவு செய்து தமிழக அரசு இதற்கு சிறந்த தீர்வை அளிக்க வேண்டும் என கேட்டுக்கொள்கிறேன்',\n",
              " 'திருவண்ணாமலை செங்கம் பகுதிகளில் உள்ள',\n",
              " 'கடைகள் மற்றும் பேருந்துகளில் மற்றும் புதுமனை திறப்பு விழாக்களில் திருநங்கைகள் வரம்புக்கு மீறி செயல்படுகிறார்கள்',\n",
              " 'engalukkum inthamathiri nadandhirikku seruppale adikkanum',\n",
              " 'பணம் கொடுக்கவில்லை என்றால் தகாத வார்த்தைகளில் திட்டுகிறார்கள்',\n",
              " 'in erode also asking same incident in erode solar location but cousins managed it',\n",
              " 'இதற்கு சரியான தீர்வை தமிழக அரசு வழங்க வேண்டும்',\n",
              " 'seruppadi thevai ivargaluku',\n",
              " 'இந்த மாதிரி விஷேச இடங்கள்ல அழையா விருந்தாளியா வந்து பணம் கேட்டு தொல்லை தரதா நானும் பார்த்திருக்கேன் இந்த மாதிரியான செயல் மிகவும் கண்டிக்கதக்கது',\n",
              " 'actually no one was treating them well i the initial days everybody teased n insulted them now the society is getting back they should be properly trained and provide with employment so that they also behave better otherwise it will be difficult for the society in the upcoming days',\n",
              " 'இவங்க அக்கப்போர் கொஞ்சம் நஞ்சம் இல்லை',\n",
              " 'இவர்களுக்கு தனி சட்டம் இயற்றப்பட்டவேண்டும்',\n",
              " 'இவர்களின் அடாவடி சமுதாயத்தில் அதிகம்',\n",
              " 'உண்மையாகவே சில பேர பாத்தா பாவமா இருக்கு ஆனா நெரயா பேரு ஓவரா தொந்தரவு செய்ராங்க பொது இடத்துல அவங்கலபாத்தாலே பயமா இருக்கு',\n",
              " 'இரும்பு கரம் கொண்டு ஒடுக்க விட்டால் நிலைமை மோசமாக மாறிவிடும்',\n",
              " 'இந்தியா வில் இவர்கள் மட்டும் தான் சுதந்திரமா திரிவது பயமின்றி',\n",
              " 'cm would control this 9',\n",
              " 'they are making more torture now a days',\n",
              " 'நான் பார்த்தவரையில் இவங்களுக்கு ஆதரவா ஒருத்தர்க்கூட பேசல  இது அந்த திருநங்கைகள் கவனத்துக்கு போனா நல்லாருக்கும் ',\n",
              " 'இரவு நேரத்தில் சாலை ஓர லாரி பார்க்கிங்கில் truk layவாகனத்தை நிறுத்தி விட்டு தூங்க கூட முடியவில்லை',\n",
              " 'திருநங்கைகளின் தொந்தரவு தாங்க முடியவில்லை',\n",
              " 'entha mathri kevala ma panna adikame vera enna pannuvanga',\n",
              " 'adi pechurukanum',\n",
              " 'why your roads side in your duty go your home poblic டிஸ்டபன்ஸ்',\n",
              " 'எவ்வளவு எளிதாகப் பொது இடங்களில் ஆடைகளைக் கழற்றுகின்றனர் மானமற்றவர்கள் இவர்களைக் கைது செய்து சிறையிலடைக்க வேண்டும்',\n",
              " 'வேலை வாய்ப்பில்லாமல் சமுதாயம் இவர்களை ஒதுக்குவதால் தான் ரோட்டில் நிற்கின்றனர் கண்டித்த காவல் அதிகாரி ஒருவேளை வாய்ப்பு வாங்கித் தரச் சொல்லுங்கள் பார்ப்போம்',\n",
              " 'we want to climb our rights friends',\n",
              " 'காவல் துறை இவர்கள் மேல் கடுமையான நடவடிக்கை எடுக்க வேண்டும் இவர்கள் அட்டுழியம் தாங்க முடியல ஏன் உழைத்து சாப்புட வேண்டியது தானே பழனி பார்க்கிங் பகுதியில் இவர்கள் செய்யும் சேட்டை நம்மளை ரொம்ப மனசு கஷ்ட படுத்துது இவர்களுக்கு அரசு ஒரு முடிவு கட்டணும் யாரையும் மரியாதை இல்லாமல் பேசுறது குடும்பத்தை இழுத்து பேசுறது இவர்களுக்கு ஒரு பொழப்ப போச்சு',\n",
              " 'oru nal poda va kattittu vada appo therumyae pothu edangalum vaeanganna nerya peru oruvagittanga',\n",
              " 'unmai than sir kangeyamkarur bus stand la yum passengers kalai romba torcher pannuraanga',\n",
              " 'திருநங்கைகளை சமுதாயம் போதும் போதும் கிண்டல் செய்யும் கேள்வி எழுப்பாத காவல் அதிகாரி பாலியல் தொழிலில் ஈடுபடும் போது எதற்காக கேள்வி கேள்வி எழுப்புகிறான்',\n",
              " 'attacked transgender oh brave  you deserve ',\n",
              " 'ivangala serupala adingada dress a avuthu pottubaduraluga chi',\n",
              " 'போலிஸ் எங்க கால மாட்டும் என் இப்படி செய்ரங்கா நானும் திருநங்கை தான்',\n",
              " 'ஒழுக்கங்கெட்ட தரங்கெட்ட திருநங்கைகளை நையபுடைத்து மாவு கட்டு போடுங்கடா',\n",
              " 'இந்தியாவுக்கு  சுதந்திரம்  கிடைத்தது என்று அலி ',\n",
              " 'செய்யும் ஆர்பாட்டத்தில் புரிந்து கொண்டோம்  தல விதி ',\n",
              " 'இவர்களை காவல்துறை கடுமையாக தண்டிக்க வேண்டும் பொது மக்களிடம் மிரட்டி பணம் பறிக்கும் ரவுடி கும்பல்',\n",
              " 'இரவில் நிற்கும் போது கேட்கும் அதிகாரிகள் ஏன் பெற்றோர்களுக்கும் போதும் சமுதாயம் கேலி கிண்டல் செய்யும்',\n",
              " 'திருநம்பி திருநங்கை ன்னு ரெண்டு வகை இருக்கு',\n",
              " '1 திருநம்பி ங்கறது பெண் சுபாவம் உள்ள ஆண் அவங்களால யாருக்கும் எந்த ஆபத்தும் இல்ல',\n",
              " '2 திருநங்கை ங்கறது ஆண் சுபாவம் உள்ள பெண் இவங்கதான் சமுதாயத்துக்கே ஒரு பெரிய அச்சுறுத்தல்',\n",
              " 'திருநங்கை கிட்ட ஆணோ பெண்ணோ யார் வம்புக்கு போனாலும் திருநங்கையின் மூர்க்கமான முதல் அடி முழங்காலால் எதிரியின் ரெண்டு தொடைகளுக்கு நடுவுல தான் ஏன்னா பொறாமை',\n",
              " 'அவங்களுக்கு திருநங்கைகள்உதவியோஒத்தாசையோ நாமபண்ணலேன்னாலும் அவங்களைடிஸ்டர்ப்பண்ணவேண்டாமே அவங்க மனவேதனையைமதிக்கலாமே',\n",
              " 'world first language is tamil world freedom language is english friends animals have one language whymany language for human think answer in bible history ten commandments is british laws english via laws unite the people and we are not indian we are named by indian and please give free education and food for study and please first learn epc an ipc laws friends what is god who is god think bible god name is words of god bible ten commandments is british laws english via laws giving freedom and good lifestyle for world human friends',\n",
              " 'அப்படி பிரெச்சனை னா சாலை மறியல் பண்ணலாம் இப்படி ஒரு கார் மேல ஏறி ஆ\\u200cட்ட\\u200cம் போடா தேவை இல்லை',\n",
              " 'இவர்கள் மீது இரக்கம் காட்டுவது கூடாது',\n",
              " 'ஆமாம் இனிமேல் ஆண்கள் மற்றும் பெண்கள் மீது மட்டும் கருணை காட்ட வேண்டும் நீங்கள் எடுத்திருப்பது சரியான முடிவு',\n",
              " 'ama  evagala pola 90 emathitu than irukkaga beach la la kasu kettu romba pannuvaga',\n",
              " 'no thirunangailum nallavangalum errukanaga anna eppadi sollathenga pls avangalum mannusungathan eppdiku  student',\n",
              " 'ithunga romba mosamana koottam naa athukaluku help panna poi athunga enoda panatha thirurichinga makkale ithukaluku mattum pavam parkave kootathu',\n",
              " 'yes unmai nallavanga irukanga nan thavaru seithavarkali mattum sonnean',\n",
              " 'நல்லது இதில் யாராவது தாங்கள் பணி புரியும் அலுவலத்தில் திருநங்கைகு ஒரு வேலை வாங்கி தாருங்கள் பாப்போம் அவரங்கள் பணத்திரிக்கு என்ன செய்வாருகள் கொஞ்சம் சிந்திங்க ',\n",
              " 'ஆண்கள் பலர் இதுபோன்ற தவறுகள் புரிகின்றனர்இதனால் அவர்கள் அனைவரையும் ஒதுக்கவும்',\n",
              " 'police man haya phone pesurar avara mudhalla thookunga',\n",
              " ' vlog tamil thambi ennadha thirunangaiya irundhalum avangalum normal human beings dha nallavanga irukura mathila indha maari respect panratha advantage eduthutu suthuravangalum irukanga',\n",
              " 'unmai naaai vaal nimirathuithunga elam thirunthathu',\n",
              " ' babu அதான் bro நீங்க சேர்த்து விடுங்க அப்புடி நீங்க பண்ண உங்களுக்கு கோடான கோடி நன்றி ',\n",
              " 'அனைவரும் ஒருவர் போல் அல்ல',\n",
              " 'ama nariya peru ithumathirithan irukalunga',\n",
              " 'இவங்க பண்ணது தப்புதா ஆனால் இப்படி எல்லாரும் அவங்கள ஒதிக்கி வைக்க கூடாது தப்பு எங்க நடக்கல எல்லா இடத்திலும் தப்பு நடக்குது எல்லாரும் இந்த சம்பவத்தை மறக்கவும் மன்னிக்கவும் தமிழகஅரசு திருநங்கைகளுக்கு வேலைவாய்ப்பு ஏற்படுத்தி தருமாறு கேட்டுக்கொள்கிறேன் எனவே இவர்களுக்கு சமுகஅந்தஸ்தை உயர்திக்கொள்ள வாய்ப்பைலித்து அவர்களுக்கான மரியாதை வழங்கினால் இதுபோன்ற சம்பவங்களில் ஈடுபாடமாட்டார்கள் தற்போது மனிதகுளத்திற்கு தேவை ஒற்றுமை ',\n",
              " ' கற்றது கல்வி மிகவும் சரி அக்கா வாழ்க வளமுடன்',\n",
              " ' pettai oru thirunanga akka sondhama tiffen shop potrukangaanga sales nalla aagudhuavanga onna serndhu ipdi shop edavadhu vaikalame',\n",
              " ' pettai avangalul palar panam vasoolithadhum kudikranga andha paisa semikalameadhil thozhil thodangi munneralamsaga thirunangaigalukum udhavalamavargal mela iruka bad impact pokuradhu konjam kashtamavanga ipdi panni jaichu kaatunamakkal ellarum avangala purinjupanga',\n",
              " 'செதினேஷ் தாங்கள் என்னவாக இருக்கீங்க தினேஷ் அவர்களே ',\n",
              " 'அதிகார பிச்சை எடுப்பதை இவர்கள் என்று நிறுத்துவார்கள்',\n",
              " 'திருநங்கை இவர்கள் மீது சட்டம் பாய வேண்டும் இவர்களுக்கு ஆனவ திமிரு',\n",
              " ' தென்காசி பேருந்து நிலையத்தில் மாலை 6 முதல் காலை 8மணி வரை தனியாக நிற்பவர்களை மிரட்டி பணம் பறிக்கிறார்கள்',\n",
              " 'வியாபாரி சங்கம் என்ன பண்ணிக்கொண்டிருக்கிறது கடைகள் இல்லைனா இதுகளுக்கு யார் பிச்சை போடுவார்கள் வியாபாரிகள் ஒன்று சேர வேண்டும்',\n",
              " 'yes உண்மையான செருப்படி தினமும் நாடார் கடையில் பிச்சை எடுக்குறாங்க',\n",
              " ' murugan தவறான பதிவு நாடார் கடைகள் என்று சொல்வது அனைத்து சமுதாய மக்களும் இவர்களுக்கு பணம் தருவார்கள் அதையும் தாண்டி நம் தமிழ்நாட்டு மக்கள் திருநங்கைகளை கடவுளாகவும் நினைக்கிறார்கள் நம் தமிழ்நாட்டுப் பசங்கள் இவர்களை மதிக்க கற்றுக் கொண்டார்கள் அந்த மதிப்பை திருநங்கைகள் இழந்து வருகிறார்கள் வேதனைக்குரிய செய்திகள்',\n",
              " 'இப்பத்தான் திருநங்கைகளை நிறைய பேர் ஏற்றுக்கொள்ள வருகிறார்கள்  இவர்களை போன்ற சிலர் தேரை இழுத்து தெருவில் விட்டுருவாங்க போல இருக்கே',\n",
              " 'இது ஆரம்பம் அல்ல இதுதான் முடிவு பிற்காலத்தில் இவர்களின் ராஜியம் வரும் அப்போது புரியும் ',\n",
              " 'என் அனுபவத்தில் இவர்கள் மிகவும் ஆபத்தானவர்கள்',\n",
              " 'காவல்துறை அங்கு வேடிக்கை பார்க்க வந்ததா',\n",
              " 'சிறையில் அடைக்க னும்',\n",
              " 'ரோட்டில் பிச்சை எடுக்கும் போது திமிராகதான் பேசும் சரியான தண்டனை வழங்க வேண்டும்',\n",
              " 'முதல் அமைச்சர் அவர்கள் இவர்களுக்கு எவ்வளவு மரியாதையுடன் இவர்களுக்கு நல்லதை செய்துவருகிறார்கள் இவர்கள் அவமதிப்பது போல் தெரிகிறது',\n",
              " 'இது ஆரம்பம் அல்ல இதுதான் முடிவு பிற்காலத்தில் இவர்களின் ராஜியம் வரும் அப்போது புரியும் இந்த ஆரம்பத்தின் வெளிப்பாடு',\n",
              " 'சில திருநங்கைகள் மதிக்கும் படி இருக்கிறார்கள் இவங்களை போன்றவர்களை எல்லாம் திருத்தவே முடியாதுஓசில மங்களம் பாடுபவர்கள் தான் இவர்கள்',\n",
              " 'அண்ணாமலை ஓட்டல் உரிமையாளர் மிக நல்லவர்',\n",
              " 'சொன்னால் தன்னார்வலர்களுக்கு கோபம் வரும் திருநங்கைகளில் எவ்வளவுபேர் இயற்கையான ஹார்மோன் மாற்றத்தால் குறைபாடுள்ளவர்கள் எவ்வளவுபேர் அறுவைசிகிச்சை செய்துகொண்டவர்கள் எவ்வளவுபேர் பாலியல் தொழிலில் உள்ளனர் பிற மாற்றுத்திறனாளிகளுக்கு சமமாக இவர்களை ஒப்பிடுவது சரியா சமூக ஒழுக்கக்கேட்டிற்கு இவர்களில் எவ்வளவுபேர் காரணம்',\n",
              " 'யோவ் நிறுத்து யா அறுவை சிகிச்சை செய்து எவ்ளோ பேரு செத்தாங்க இவங்க செய்து கிட்டு நல்லவர் மாதிரி வரான்க ஆனால் உழைத்து சாப்பிடுபவர்களுக்கு எவ்ளோ கஷ்டம் படுவாங்க அந்த ஓட்டல் வேலை செய்றாங்க அவங்களுக்கு குடும்ப காஸ்டத்திற்காக உழைத்து சாப்பிடுராங்க ஆனால் திருநங்கை அவங்க கொஞ்சம் உதவி முடிவு எடுக்க கூடாதா அவுத்து போட்டு ஆசினு இருந்தா எவண்டா காரணம் லட்சம் வாங்கி கடன் முடிக்க முதலாளி கடை வைத்திருக்கான் காஸ் கேட்டது தப்பா இப்படி கடையே ஒடித்து போய்ட்டாங்க திருப்பும் அடுத்த முறை உள்ள விட பயம் அவன் எங்கடா போய் சாவுவான் முதலாளி குடும்ப கஸ்டத்திர்க்கு அவன் உலைக்குறான்',\n",
              " 'சிலபேர் இப்படிதான் இருக்கிறார்கள் காவல்துறை நடவடிக்கை எடுக்கவேண்டும் நான் கோவை காந்திபுரம் பேருந்து நிலையத்தில் நின்றுகொண்டிருந்தேன் இளைஞர் ஒருவரை பணம் கேட்டு மிரட்டி தரலைனா என்னை தனியாகூப்பிடரன்னு சத்தம்போட்டு மானத்தை வாங்குவேன்னு மிரட்டினார் அந்த திரு நங்கை அந்த இளைஞன் அங்கிருந்து தப்பித்தால்போதும்னு ஓடிவிட்டார் நிறைய பேர் இப்படி பொதுமக்களை மிரட்டி பணம் கேட்கிறார்கள்',\n",
              " '10 20 nu சும்மா கை தட்டி சம்பாதிச்சா இப்படி தான் பண்ணுவாங்க கஷ்டபட்டு சம்பாதிச்சா தானே தெரியும் காசின் மதிப்பு',\n",
              " 'கடவுளின் சாபத்தில் வாழும் உங்களுக்கு இந்த அநியாயம் இருக்க கூடாது',\n",
              " 'train la itha vida mosama aniyayam pantranga',\n",
              " 'பிச்சை போடு வனத நிருத்துங்க இங்க யாரும் கடவுள் யில்ல அம்மா அப்பா ஆசிர்வாதம் இருந்தா போதும் இவர்கள் ஒரு சிலர் உனழத்து தான் வாழ்ராங்க அவர்கனள மதிப்போம்',\n",
              " 'இதுங்க தொல்லை தாங்க முடியல பேருந்து நிறுத்தம் தொடர்வண்டி நிலையம் இப்போ உணவகம் அரசு தக்க நடவடிக்கை எடுக்க வேண்டும் இவர்கள் மீது',\n",
              " 'ஒருமுறை என்னிடம் காசு கேட்டாங்க கொடுக்கவில்லை துணியை துக்கி கட்டிட்டு திட்டிட்டு போனலுங்க அதில் இருந்து இவர்களை பார்த்தாலே வெறுப்பு வருகிறது',\n",
              " 'இப்படி பண்ணா உங்கள எங்கேயுமே சேர்க்க மாட்டாங்க கடைசி வரைக்கும் இப்படி தாம் பிச்சை எடுத்து சாகனும்',\n",
              " 'பேருந்து நிலையத்தில் பயணிகளுக்கு தொல்லை இப்போ உணவகத்திலுமா',\n",
              " 'please keep all the hotels closed till the festival ends then they will know the value of food',\n",
              " 'சிறப்பு இன்னும் என்னவெல்லாம் நடக்கபோகுதே ',\n",
              " 'அந்த உனவகத்தில் ஊனமுற்றோர்க்கு பாதிவிலையில் உணவு அதன் உரிமையாளர் மிக அருமையான மனிதர் இப்படி செய்வது தவறு',\n",
              " 'உலகம் முழுவதும் இவர்கள் இருக்கிறார்கள் இவர்கள் இங்கே செய்யும் அட்டுழியத்தைப்போல் வேற எங்கேயும் செய்ய முடியாது காவல்துறை சும்மா வேடிக்கை பார்க்கக்கூடாது யார் தவறு செய்தாலும் தண்டிக்கணும்',\n",
              " 'once i witnessed these urchins demanding money from migrant hindi worker local train he first refused but the urchin caught his manhood poor worker',\n",
              " 'ivanga arajagam romba panranga',\n",
              " 'அனைவரும் ஒருவர் போல் அல்லஉணவக உரிமையாளர் மேலும் தவறு இருக்கலாம் இவர்களை குறை கூற ஒரு கூட்டம்  மனதை தொட்டு சொல்லுங்கள் அனைவரும் ஒழுக்கமானவர்களா இந்த நிலை ஒரு நாள் உங்கள் வீட்டிலும் ஏற்படலாம் மறக்காதிர்கள்',\n",
              " 'public place la kaasu ketu kodukalaina romba mosama thituvanka porikinka',\n",
              " 'எடுக்கிறது பிச்சை இதில் திமிறு வேறு தூக்கி உள்ள போடுங்கள்',\n",
              " 'திருநங்கை என்பதை மெடிக்கல் டெஸ்ட் மூலம் உறுதி படுத்துங்கள் i mean chromosome test',\n",
              " 'பிழைக்க வழி தெரியாத சில கயவர்கள் உடையை மாற்றி இதுபோல் அராஜகம் செய்கிறார்கள் நான் சொல்வது புரியும் என்று நினைக்கிறேன் இது உண்மை',\n",
              " 'திமுக ஆட்சியில் இருக்கிற தைரியம்',\n",
              " 'தமிழகத்தில் திருநங்கைகளுக்கு தனியாக சிறைச்சாலை அமைக்க வேண்டும் அந்த அது இல்லாத தைரியத்தில் தான் இவர்கள் இந்த வரத்து வருகிறார்கள்',\n",
              " 'u cant travel in local train without giving money to themtorture for school and college children who travel daily',\n",
              " 'பிறப்பு ஈனபிறப்பாக பிறந்த',\n",
              " 'போதே இந்தளவு ஆணவமும்',\n",
              " 'கர்வமும் தலைக்கு ஏறி அத்தனை',\n",
              " 'கெடுகேட்ட செயலிலும் ஈடுபட்டு',\n",
              " 'வருகின்றதுகள் இதுங்களூக்கு',\n",
              " 'சரியான தண்டனை தர நீதிமன்றம் முன்வந்து உத்தரவிட வேண்டும்',\n",
              " 'இவர்களை பிடித்து உள்ளே தள்ளி விடலாம் பல உனவகங்களில் இந்த மாதிரி தான் நடக்கிறது',\n",
              " 'government should punish them severely and dont give them high positions in the governmentor private sectors dont care them avoid them inviting in functions',\n",
              " 'காவல்துறை இரும்பு கரம் கொண்டு அடக்க வேண்டும்',\n",
              " 'திருநங்கைகள் பெயரை கெடுக்க வேறு யாரும் வேண்டாம்',\n",
              " 'மனித இனத்திற்கு துளியும் பயனில்லா ஜந்துகள் இந்த எஅ லிகள்',\n",
              " 'ஒரு நாள் பேருந்து நிலையத்தில் பஸ்க்கு காத்துக் கொண்டு இருந்தேன்',\n",
              " 'அப்போது ஒரு திருநங்கை வந்து பணம் கேட்டார்நான் சில்லறை இல்லை என்றேன்',\n",
              " 'சில்லறை தராமல் எடுத்துக் கொண்டு போனார்',\n",
              " 'நான் பத்து ரூபாயை எடுத்துக் கொண்டு மீதி தாருங்கள் பேருந்து பயணத்துக்கு எனக்கு சில்லறை வேண்டும் என்றேன்',\n",
              " 'அதற்கு திருநங்கை மிகுந்த கோபத்தில் இந்த டா உன் பணம் என்று வசைபாடிய படி நான் கொடுத்த 20 ரூபாயை திருப்பி கொடுத்து விட்டார்',\n",
              " 'இவர்களை என்ன செய்வது என்று மனத்துக்குள் நினைத்து கொண்டு மிகுந்த வேதனையுடன் பயணத்தை தொடர்ந்தேன்',\n",
              " 'இவர்களை கைது செய்து நீதி எல்லோருக்கும் ஒன்றுதான் என்று நிறுபியுங்கள்',\n",
              " 'இப்படி செய்வது பாவம் மிகவும் தவறுஇதுபோல் அரக்கதனமாக நடக்காதீர்கள் நீங்களும் மனித இனம்தான் நினைவிருங்கள்',\n",
              " 'குறிப்பிட்ட நாளில் காவல்துறையினரின் உதவியை நாடலாம் அல்லது விடுமுறை விடலாம்',\n",
              " 'இவர்களை கடைக்குள் அனுமதிக்க கூடாது பிச்சையும் போடாதீங்க',\n",
              " 'இவர்களால் மற்ற திருநங்கைகளுக்கு கெட்ட பெயர் ',\n",
              " 'அனைவருக்கும் பொதுவான சமமான சட்டம் கொண்டு வர வேண்டும் பொது சொத்தை சேத படுத்துவார்கள் பொது அமைதிக்கு குந்தகம் விளைவிப்பவர்கள் யாராக இருந்தாலும் 10 ஆண்டுகள் கடும் காவல் தண்டனையுடன் தினமும் 1 வேளை உணவு மட்டும் வழங்கப்பட வேண்டும் இவர்களுக்கு கொழுப்பு அதிகமாகி விட்டது',\n",
              " 'sorryஎனக்கு கோவம் அதிகமாகிறதுநம் நாட்டில் it துறையில் வேலை பார்ப்பவர்களை விட 9 களுக்கு பணம் அதிகம் கிடைக்கும் பகலில் நாள் ஒன்றுக்கு ஒரு பிறவி 3000 க்கு குறையாமல் பிச்சை எடுக்கும்இரவு ஈன விபச்சாரம் பணம் தனியாக வேறுஇந்த லட்ச்சனத்தில் யாருக்கும் அடங்காமல் அடாவடிவன்முறை வேறு ஒரு 9 ன் கையையாவது மற்ற 9 கண்முண்பு வெட்டி எறிந்ததால்தான் அடங்குவார்கள் இந்த ரெண்டும் கெட்டான்கள்தூ',\n",
              " 'மக்கள் ஒன்று சேர்ந்தால் இவர்களை எதிர்க்க முடியும் கூடவே ஒரு போலீஸ்காரர் நிக்கிரார் இருந்தும் எண்ணபயன்',\n",
              " 'அதே இடத்தில் போலீஸ் வேடிக்கை பார்த்து நிற்ப்பது கவலைக்குரியதுபாதுகாப்புக்கு தான் போலீஸ் வேடிக்கை பார்க்க அல்ல',\n",
              " 'this is the result of misplaced support  encouragement given by the ruling establishment  recently a minister honoured them with awards all those who were involved in this incident may also be rewarded by the minister this being an extraordinary achievement',\n",
              " 'தக்க தன்டனை வழங்க வேன்டும் தமிழக அரசு திமிராக பிச்சை எடுப்பது',\n",
              " 'இப்படி செய்பவர்கள் பெரும்பாலானவர்கள் அரவானிகளே இல்லை அரவானிகள் என்ற போர்வையில் ஆண் ரவுடிகல் எனவே இப்படிபட்ட ரவுடி அரவானிகளின் மீது அரசு தகுந்த அதிகபட்சநடவடிக்கை எடுத்து பொது மக்கள் மற்றும் வியாபாரிகளுகாகும் தகுந்த பாதுகாப்பு அளிக்கவேண்டும்',\n",
              " 'இவர்களுக்கு தர்மம் செய்வதை பிச்சை போடுவதை நிறுத்த வேண்டும் உழைத்து வாழ வேண்டும்',\n",
              " 'யாராக இருந்தாலும் செய்த தவறுக்கு தண்டனை கொடுக்க வேண்டும் முதலீடு செய்து கடைநடத்தியவருக்கு தான் உண்மை வலி புரியும்',\n",
              " 'இவற்றை அந்த சமூக மக்களே தட்டி கேட்பர்களேயானால் நல்லது ',\n",
              " 'இல்லையன்றால் இன்னும் ஒடுக்கு முறைகளை இவர்கள் சந்திக்க நேரிடும் ',\n",
              " 'சின்ன கடைகள் கூட வருங்காலத்தில் இருக்க போற வில்லை ஹோட்டல் தொழிலை யாரும் மதிப்பதில்லை ',\n",
              " 'நாம் இவர்களை மூன்றாம் பாலினத்தவர் ஆயிற்றே இவர்கள் பல கஸ்ட நஸ்டங்களை கடந்து வருகிறார்களே இவர்களையும் இந்த சமுதாயத்தில் ஏற்று அனைவரும் அறவனைத்துச் செல்லவேண்டும் ஒற்றுமையுடன் வாழவேண்டும் என நினைக்கின்றோம் ஆனால் இவர்களோ மற்றவர்களிடம் அராஜக போக்கும் செய்யும் செயலும் நமக்கு இவர்கள் மேல்  ஆத்திரத்தையும் வெறுப்பையும் மட்டுமே ஏற்படுத்துகிறதுசட்டத்திற்கு பாலின வேறுபாடு பிரிவு எல்லாம் கிடையாது தவறு செய்பவர்கள் எவராயினும் சட்டபடி தண்டிக்கபடவேண்டும்',\n",
              " 'இவர்கள் அராஜகம் மிக அதிகம் போலீஸ் துறை கடுமையான நடவடிக்கை எடுக்க வேண்டும்',\n",
              " 'கூவாகத்தை இழுத்து மூடுங்கஇனிமே எங்க ஊரு பக்கம் வரக்கூடாது',\n",
              " 'யாரிடம் தவறு உள்ளது என சரியாக விசாரித்து பிறகு தக்க தண்டனை வழங்க வேண்டும்',\n",
              " 'intha mathiri yellam panna thirunelveli la oru thirunangaiiya adichathu thappe illaenna onnu adi vanganuthu appavi ungala mathiri alungala tha veri kondu vettaiiyadanum',\n",
              " 'the police who standing behind it is a women ',\n",
              " 'இவர்களால் அனைத்து பொது மக்கள் களுக்கும் எப்போதும் இடை யூ று தான் மிகவும் இரக்கம் இல்லாதவர்கள் அரசு கவனத்தில் கொள்ள வேண்டும்',\n",
              " 'திரு நங்கைகளின் அட்டகாசம் அதிகமாகிக்கொண்டே போகிறது ரயில் நிலையம் பஸ்ஸில்உடனே தமிழக அரசு நடவடிக்கை எடுக்க வேண்டும் ',\n",
              " 'இப்படி நடப்பதால் வெறுக்க தான் செய்வாங்கஅன்பாக பேசியிருந்தால் உணவக உரிமையாளர் விட்டுருப்பார்',\n",
              " '9 க்கு யாரும் உதவி செய்யாதிர்கள் காவல் துறை அவர்களை சுத்தடிச்சி சுண்ணாம்பு தடவ வைக்கும் விரைவில்',\n",
              " 'காவல் துறையினர் கவனித்து அனுப்பி விடவேண்டும் ',\n",
              " 'kannutheriyamal irukkindravargale ulaithu saapidraanga idha jenmangalukku yenna korachal indha polapukku naandukittu saahalam 9  nayhala',\n",
              " 'இவர்களுக்கு உணர்ச்சிகள்அதிகம் வரும்',\n",
              " 'இவர்களை மக்கள் வெறுப்பதற்க்கு இந்த மாதிரி காரணங்கள் பல',\n",
              " 'இவங்கள வெக்க வேண்டிய இடத்துல வெச்சி இருக்கணும்',\n",
              " 'இது போன்ற திருநங்கைகளை என் கவுண்டரில் போட்டு தள்ள வேண்டும் இவர்களால் நாட்டுக்கு என்ன பிரயோஜனம் இவர்களை ஒழித்தால் அதுவே தர்மம்',\n",
              " 'மக்கள் தொகை அதிகமாகிவிட்டது இது போன்றவர்களை அட்டவனைபடுத்து ஓரளவு மக்கள் தொகை குறைக்க இதுவே சிறந்த வழி அரசாங்கம் இதை கவனத்தில் வையுங்கள் இதுவே சிறந்தது',\n",
              " 'இதுங்க பாவம்னு சொல்ர சில பரதேசிங்க எங்கேடா போனீங்க',\n",
              " 'இருக்க இடம் கொடுத்தால் படுக்க பாய் கேட்பார்கள் என்பது சரியாக உள்ளதே',\n",
              " 'ஒவ்வொரு மிருகத்திற்கும் ஒரு குணம் உண்டு அதுதெரியாமல் இருந்தால் இப்படித்தான்',\n",
              " 'ரொம்ப ஓவர் panuthuka கை கால் நல்ல தானா இருக்க',\n",
              " 'இவர்கள் எடுப்பது பிச்சை ஆனால் அதிகாரப்பூர்வமாக பிச்சை எடுக்கிறார்கள் இவர்களுக்கு முதலீடு என்பது நாம் இவர்கள் மீது வைத்து இருக்கும் பயம் தான் இதை இவர்கள் அவர்களுக்கு சாதகமாக பயன்படுத்திக் கொண்டு நம்மிடம் பணம் பறிக்கும் வேலையை செய்து வருகிறார்கள் இவர்கள் செய்யும் அராஜகத்தை அரசாங்கம் கண்டு கொள்ளாமல் இருப்பது காவல் துறை கண்டு கொள்ளாமல் இருப்பது இவர்களுக்கு சாதகம் எடுப்பது பிச்சை இதில் என்ன அதிகாரம்',\n",
              " 'எனக்கு தெரிந்த ஒரு குடும்பத்தையே சீரழிச்சவங்க',\n",
              " 'இதுபோல் தரமற்ற செயல்கள் செய்யும் போது அவர்கள் மீதுள்ள மரியாதை குறைகிறது',\n",
              " 'திமிர் பிடிச்சவனுவ  இதுகள வெளுத்து விட்ருக்கனும்',\n",
              " 'உங்களை எல்லாம் எங்களோடு இணைக்க ஆசைப் பட்டோம் முதலமைச்சர் ஸ்டாலினின் பிறந்தநாள் மேடையில் கூட ஏற்றி வைத்து அழகு பார்த்தோம் ஆனாலும் இன்னும் நீங்கள் உங்களை மாற்றிக் கொள்ள வேண்டும்',\n",
              " 'எல்லா இடங்களிலும் இந்த தொல்லைகள் தொடர்கதை',\n",
              " 'pitchakaara naaihala hote kulla yen vitteenga',\n",
              " 'indha news ha thavirthu irrukalam aldredy avangala romba kevalamaa treat pandranga',\n",
              " 'intha thirunangaigal romba aniyayam pannuthunga pudichi jeila podanum ithungalaa overa aduthunga',\n",
              " 'அந்த திருநங்கைகள் ஆதரிக்கும் கட்சி எது என்று விபரம்தெரிஞ்சவங்களுக்கு தெரியும்',\n",
              " 'நல்லவங்களும் இருக்காங்க அவங்கதுல சில பேரு ரெம்பா மோசமாக நடக்குராங்க',\n",
              " 'இவர்களின் பிறப்பே பிரச்சினையானது தான் இவர்களின் நடவடிக்கைகளை இவர்கள் ஒழுங்கு படுத்திக் கொள்வதே நல்லது\\u200c',\n",
              " 'ஊருடன் பகைக்கின் வேருடன் கெடும் என்கிற சிறுபான்மை பெரும்பான்மை சமுதாய அளவு கோலை மதித்து நடந்து கொள்வது தான் வாழ்க்கையை வாழ வைக்கும் அடாவடிகள் வாழ விடாது',\n",
              " 'இந்த உலகத்தில் எவராக இருந்தாலும் உழைத்து தான் சாப்பிட வேண்டும் இது தெய்வ நியதி திருநங்கைகளுக்கும் இதுதான் ஒழுங்குமுறை ',\n",
              " 'திருநங்கைகளுக்கு சுய பெருமை கூடாது அது இவர்களுக்கு தகுதி அல்ல என்பதை இவர்கள் உணர வேண்டும்',\n",
              " 'ஆகவே திருநங்கைகள் இறைவல் பெறுவதை குறைக்க வேண்டும் வேலை பார்த்து தான் ஒழுக்கமான முறையில் \\u200c வாழ  முயற்சிக்க வேண்டும்',\n",
              " 'இந்த அராஜகம் தொடருமானால் தங்களுக்கு அரசு வழங்கும் சலுகைகளை மறுபரிசீலனை செய்ய வேண்டியிருக்கும் ஆகவே இதுபோன்ற அராஜகத்தை தவிர்ப்பது நல்லது ',\n",
              " 'இது போன்ற ஒரு சில திருநங்கைகளால் மற்ற திருநங்கைகளும் அசிங்கப் படுகிறார்கள் காவல்துறை தக்க நடவடிக்கை எடுக்க வேண்டும் ',\n",
              " 'ஆன்மிகம் என்ற போர்வையில் மக்களை பயப்படுத்துத முயற்சி செய்கிறார்கள்மக்கள் விழிப்படைய வேண்டும்',\n",
              " 'சாப்ட காசு குடுக்க வேணாமா உன் அப்பனா கடை வச்சுருக்கான்  இவங்களே இப்டிதான்',\n",
              " 'entha nai kalal ella tjetu nagkai ku kedad peyat',\n",
              " 'அடிச்சி பள்ள கழட்ட வேண்டியதுதானே நாய்களை  கைய ஓடியுங்க சார் என்ன கைய தட்டுது  திருட்டு நாய்கள்  சென்னையில் நான்கு ஆண்டுக்கு முன்பு ஒரு அதிகாரியை ட்ரைனில் யத்தள்ளி கொலை செய்து விட்டார்கள் இந்த ஒம்பதுகளுக்கு என்ன திருவிழா மனச்சாட்சி பாக்காதீங்க நாய்களை சுட்டு போடணும்',\n",
              " '5 rupees kudutha nambalaiye avlo dhana nu avumanam paduthuvangaperiya note kuduthadhan vaangipanga',\n",
              " 'இப்போ திருநங்கைகள் என்பது ஒரு branding name மாதிரி ஆகிவிட்டது',\n",
              " 'நண்டு கொழுத்தால் வளையில் தங்காது முட்டிக்கு முட்டி தட்டி கொரில்லா செல்லில் போடுங்க சார்',\n",
              " 'busstand poradhuke bayama iruku ivangaluku kasu kodukalana thitranga',\n",
              " 'இவர்களுக்கு பிச்சை போடாதீங்க சொகுசு வாழ்கை valranga',\n",
              " 'ஏம்மா திருநங்கைகளா இது உங்களுக்கே நியாயமா படுதா',\n",
              " 'யாரோ பன்றதுக்கு நாங்க என்ன பண்ணுவோம் னு கேக்குறவங்க இவங்க பண்றதுக்கு என்ன பண்ணலாம் நீங்க முடிவு ஈடுகட்டும்',\n",
              " 'இவர்கள் அநியாயம் தாங்கமுடியவில்லை',\n",
              " 'இவர்களுடைய அட்டுழியம் அடக்க வேண்டும்',\n",
              " 'nalla amma erukanga but ivanga nalla thaa ellarum mistake but my opinion avungalum malla mathiri thaa payan ponnu sq respect  thirunangai ah amma ni sotren nu nenaikathinga but avunga ellarum amma thaa',\n",
              " 'this is the real face of this saniyans dont show mercy on them dont get bless from them either',\n",
              " 'நான் தொலைபேசி கடை வைத்து இருக்கிறேன் ஒரு நாளைக்கு என் கடைக்கு பிச்சை கேட்டு வருபவர்கள் 10 ல் இருந்து 15 பேர் வருவார்கள் ஆனால் இதில் திருநங்கைகள் 8 ல் இருந்து 10 பேர் வருவார்கள் இவர்கள் வரும் போது அவர்களின் காதலர்களுடன் மொபைல் போன் பேசி கொண்டு தான் வருவார்கள் இதை எதற்கு சொல்கிறேன் என்றால் எடுப்பது பிச்சை என்று கூட உணராமல் அதிகாரமாக வருவது 2 ரூபாய் கொடுத்தால் வாங்க மாட்டார்கள் 510ருபாய் கொடுக்க வேண்டும் என்று சண்டை போடுவார்கள நானும் கடையில் கூட்டம் இருப்பதால் கொடுத்து விடுவேன ஒரு நாள் ஒரு திருநங்கை வந்து 10 ருபாய் கொடு என்று என் நண்பரை கேட்டது அதற்கு என் நண்பன் 5 ருபாய் தான் கொடுக்க முடியும என்றதும் அவரை பார்த்து அசிங்கமான வார்த்தைகளில் அவரின் அம்மா மனைவி குழந்தைகள் என அனைவரையும் தகாத வார்த்தைகளால் திட்டி தீர்த்து விட்டு அந்த திருநங்கை தன் ஆடைகளை கழற்றிவிட்டு அசிங்கமாக நடந்து கொண்டார்கள் பின்பு என் நண்பரை பார்த்து நீ என்னிடம் தவறாக நடந்து கொண்டாய் என்று வெளியே சொல்வேன் என்றது அதற்கு நாங்கள் இங்கே சிசிடிவி கேமரா இருக்கிறது என்றதும் எதிரில் உள்ள மற்ற திருத்தங்களை கைதட்டி அழைத்து அடிக்கும் அளவிற்கு வந்தார்கள் நான் காவல் எண் 100 க்கு புகார் கொடுக்க அனைவரும் சென்று விட்டார்கள் பின்பு காவலர்கள் வந்தார்கள் அவர்கள் கூட நான் சென்று அந்த திருநங்கைகளை அடையாளம் காட்டினேன் ஆனால் அங்கு இதை விட கேவலமாக காவல் துறை அதிகாரிகள் நடந்து கொண்டார்கள் அந்த திருநங்கைகளிடம் 500 ரூபாய் வாங்கி கொண்டு என்னை அனுப்பினார்கள்',\n",
              " 'பொது இடங்களில் இவா்கள் மக்களிடம் கட்டாய வசூல் செய்கின்றனா்',\n",
              " 'இவர்கள் அராஜகம் தான் இப்பொழுது அதிகம் அந்த சாமியின் பெயரை கெடுக்கிறது',\n",
              " 'ivargalai pondra thiyavargalaal nallavargalum pathika padugirargaloru silar kasta pattu thangalum intha ulagil valarnthu ulloam ena velicham kattugirargal ivargalai pondra silar avargalai avamaanam paduthi kasta pattu velicham kattiya avargalaiyum serthu irutiladaigirargal',\n",
              " 'oru silar ivargal seivadhal ellorukkum bad name',\n",
              " 'இவர்கள் திருநங்கை இல்லை தெரு நங்கை',\n",
              " 'இந்த 9கள் தொல்லை தாங்கமுடியல அராஜகம் பன்றானுலுக ',\n",
              " 'oru sila nallavargal irukkanga but ivunga vandhadhu car aa irundha adha oadaikkalam',\n",
              " 'சாப்பிட காசு இல்லன்னா நீ எல்லாம் எதுக்கு சாப்பிடுவாரா வெக்கமில்லாம நீ எல்லாம் சாமி கும்பிடலாமா',\n",
              " 'திருநங்கை ஒன்பது என்பது பெண் வேடமிட்ட ஆணே தவிர வேறில்லை விபச்சார நாய்களை அடிச்சி துவைக்கனும்இதுக்கு ஒரு சில சப்போர்ட் வேற',\n",
              " 'இந்த மாதத்தில் அதுவும் விழுப்புரத்தில் இவர்கள் ஆதிக்கம் தான் அதிகம்',\n",
              " 'இதனால் தான் பல உணவகங்களில் டோக்கன் சிஸ்டம் உள்ளது',\n",
              " 'ஒரு சில திருநங்கைகள் செய்யும் இச்செயலால் படித்த ஒட்டு மொத்த திருநங்கைகளுக்கு அவப்பெயர்தான் இவர்களை போன்றோர் என்றுதான் திருந்தபோகிறார்களோ',\n",
              " 'its fact few persons romba rudeah behave pannuvanga horrible moment adhuvum na school padikum podhu kadaiku poitu return varapa things a pudingi vechukitu double meaning la balloon venuma pudikuma ketanga naanum parakura balloon nunechanu mandaiya aatinu pudikum sollitan',\n",
              " 'apo puriyala 8yrs kalichu aprm puridhu',\n",
              " 'they are not buggered nowadays they have a big circle with the rowdy gang pls dont help this kind of people pls help and feed food for aged people police simply watching the incident',\n",
              " 'நாய குளிப்பாட்டி நடு வீட்டில் வைத்து அது என்ன பண்ணனும் இந்த மாதிரி தான் இவங்க கதை',\n",
              " 'ஓட்டலில் சாப்பிட்டு விட்டு பணம் கொடுக்க மறுப்பது தாக்குதல் நடத்தும் சம்பவங்களை முதலிலேயே தண்டித்து இருந்தால் சட்டம் ஒழுங்கு நடவடிக்கைக்கு பயந்து இந்த மாதிரி நடந்து இருக்காதுதவறியதால் வந்த வினைகள் தான் இந்த கதை தொடர்கிறதுயாராக இருந்தாலும் தண்டனை கொடுக்க வேண்டும்',\n",
              " 'ஒழுங்கு நடவடிக்கையை மக்கள் மனதில் பதிய வைக்க வேண்டும்',\n",
              " 'காவல்துறைக்கு இதெல்லாம் கண்ணுக்கு தெரியாதா',\n",
              " 'அங்க police என்ன பண்ணிட்டு இருக்காரு',\n",
              " 'கைத்தட்டி அதிகாரப் பிச்சை எடுக்கும் போதே இவ்வளவு கொழுப்பு இருந்தா இன்னும் மேல மேல வளர்ந்தா உங்களை பிடிக்க முடியாது டா டி',\n",
              " 'சூப்பர் இங்கு இப்படித்தான்தொழில் செய்பவன் பாவம்',\n",
              " 'தினசரி அவர்கள் அதிகம் பணம் சம்பாதிக்கின்றனர்',\n",
              " 'சாப்பிட்ட உணவுக்கு பணம் தராததினால் வந்த சண்டை',\n",
              " 'nallavarkal mathiyul ippadiyum silar irukkirarkal',\n",
              " 'இவர்களில் சிலர் மதுரைல ஹோட்டல் வைத்து உழைத்து வாழ்கிறார்கள் அதை பார்த்தவது திருந்தடும் கடைல யாரும் காசு குடுக்காதீர்கள் அப்பதான் thirunduvargal',\n",
              " 'indha nayingala modhalla sapida vittuirukka koodathu',\n",
              " 'சாப்பிட்டதுக்கு காசு கொடுக்கணும் அல்லது கடன் ஆவது சொல்லலாம் இப்படி இரண்டும் கெட்டானாக இருக்கக் கூடாது',\n",
              " 'police parthu konde irungal avala adichi thookki ulla podunga sir',\n",
              " 'இவர்கள் தொல்லை தாங்க முடியவில்லை ரயிலில்பஸ்ஸில் இதை தடுத்து நிருத்த வேண்டும் அரசாங்கம்',\n",
              " 'திருத்தம் கோவளம் டோல்கேட் டில் 9 களுக்கு என் மகன் பரிதாபப்பட்டு வேலைக்கு போகும் போதெல்லாம தினமும் ஆளுக்கு 10 10 ரூபாயாகக் கொடுப்பான் இப்போது தரக்கூடாது என இந்த சம்பவத்தை காட்டி சொல்லப் போ கிறேன்',\n",
              " 'கோவளம் டோல்கேட் டில் என் மகன் வேலைக்கு போகும்போது',\n",
              " 'இப்படி ஒரு வாழ்க்கை வாழுறதுக்கு செத்து போயிடலாம்',\n",
              " 'ivarlagal seitha seyaluku thirunangaikal anaivarum kutram solathirgal',\n",
              " 'திருநங்கைகள் சாதாரணமாக தவறு செய்ய மாட்டார்கள் அங்கு அவங்களுக்கு பாதகமாக எதோ ஒரு சம்பவம் நடந்து உள்ளது தீர விசாரிக்க வேண்டும்',\n",
              " 'சில கேடு கெட்ட கழிசடைகள் செய்யும் தவறால் மற்ற நல்ல மரியாதையா வாழ்ந்து கொண்டு இருக்கும் திருநங்கைகளுக்கும் அவமானம்',\n",
              " 'bombay koliwada area pakkam nenga pannum velai nallatha',\n",
              " 'stalins vidiyal aatchi and tamil nadu',\n",
              " 'இவர்களை மதிக்கவே கூடாது தூக்கி போட்டு மிதிக்கணும்',\n",
              " 'திமிர் பிடித்த திருநங்கைகள்',\n",
              " 'pichainaigalyaruminipichaipodakoodadhuadithuvirattavendum',\n",
              " 'இந்த அலி பசங்க மேல இறக்கப்படுகிறோம் இவங்க செஞ்ச காரியத்த பாத்தீங்களா ரவுடி மாதிரி அடிச்சு உடைத்தது தப்பில்லை கையேந்து நா எவ்வவு பேர் பாவப்பட்டு 10 ரு கொடுக்குறாங்க இதுமாதிரி தவறு செய்யலாமா இந்த நாய்களுக்கு இறக்கப்படுவது பாவம் நமக்கு பிடிக்கும் அந்த தொழில் செய்பவன் எவ்வளவு நஷ்டப்பட்டிருப்பான்',\n",
              " 'இது என்ன கொடுமை இது என்ன ஹோட்டலா இல்ல அன்ன தான கச்சேரியா',\n",
              " 'apram epdi unga mela irakkam varum',\n",
              " 'evalunka athikama epdithan panralunka onnu theavidiya thozhil ella vazhipari ella picha oruthiyavathu vealai pakkalunkala sapakeadu da',\n",
              " 'yen sister ipti pandringabut antha hotel owner enna pesunanga ungaluku yen ipti kovam vanthuchinu enaku theriyalabut konjam porumaiya irunthu irukkalam sister',\n",
              " 'இதுல அதிகார திமிரு புந்த வேற',\n",
              " 'பசிக்கு சோறு போட்டவன் கடவுளுக்கு சமம்',\n",
              " 'அதுல வெஷத்த கலக்க வச்சுடாதிங்க',\n",
              " 'இவளுங்கள கொண்டு போய் மாவுக்கட்டு போட்டா தான் திருந்துவாளுக',\n",
              " 'oru sila peraala paavam ottu moththa thirunangaigalum asinga paduraanga paavam',\n",
              " 'intha sambhavam enakkum nadanthirukku',\n",
              " 'இவர்கள் அராஜகத்தை தடுக்க தனி சட்டம் கொண்டு வர வேண்டும்',\n",
              " 'ivanga mela la erakkame padakoodathu romba mosamanavanga',\n",
              " 'public to avoid them and govt to punish them',\n",
              " 'worst characters punished them imminently ',\n",
              " 'தனியாக இவர்களிடம் மாட்டிக் கொண்டால் மிரட்டியே பணத்தை பறித்துவிடுவார்கள்',\n",
              " 'அசிங்கமாக திட்டுவார்கள் கொலையும் செய்வார்கள்',\n",
              " 'அனுபவ பட்டவர்களுக்கு இவர்களை பற்றி தெரியும்',\n",
              " 'கடுமையான நடவடிக்கை தேவை',\n",
              " 'once when i was traveling i offered money when they beg but they took money from my purse fully they are mercy less people',\n",
              " 'nanum oru thirunangai than yaro oru silar ipdi nadanthatharku ottu motha maguthayum ilivaga pesuvathi niruthungal avargal apdi nadanthukolla anga enna nadanthathu endru namakku yarukum theriyathu avarkal odrum araka manam komdavargal ilai athai mothalil nan ariya vendum angalpengalilum iraka matra seyalgal sribavargal irukindrargal atharuku avargal mothathayum solla mudiyuma ',\n",
              " 'ellorukkum ore சட்டம் என்ற வினைகொண்டு செள்ளுக்குள் வைத்து சட்டத்தினக்கீழ் சடங்கு செய்தால்தான் இதுபோன்ற திருநங்கைகளுக்கு பயம் வரும் ',\n",
              " 'ivanga kitta aasirvatham vaanguratha first stop pannunga moodanambikayin ucham ithu than avanga mela parithabapattu yaaro start panni vittathu ithu',\n",
              " 'இந்தக் காட்சியைப் பார்க்கும்போது இவர்கள்மீது இரக்கம் கொள்வது தவறெனத் தோன்றுகிறது ரௌடிகளுக்கும் இவர்களுக்கும் பெரிய வித்தியாசம் எதுவுமில்லை திருநங்கை சமூகத்திற்கு கேடுகாலம் வந்துவிட்டது',\n",
              " 'இந்த லட்சனத்தில ஒரு எம்எல்ஏ மூச்சுபுடிச்சிட்டு அவங்களுக்கு அதிகமான சலுகைகள் அறிவித்து மகிழ்கிறார் இவர்களை அரசே ஊக்கப்படுத்துவது தன் கண்ணை தானே குத்திக்கொள்வதற்க்கு சமம் இவர்களின் அட்டகாசம் ரயில்வேயில் அதிகம் பணம் குடுக்காத காரனத்திற்க்காக ஓடும் ரயிலில் இருந்து கீழே தள்ளிவிட்டு கொன்ற சம்பவங்கள் நடந்திருக்கிறது எத்தனை செல்போன்களை தெரிந்தே கைவரிசை காட்டியிருக்கிறார்கள் தற்போது அவர்கள் வைத்திருப்பது அனைத்தும் பணம் கொடுத்து வாங்கியதல்ல வியாபரிகள் இவர்களுக்கு கரிசனம் காட்டக்கூடாது எதற்காக இவர்களுக்கு பயப்படுறீங்க அடித்து விரட்டுங்கள் இவர்கள் அனைவரும் சோம்பேரிகள் உழைக்காமல் சம்பாதிக்கும் வர்க்கம் கண் இல்லாத குருடர்கள் கூட வியாபாரம் செய்கிறார்கள் ஆனால் இவர்கள் ஒவ்வொருவரும கிட்டதட்ட என்பது கிலோ எடையாக இருந்தும் வேலைக்கு செல்லாமல் ரவுடிகளை போல் மாமூல் வசூலிக்கிறார்கள் ரவுடி மாமூல் கேட்டால் போலீஸ் பிடிக்கிறது இவர்கள் வசூலிப்பதற்க்கு பெயர் என்ன அரசாங்கம் இவர்களை இப்படியே விட்டால் நிறைய பிரச்சனைகள் நடக்கும்',\n",
              " 'சிலப் பேர் இன்னும் இப்படி தான் உள்ளர்கள் உடல் உழைப்பின்றி வாழ நினைப்பவர்கள் முட்டாள்கள்',\n",
              " 'திருநங்கைகள் பாவம் புண்ணியம் பார்க்க கூடாது ஏனேன்றால் நான் இவர்கள் களால் அனுபவபட்டேன் என்னோட இன்றியும் போய்விட்டது வேலையும் போய்விட்டது இவர்களை சும்மா விடக்கூடாது',\n",
              " 'see the way they behave n kancheepuram temple area they simply threaten and forcibly ask money no police to check this',\n",
              " 'இவர்கள் இதைவிட இன்னும் கேவலமாக நடந்து கொள்கிறார்கள் \\u200c',\n",
              " 'konjam overha thaan porankalo illa ithu romba over thaan aathadi ennaha adi',\n",
              " 'onnum panna mutiyathu pola mm',\n",
              " 'indha mathiri pannuradha partha mariyadhaiye pogudhu chi ',\n",
              " 'ஆம்பளையை அடிக்கலாம் பொம்ளையை திட்டலாம்',\n",
              " 'இவர்கள் அர்தநாதிஸ்வரர்கள் சக்தி சிவன் இருவரும் கலந்தவர்கள்',\n",
              " 'இவர்களுக்கு மரியாதையுடன் தாணம் செய்ய வேண்டும்',\n",
              " 'yen ipidi panranga avru antha hotel evlo kastapatu nadathuvaru avru ulaipu evlo irukum …ketka dha seivaru yaru itunthalam not only these people …neriya rowdy pasanga panraga sapitu bill pay panama porathu elayana vetrathu yethuku ithulam…kaasu elayana kuda ela pasila sapitom soli vitrunga don’t spoil their names and don’t break the properties…food is equal to god …respect the food and education…',\n",
              " 'sapita sapadukukooda kasu koduka mudiyamala poiduchi ivalungalala enna polapu ithu ippadi valurathuku sethu tholayalamla',\n",
              " 'nallavangalum irrukanga intha mari kiruku punadigalum irukaluga',\n",
              " '99999999999naikale pudichu jailla poduka ',\n",
              " 'doing worst behaviour in porur bypass road',\n",
              " 'athu nalla than yarum respect koodukurathu illa',\n",
              " 'intha mathiri silla per nalla ',\n",
              " 'apadithaa saivaanga   saapadulaa kandathium kalarierupa',\n",
              " 'ஏன்டா கதை மயிறு ஒட்டறீங்க நீங்க தான் அவங்கள கழுத்தை பிடிச்சு தள்ளறீங்க',\n",
              " 'மாண்புமிகு தமிழக முதல்வர் உங்கள் மிகுந்த மரியாதை வைத்துக்கொண்டு திருநங்கைகள் அரசு சலுகைகள் கொண்டு வந்து உள்ளது இதை நல்ல முறையில் பயன்படுத்தி கொள்ளலாம் இந்தமாதிரி தவறு செய்யக்கூடாது பொதுமக்கள் மத்தியில் இவர்கள் அனைவரும் இந்த மாதிரி தான் உங்கள் அனைவருக்கும் கெட்டு பெயர் வந்துள்ளது',\n",
              " 'தின்ன சோத்துக்கு தான் பணம் கேட்டாங்க உங்க கூட படுத்ததுக்கா கேடீடாங்க',\n",
              " 'சிலநாய்கள்செய்யும்செயலால்எல்லாநாய்களுக்கும்அவப்பெயர்',\n",
              " 'தல  தளபதி முட்டா கூட்டங்களுக்கு நடுவில் உங்களை போன்றவர்களை காண்பது உண்மையில் ஆச்சர்யம்தான் ',\n",
              " 'நமது பெண்களை கேவலப்படுத்திய முன்னோர்கள்',\n",
              " 'ithu pondra pala kootam ullathu nanba naam mendu ezhugirom',\n",
              " 'ithil pengali kevala padutha enna ullathu',\n",
              " 'இதில் என்ன கேவலம் லூசு இது அந்த காலத்தின் இளமை முதுமை சிறுவன் போன்ற பெயர்களை கூறுகின்றனர் இது உனக்கு கேவலமா உனக்கு தமிழர் வரலாறு தெரியாது அவர்கள் பெண்களின் வளர்ச்சி அதாவது இப்போது நாம் சொல்லும் சிறுவர் இளமை முதுமை போன்ற வார்த்தைகள் சும்ம எதாவது சொல்ல வேண்டும் என்று சொல்ல கூடாது இப்போது கூட கிராமத்தில் உள்ள பாட்டிகள் இந்த பெயரை பயன்படுத்துவார்கள் சும்மா பேச கூடாது தமிழ் வரலாறு படி போ',\n",
              " 'enna diveryknb the topic just like dravidam politics shame on you',\n",
              " 'ஆனால் இதை சொன்னால் நம்மை கேவலமான சொற்களில் திட்டுவார்கள்',\n",
              " 'மனித இனம் அறம் என்ற ஒற்றை பண்பால் விலங்குகளிடம் இருந்து வேறுபடுகிறான் அறத்தை பயிற்றுவித்த இனம் அழிந்தால்  மனித இனத்தின் வீழ்ச்சி ஆரம்பம்',\n",
              " 'இலங்கையில் சிங்கள உருவானதும் இப்படிதான் சிங்கள மொழி கண்ணடன்மொழியை ஒத்து இருக்கிறது',\n",
              " 'தமிழ் சிந்தனையாளர் பேரவை யுடியூப்பில் பாண்டியன் அய்யா தெளிவாசொல்லிருக்கார்',\n",
              " 'antha kanoli in link vendum nanba',\n",
              " 'sinhala kannada telungu scripts are same',\n",
              " 'அது கன்னடம் இல்லை தெலுங்கு ஏனெனில் கன்னட மொழி எழுத்துக்களும் தெலுங்கு மொழி எழுத்துக்களும் ஒரே மாதிரி இருக்கும் கன்னடர்கள் நல்லவர்கள் சிங்களர்களின் நாயக்கா என்ற பெயரை வைத்தே தெரிந்து கொள்ளலாம் அவர்கள் தெலுங்கு நாயக்கர்கள் என்று',\n",
              " 'ஆம் மகாபலிுரத்தில் உள்ள பல்லவ எழுத்து முறையை உற்று கவனித்திங்கனா அது அப்படியே இன்றைய சிங்கள எழுத்து முறையை ஒத்தி இருப்பதை அறியலாம்',\n",
              " 'தமிழ் மொழி எழுத்து வரிவடிவம்',\n",
              " 'தமிழ் எழுத்துக்களின் உருவாக்கம்',\n",
              " 'ஆம் அந்த நல்ல மனம் படைத்த கன்னடர்கள் தான் தமிழ்நாட்டிற்கு தண்ணீர் தரமாட்டோம் னு சொல்லுறானுங்க',\n",
              " 'நண்பா தமிழ்நாடு மட்டுமன்றி இலங்கை  கர்நாடகம் போன்ற பகுதிகளில் அவர்கள் ஆதிக்கம் பதவியில் இருக்கவே அவர்கள் சிங்களர்கள்  கன்னடர்கள் என்று அவர்கள்  telugu naidu  பச்சோந்தி போல் ஏமாற்றி தமிழர்களை அடக்கும் தெலுங்கர்கள் ',\n",
              " 'இதுவே கர்நாடகத்தில் 1cr tamils but they dont have administration but little bit valmiki community asking for 75  reservations  சிந்தியுங்கள்',\n",
              " 'சிம்பு அறிக்கை விட்டபோது அனைவருக்கும் தண்ணீர் தந்து ஆதரவு தருவோம் என்று கன்னட மக்கள் சொன்னார்கள் ஆனால் காவிரி பிரச்சினையில் அரசியல்வாதிகள் அடியாட்கள் வைத்துதான் தமிழர்களை தாக்கினார்கள் கன்னடர்கள் நல்லவர்கள் தான்',\n",
              " 'நமது பெண்களை கேவலப்படுத்திய முன்னோர்கள்',\n",
              " 'v r finance may be cuz chalukyas rashtrakutasnkadambas all were our enemies but atleast they fought and lost that’s why we have to respect kanndigas',\n",
              " ' pallavan halftamil half north indian',\n",
              " 'vasantha srikantha no theynare pure tamils but corrupted by aryan culture',\n",
              " 'சிங்களத்தவர் சமையலும் கேரளத்து சமையலும் ஒற்றுப்போகும்  அவர்கள் கலாச்சாரமும் சிலது மலையாள கலாச்சாரத்தோடு ஒற்று போகும் ',\n",
              " 'எப்படி கலப்படமானாலும் எல்லா ரத்தத்திலும் பண்டைய தமிழ் மக்களின் மரபணுக்கள் உலக முழுவதும் பல்வேறு நாடுகளிலும் உள்ள மக்களிடம் வியாபித்துள்ளது தப்பிக்கவே முடியாது ',\n",
              " 'muthalil sinhalan unakku theriyuma sihalam aryan language orrisa bengal tha sinhalanoda orgin aattu mandhai koottathil oru aadu yeppadi sellumo adhea paadhayil matra aadum chellum athu manithanukku porunthathu sindhithu paar vidai kidaikkum',\n",
              " ' balaji tamil promter  krishanan கிருக்காடா நீ வட்ட எழுத்துக்கள் தான் சிங்கள மொழி கன்னடம் தெலுங்கு வட்ட எழுத்துக்கள் சிங்களமும் வட்ட எழுத்துக்கள் தான் ஓடிய மொழி பிராகிருத மொழியில் இருந்து தான் பிறந்தது',\n",
              " 'தமிழ் கவுண்டர்கள் தெலுங்கு சக்கிலியிடம் சிக்கி சுருண்டு விட்டணர் காட்டு வேளை  ஊட்டு வேளை கொங்கு கவுண்டர்கலுக்கு சக்கிலியர் என்று ரேசன் கார்டில் மாற்றி விட்டனர் பிறகு காசு கொடுத்து மாற்றிக்கொண்டனர்',\n",
              " ' r finance ஆம் கன்னடர்கள் நல்லவர்கள் தான் யதார்தமான மனிதர்கள்',\n",
              " ' an athiest not an athiest அதனால்தான் காவிரியில்தமிழ் நாட்டுத் தமிழர்கள் தண்ணீர் கேட்டதற்காகஅங்கு பெட்டிக்கடை வைத்து பொறிகடலை விற்று பிழைப்பு நடத்திக் கொண்டிருந்த அப்பாவி தமிழ் மக்களை 1991ஆண்டு அடித்து தமிழ் நாட்டுக்கு அகதியாக அவர்கள் தமிழர்கள் ஓடி வந்தார்கள்',\n",
              " 'சிங்களா மொழி உடைஉணவு ஒடிசா வுடன் ஒத்து போகிறது',\n",
              " 'அண்ணா காலை வணக்கம் திராவிடத்தை ஒழிப்போம் எங்கும் தமிழ் எதிலும் தமிழ்',\n",
              " '350 கோடி கொடுத்து பீகார் காரனை கூட்டி வந்த ராஜதந்திரங்கள் அனைத்தும் வீணாகிவிடுமோ',\n",
              " 'சில்லு சில்லாய் உடையும் போலி திராவிடம்',\n",
              " 'தலித் மக்களை அசிங்கபடுத்தியதற்க்காக திமுகவின் ஆர்எஸ்பாரதி கைது',\n",
              " 'திராவிடம் பிதுங்கி போச்சி ஆரியம் அழுகி போச்சிabout',\n",
              " 'தயாநிதி மாறனும் சாதி வெறி பேச்சுகளால் அடுத்து கைதாவார் என்று எதிர்பார்க்கப்படுகிறது',\n",
              " ' ali  எதுவும் தெரியாத நீங்கதான் எவனோ சொல்லிக்கொடுத்தத சொல்லி கிட்டு இருப்பீங்க வெறும் பேச்சால் ஏமாந்து இன்னும் எவ்வளவு தான் அடி படுவீர்களோ',\n",
              " 'தமிழர்களுக்கு நடந்த கொடுமைகளை கூற எத்தனை தொடர்கள் போட்டாலும் முடிவில்லாமல் போய்க் கொண்டே இருக்கும் போல இருக்கிறது',\n",
              " 'நூறாண்டுகள் ஆரியர்களை எதிர்த்த திராவிடம் பெரியதா 3500 ஆண்டுகள் எதிர்த்த தமிழ் பெரியதா தரமான கேள்வி',\n",
              " 'இதைக்கூட நம்மால் சிந்திக்க முடியவில்லையே என்று நினைக்கும்போது வேதனையாக உள்ளது',\n",
              " 'இந்த வஞ்சக உலகத்தில் தமிழரின் பெருந்தன்மை அறநூல்கள் கூறியவை எல்லாம் எடுபடாமல் போய்விட்டது',\n",
              " 'முள்ளை முள்ளால் தான் எடுக்க வேண்டும் போல இருக்கிறது',\n",
              " 'அதற்குள் இங்குள்ள கொஞ்சநஞ்ச தமிழர்களையும் குடிக்க வைத்து பலவகைகளில் கெடுத்து பொருளாதார வலிமை இல்லாமல் பண்ணி அடிமையாக்கி விட்டார்களே',\n",
              " 'இது மட்டும் அல்ல தொலைக்காட்சி மற்றும் வெள்ளித்திரை இவற்றில் ஆர்வத்தை ஏற்படுத்தி திராவிட தொலைக்காட்சியில் மானாட மயிலாட நிகழ்ச்சியை தொகுத்து வழங்கி நம்மை திசைதிருப்பி இலங்கையில் ஈழத் தமிழர்களை கொன்று குவித்தது இந்த திராவிட திமுக கட்சி ',\n",
              " 'தங்களைப்போலவே ஆதங்கமும் அவநம்பிக்கையும் மனதில் எழுந்தாலும் உண்மை நிச்சயம் வெல்லும் என உறுதியாய் நம்புவோம்',\n",
              " 'முதல்ல பெருமாள் படத்தை உடைச்சிட்டு அப்புறம் பேசு ஆரியத்தை எதிர்த்தோம்னு…',\n",
              " 'எல்லா தமிழனும் ஆரிய அடிமையே',\n",
              " 'பார்ப்பனியத்தை எதிர்க்கும் திராவிட தமிழனே சுதந்திரமானவன்',\n",
              " 'it is said perumal is also tamil',\n",
              " 'mayon in tamil literature may be perumal',\n",
              " 'as mal refers to black',\n",
              " 'குடிக்க வைத்து அந்த மயக்கத்தில் இன்றுவரை குளிர்காய்கிறது திராவிடம் என்ற தமிழ் இன விரோதம்',\n",
              " 'ஒழிந்துபோகட்டும் தமிழின விரோதிகள் நாம் தமிழர்',\n",
              " 'நமது பெண்களை கேவலப்படுத்திய முன்னோர்கள்',\n",
              " 'கருநாடகம்  எருமைநாடு  அங்கே ஆதிக்கத்தில் இருப்பதற்காக தமிழர்களை தாக்கும் செயலில் ஈடுபடுவது தெலுங்கு பச்சோந்தி வடுகர்கள் ',\n",
              " 'அங்கே கன்னடராக மாரிக்கொண்டு ஆட்சி அதிகாரத்திற்காக அழைவது  இலங்கையிலும் ஆட்சி அதிகாரத்திற்காக தமிழினத்தை அழித்தது சிங்கள போர்வையிர் இருக்கும் தெலுங்கு வடுகர்கள் வன்மன் ',\n",
              " 'பல நாள் திருடன் ஒரு நாள் அகப்படுவான்',\n",
              " 'கர்நாடாகாவில் இருந்து தமிழர்களைகாவிரி பிரச்சனையின் போது எதிர்க்கிற வட்டால் நாகராஜ் ஒரு தெலுங்கன் என்று தான் கூறுகிறார்கள்',\n",
              " 'கருணா பெயர் கொண்ட நாடு கறு நாடு அகம்',\n",
              " ' venkatraman rn கார் மழை  நாடு அகம்  கர்நாடகம்',\n",
              " 'நமது பெண்களை கேவலப்படுத்திய முன்னோர்கள்']"
            ]
          },
          "metadata": {},
          "execution_count": 24
        }
      ]
    },
    {
      "cell_type": "code",
      "source": [
        "class_names = list(set(train_label))\n",
        "class_names"
      ],
      "metadata": {
        "colab": {
          "base_uri": "https://localhost:8080/"
        },
        "id": "Gbec3EjS-KOV",
        "outputId": "d85f00d0-900d-4397-f718-920f3504cc54"
      },
      "execution_count": 25,
      "outputs": [
        {
          "output_type": "execute_result",
          "data": {
            "text/plain": [
              "['Mixed_feelings', 'unknown_state', 'not-Tamil', 'Negative', 'Positive']"
            ]
          },
          "metadata": {},
          "execution_count": 25
        }
      ]
    },
    {
      "cell_type": "code",
      "source": [
        "len(train_label)"
      ],
      "metadata": {
        "colab": {
          "base_uri": "https://localhost:8080/"
        },
        "id": "jElaoyeB-MwR",
        "outputId": "98988c21-ec66-44cc-ffb2-586c2475323d"
      },
      "execution_count": 26,
      "outputs": [
        {
          "output_type": "execute_result",
          "data": {
            "text/plain": [
              "35656"
            ]
          },
          "metadata": {},
          "execution_count": 26
        }
      ]
    },
    {
      "cell_type": "code",
      "source": [
        "class_dist = Counter(train_label)\n",
        "class_dist"
      ],
      "metadata": {
        "colab": {
          "base_uri": "https://localhost:8080/"
        },
        "id": "XuEJn3O4-SGJ",
        "outputId": "07263863-5e42-43e5-87b1-cd02eda0ab89"
      },
      "execution_count": 27,
      "outputs": [
        {
          "output_type": "execute_result",
          "data": {
            "text/plain": [
              "Counter({'unknown_state': 5628,\n",
              "         'Positive': 20070,\n",
              "         'Negative': 4271,\n",
              "         'Mixed_feelings': 4020,\n",
              "         'not-Tamil': 1667})"
            ]
          },
          "metadata": {},
          "execution_count": 27
        }
      ]
    },
    {
      "cell_type": "code",
      "source": [
        "class_dist = Counter(valid_label)\n",
        "class_dist"
      ],
      "metadata": {
        "colab": {
          "base_uri": "https://localhost:8080/"
        },
        "id": "HhP8BmqV-TXc",
        "outputId": "d3dc6d29-708c-4321-f1d0-198e59a3f202"
      },
      "execution_count": 28,
      "outputs": [
        {
          "output_type": "execute_result",
          "data": {
            "text/plain": [
              "Counter({'unknown_state': 611,\n",
              "         'Positive': 2257,\n",
              "         'Mixed_feelings': 438,\n",
              "         'Negative': 480,\n",
              "         'not-Tamil': 176})"
            ]
          },
          "metadata": {},
          "execution_count": 28
        }
      ]
    },
    {
      "cell_type": "code",
      "source": [
        "le = LabelEncoder()\n",
        "\n",
        "train_label = le.fit_transform(train_label)\n",
        "train_label"
      ],
      "metadata": {
        "colab": {
          "base_uri": "https://localhost:8080/"
        },
        "id": "bqPJyscU-XYu",
        "outputId": "28c3ec78-dc98-4b16-8d5f-93138e46c409"
      },
      "execution_count": 29,
      "outputs": [
        {
          "output_type": "execute_result",
          "data": {
            "text/plain": [
              "array([4, 2, 2, ..., 1, 2, 2])"
            ]
          },
          "metadata": {},
          "execution_count": 29
        }
      ]
    },
    {
      "cell_type": "code",
      "source": [
        "valid_label = le.fit_transform(valid_label)\n",
        "valid_label"
      ],
      "metadata": {
        "colab": {
          "base_uri": "https://localhost:8080/"
        },
        "id": "ULwKcLsT-X5V",
        "outputId": "34e88692-5e9e-4c86-d38e-ee67b569c863"
      },
      "execution_count": 30,
      "outputs": [
        {
          "output_type": "execute_result",
          "data": {
            "text/plain": [
              "array([4, 2, 2, ..., 0, 2, 2])"
            ]
          },
          "metadata": {},
          "execution_count": 30
        }
      ]
    },
    {
      "cell_type": "code",
      "source": [
        "le.inverse_transform([0,1,2,3,4])"
      ],
      "metadata": {
        "colab": {
          "base_uri": "https://localhost:8080/"
        },
        "id": "KKeIxVwf-aRo",
        "outputId": "0a9742dc-a615-4cca-95a9-2d496d917b88"
      },
      "execution_count": 31,
      "outputs": [
        {
          "output_type": "execute_result",
          "data": {
            "text/plain": [
              "array(['Mixed_feelings', 'Negative', 'Positive', 'not-Tamil',\n",
              "       'unknown_state'], dtype='<U14')"
            ]
          },
          "metadata": {},
          "execution_count": 31
        }
      ]
    },
    {
      "cell_type": "code",
      "source": [
        "class_weight = {0:sum(class_dist.values())/class_dist[le.inverse_transform([0])[0]],\n",
        "                1:sum(class_dist.values())/class_dist[le.inverse_transform([1])[0]],\n",
        "                2:sum(class_dist.values())/class_dist[le.inverse_transform([2])[0]],\n",
        "                3:sum(class_dist.values())/class_dist[le.inverse_transform([3])[0]],\n",
        "                4:sum(class_dist.values())/class_dist[le.inverse_transform([4])[0]]}\n",
        "\n",
        "class_weight"
      ],
      "metadata": {
        "colab": {
          "base_uri": "https://localhost:8080/"
        },
        "id": "xY-cHD3F-fxp",
        "outputId": "a8aa7209-08cd-4c34-eaef-c2a26d219cb1"
      },
      "execution_count": 32,
      "outputs": [
        {
          "output_type": "execute_result",
          "data": {
            "text/plain": [
              "{0: 9.045662100456621,\n",
              " 1: 8.254166666666666,\n",
              " 2: 1.7554275587062473,\n",
              " 3: 22.511363636363637,\n",
              " 4: 6.484451718494272}"
            ]
          },
          "metadata": {},
          "execution_count": 32
        }
      ]
    },
    {
      "cell_type": "code",
      "source": [
        "training_labels = tf.keras.utils.to_categorical(train_label)\n",
        "validation_labels = tf.keras.utils.to_categorical(valid_label)"
      ],
      "metadata": {
        "id": "-8b-JAZw-lU0"
      },
      "execution_count": 33,
      "outputs": []
    },
    {
      "cell_type": "code",
      "source": [
        "words_in_train = [sent.split() for sent in train_text] # Splitting the tweet into tokens\n",
        "words_in_train[0:5]"
      ],
      "metadata": {
        "colab": {
          "base_uri": "https://localhost:8080/"
        },
        "id": "MeIgo9xy-rNx",
        "outputId": "774d1560-477c-4ff8-fcc4-af3877eec8b9"
      },
      "execution_count": 34,
      "outputs": [
        {
          "output_type": "execute_result",
          "data": {
            "text/plain": [
              "[['vani',\n",
              "  'bhojam',\n",
              "  'fans',\n",
              "  'hit',\n",
              "  'like',\n",
              "  'solli',\n",
              "  '500',\n",
              "  'like',\n",
              "  'vangida',\n",
              "  'vendiyathu',\n",
              "  'than'],\n",
              " ['i', 'love', 'you', 'ajith', 'very', 'i', 'like'],\n",
              " ['ennaya',\n",
              "  'trailer',\n",
              "  'ku',\n",
              "  'mudi',\n",
              "  'ellam',\n",
              "  'nikkudhu',\n",
              "  'vera',\n",
              "  'level',\n",
              "  'trailer'],\n",
              " ['vijay', 'annaa', 'ur', 'maassssss', 'therrrrriiiiii'],\n",
              " ['நம்ப', 'நடே', 'நாசாமா', 'தான்', 'போச்சி']]"
            ]
          },
          "metadata": {},
          "execution_count": 34
        }
      ]
    },
    {
      "cell_type": "code",
      "source": [
        "words_in_valid = [sent.split() for sent in valid_text] # Splitting the tweet into tokens\n",
        "words_in_valid[0:5]"
      ],
      "metadata": {
        "colab": {
          "base_uri": "https://localhost:8080/"
        },
        "id": "V5QwzBHK-41u",
        "outputId": "94a9eb31-5361-4f96-aac0-ebd9b5fbce94"
      },
      "execution_count": 35,
      "outputs": [
        {
          "output_type": "execute_result",
          "data": {
            "text/plain": [
              "[['40', 'songsuperbkamallllla', 'im', 'waiting', 'for', 'dis', 'song', 'you'],\n",
              " ['கணத்ததோர்',\n",
              "  'அகமுடையார்',\n",
              "  'சார்பாக',\n",
              "  'படம்',\n",
              "  'வெற்றி',\n",
              "  'அடைய',\n",
              "  'வாழ்த்துகள்'],\n",
              " ['thalavia',\n",
              "  'neenga',\n",
              "  'veera',\n",
              "  'level',\n",
              "  'boss',\n",
              "  'and',\n",
              "  'neega',\n",
              "  'thaan',\n",
              "  'marana',\n",
              "  'mass'],\n",
              " ['oru', 'padam', 'patha', 'fellvera', 'level', 'music'],\n",
              " ['hairstyle',\n",
              "  'than',\n",
              "  'mattama',\n",
              "  'iruku',\n",
              "  'adhu',\n",
              "  'mattum',\n",
              "  'mathirukalaam',\n",
              "  'teaser',\n",
              "  'paakurapo',\n",
              "  'vettaikaran',\n",
              "  'padam',\n",
              "  'maari',\n",
              "  'theridhu']]"
            ]
          },
          "metadata": {},
          "execution_count": 35
        }
      ]
    },
    {
      "cell_type": "code",
      "source": [
        "words_in_test = [sent.split() for sent in test_text] # Splitting the tweet into tokens\n",
        "words_in_test[0:5]"
      ],
      "metadata": {
        "colab": {
          "base_uri": "https://localhost:8080/"
        },
        "id": "kxu2OLfI-6uC",
        "outputId": "575b209d-73de-4c3c-e92c-cbe62c1e0917"
      },
      "execution_count": 36,
      "outputs": [
        {
          "output_type": "execute_result",
          "data": {
            "text/plain": [
              "[['இது', 'புதுவகை', 'கொள்ளை', 'கூட்டம்'],\n",
              " ['சுட்டுக்கொல்ல',\n",
              "  'வேண்டும்',\n",
              "  'அல்லது',\n",
              "  'குண்டர்',\n",
              "  'சட்டத்தில்',\n",
              "  'கைது',\n",
              "  'செய்ய',\n",
              "  'வேண்டும்'],\n",
              " ['இந்த',\n",
              "  'திருநங்கைகள்',\n",
              "  'பொதுமக்களுக்கு',\n",
              "  'பொது',\n",
              "  'இடங்களில்',\n",
              "  'பெரும்',\n",
              "  'தொல்லையாக',\n",
              "  'உள்ளார்கள்'],\n",
              " ['அராஜகம்',\n",
              "  'செய்து',\n",
              "  'தங்களுடைய',\n",
              "  'மதிப்பை',\n",
              "  'தாங்களே',\n",
              "  'கெடுத்துக்கொள்கிறார்கள்'],\n",
              " ['தவறான',\n",
              "  'விடையம்',\n",
              "  'சகோஅந்த',\n",
              "  'பொண்டுகப்',\n",
              "  'புண்டாமகன்ளுக்கு',\n",
              "  'என்ன',\n",
              "  'மதிப்பு',\n",
              "  'இருந்துச்சு']]"
            ]
          },
          "metadata": {},
          "execution_count": 36
        }
      ]
    },
    {
      "cell_type": "code",
      "source": [
        "all_words_train = list(itertools.chain(*words_in_train)) # Making a flatlist of all the words in the corpus\n",
        "all_words_train[0:10]"
      ],
      "metadata": {
        "colab": {
          "base_uri": "https://localhost:8080/"
        },
        "id": "v7lSsmKg-9lp",
        "outputId": "d3bfc455-0f9c-4263-9089-e7d25cbafc53"
      },
      "execution_count": 37,
      "outputs": [
        {
          "output_type": "execute_result",
          "data": {
            "text/plain": [
              "['vani',\n",
              " 'bhojam',\n",
              " 'fans',\n",
              " 'hit',\n",
              " 'like',\n",
              " 'solli',\n",
              " '500',\n",
              " 'like',\n",
              " 'vangida',\n",
              " 'vendiyathu']"
            ]
          },
          "metadata": {},
          "execution_count": 37
        }
      ]
    },
    {
      "cell_type": "code",
      "source": [
        "all_words_valid = list(itertools.chain(*words_in_valid)) # Making a flatlist of all the words in the corpus\n",
        "all_words_valid[0:10]"
      ],
      "metadata": {
        "colab": {
          "base_uri": "https://localhost:8080/"
        },
        "id": "UA8tvV0H_B2u",
        "outputId": "8f1d48dd-4eea-4752-8a23-29e6e0179835"
      },
      "execution_count": 38,
      "outputs": [
        {
          "output_type": "execute_result",
          "data": {
            "text/plain": [
              "['40',\n",
              " 'songsuperbkamallllla',\n",
              " 'im',\n",
              " 'waiting',\n",
              " 'for',\n",
              " 'dis',\n",
              " 'song',\n",
              " 'you',\n",
              " 'கணத்ததோர்',\n",
              " 'அகமுடையார்']"
            ]
          },
          "metadata": {},
          "execution_count": 38
        }
      ]
    },
    {
      "cell_type": "code",
      "source": [
        "all_words_test = list(itertools.chain(*words_in_test)) # Making a flatlist of all the words in the corpus\n",
        "all_words_test[0:10]"
      ],
      "metadata": {
        "colab": {
          "base_uri": "https://localhost:8080/"
        },
        "id": "MaPT-OKQ_EGQ",
        "outputId": "d23a528a-3c4d-4bae-e1e9-5917ae78d9f5"
      },
      "execution_count": 39,
      "outputs": [
        {
          "output_type": "execute_result",
          "data": {
            "text/plain": [
              "['இது',\n",
              " 'புதுவகை',\n",
              " 'கொள்ளை',\n",
              " 'கூட்டம்',\n",
              " 'சுட்டுக்கொல்ல',\n",
              " 'வேண்டும்',\n",
              " 'அல்லது',\n",
              " 'குண்டர்',\n",
              " 'சட்டத்தில்',\n",
              " 'கைது']"
            ]
          },
          "metadata": {},
          "execution_count": 39
        }
      ]
    },
    {
      "cell_type": "code",
      "source": [
        "word_counts_train = collections.Counter(all_words_train)  # Computing the number of occurrence of all the words in the corpus\n",
        "word_counts_train.most_common(15)"
      ],
      "metadata": {
        "colab": {
          "base_uri": "https://localhost:8080/"
        },
        "id": "TJ3uM_7x_EhM",
        "outputId": "f4160736-c8cb-4672-98fe-d3cd59391a92"
      },
      "execution_count": 40,
      "outputs": [
        {
          "output_type": "execute_result",
          "data": {
            "text/plain": [
              "[('like', 3872),\n",
              " ('thala', 3309),\n",
              " ('trailer', 2709),\n",
              " ('mass', 2600),\n",
              " ('vera', 2525),\n",
              " ('la', 2195),\n",
              " ('படம்', 2160),\n",
              " ('movie', 2154),\n",
              " ('padam', 2144),\n",
              " ('level', 2104),\n",
              " ('da', 2056),\n",
              " ('fans', 1937),\n",
              " ('வாழ்த்துக்கள்', 1776),\n",
              " ('ah', 1727),\n",
              " ('super', 1656)]"
            ]
          },
          "metadata": {},
          "execution_count": 40
        }
      ]
    },
    {
      "cell_type": "code",
      "source": [
        "word_counts_valid = collections.Counter(all_words_valid)  # Computing the number of occurrence of all the words in the corpus\n",
        "word_counts_valid.most_common(15)"
      ],
      "metadata": {
        "colab": {
          "base_uri": "https://localhost:8080/"
        },
        "id": "1DCGCPVN_EsA",
        "outputId": "19b5c03b-7441-4a86-bbc2-6e2f2b6dd7cf"
      },
      "execution_count": 41,
      "outputs": [
        {
          "output_type": "execute_result",
          "data": {
            "text/plain": [
              "[('like', 432),\n",
              " ('thala', 373),\n",
              " ('trailer', 318),\n",
              " ('vera', 280),\n",
              " ('mass', 276),\n",
              " ('படம்', 267),\n",
              " ('level', 248),\n",
              " ('da', 244),\n",
              " ('movie', 243),\n",
              " ('padam', 220),\n",
              " ('la', 219),\n",
              " ('வாழ்த்துக்கள்', 214),\n",
              " ('surya', 205),\n",
              " ('fans', 196),\n",
              " ('anna', 172)]"
            ]
          },
          "metadata": {},
          "execution_count": 41
        }
      ]
    },
    {
      "cell_type": "code",
      "source": [
        "word_counts_valid = collections.Counter(all_words_test)  # Computing the number of occurrence of all the words in the corpus\n",
        "word_counts_valid.most_common(15)"
      ],
      "metadata": {
        "colab": {
          "base_uri": "https://localhost:8080/"
        },
        "id": "wpbAuTMS_E10",
        "outputId": "c896ca9f-7f03-45c3-f317-fc9c2c44a001"
      },
      "execution_count": 42,
      "outputs": [
        {
          "output_type": "execute_result",
          "data": {
            "text/plain": [
              "[('வேண்டும்', 71),\n",
              " ('இவர்கள்', 61),\n",
              " ('தான்', 60),\n",
              " ('இந்த', 50),\n",
              " ('ஒரு', 41),\n",
              " ('they', 39),\n",
              " ('la', 38),\n",
              " ('and', 37),\n",
              " ('பணம்', 33),\n",
              " ('the', 31),\n",
              " ('இவர்களை', 30),\n",
              " ('in', 29),\n",
              " ('to', 28),\n",
              " ('என்று', 27),\n",
              " ('is', 25)]"
            ]
          },
          "metadata": {},
          "execution_count": 42
        }
      ]
    },
    {
      "cell_type": "code",
      "source": [
        "words_with_counts_train = pd.DataFrame(word_counts_train.most_common(len(all_words_train)), columns=['words', 'count']) \n",
        "print(words_with_counts_train.head())"
      ],
      "metadata": {
        "colab": {
          "base_uri": "https://localhost:8080/"
        },
        "id": "vvPCKKIK_UaC",
        "outputId": "a20195d9-dbab-42d5-9051-59c59482aa40"
      },
      "execution_count": 43,
      "outputs": [
        {
          "output_type": "stream",
          "name": "stdout",
          "text": [
            "     words  count\n",
            "0     like   3872\n",
            "1    thala   3309\n",
            "2  trailer   2709\n",
            "3     mass   2600\n",
            "4     vera   2525\n"
          ]
        }
      ]
    },
    {
      "cell_type": "code",
      "source": [
        "words_with_counts_valid = pd.DataFrame(word_counts_valid.most_common(len(all_words_valid)), columns=['words', 'count']) \n",
        "print(words_with_counts_valid.head())"
      ],
      "metadata": {
        "colab": {
          "base_uri": "https://localhost:8080/"
        },
        "id": "Y_645LfF_YiC",
        "outputId": "53316400-65cc-445c-9f65-7fd6fa468ed2"
      },
      "execution_count": 44,
      "outputs": [
        {
          "output_type": "stream",
          "name": "stdout",
          "text": [
            "      words  count\n",
            "0  வேண்டும்     71\n",
            "1   இவர்கள்     61\n",
            "2      தான்     60\n",
            "3      இந்த     50\n",
            "4       ஒரு     41\n"
          ]
        }
      ]
    },
    {
      "cell_type": "code",
      "source": [
        "words_with_counts_test = pd.DataFrame(word_counts_valid.most_common(len(all_words_valid)), columns=['words', 'count']) \n",
        "print(words_with_counts_valid.head())"
      ],
      "metadata": {
        "colab": {
          "base_uri": "https://localhost:8080/"
        },
        "id": "UmpHPwuj_Yt6",
        "outputId": "f9e83d87-f421-4ef5-f9dd-5a96b12b2f87"
      },
      "execution_count": 45,
      "outputs": [
        {
          "output_type": "stream",
          "name": "stdout",
          "text": [
            "      words  count\n",
            "0  வேண்டும்     71\n",
            "1   இவர்கள்     61\n",
            "2      தான்     60\n",
            "3      இந்த     50\n",
            "4       ஒரு     41\n"
          ]
        }
      ]
    },
    {
      "cell_type": "code",
      "source": [
        "all_words = all_words_train + all_words_valid + all_words_test\n",
        "corpus = train_text + valid_text + test_text\n",
        "vocab_size = len(set(all_words)) # number of words to keep.\n",
        "embedding_dim = 100 # Dimension of the vector representation for each word \n",
        "max_length = 0\n",
        "for i in range(len(corpus)):\n",
        "  x = word_tokenize(corpus[i])\n",
        "  if len(x) > max_length:\n",
        "    max_length = len(x)\n",
        "\n",
        "oov_tok = \"<OOV>\""
      ],
      "metadata": {
        "id": "RSC_L65m_Y6h"
      },
      "execution_count": 46,
      "outputs": []
    },
    {
      "cell_type": "code",
      "source": [
        "tokenizer = tf.keras.preprocessing.text.Tokenizer(num_words = vocab_size, oov_token=oov_tok)\n",
        "tokenizer.fit_on_texts(train_text)\n",
        "word_index = tokenizer.word_index"
      ],
      "metadata": {
        "id": "oiev9Bot_o8M"
      },
      "execution_count": 47,
      "outputs": []
    },
    {
      "cell_type": "code",
      "source": [
        "training_sequences = tokenizer.texts_to_sequences(train_text)\n",
        "training_padded = tf.keras.preprocessing.sequence.pad_sequences(training_sequences,maxlen=max_length, padding='post')\n",
        "\n",
        "valid_sequences = tokenizer.texts_to_sequences(valid_text)\n",
        "valid_padded = tf.keras.preprocessing.sequence.pad_sequences(valid_sequences,maxlen=max_length, padding='post')\n",
        "\n",
        "\n",
        "test_sequences = tokenizer.texts_to_sequences(test_text)\n",
        "test_padded = tf.keras.preprocessing.sequence.pad_sequences(test_sequences,maxlen=max_length, padding='post')"
      ],
      "metadata": {
        "id": "3_T7OGy7_pIg"
      },
      "execution_count": 48,
      "outputs": []
    },
    {
      "cell_type": "code",
      "source": [
        "METRICS = [\n",
        "      #tf.keras.metrics.TruePositives(name='tp'),\n",
        "      #tf.keras.metrics.FalsePositives(name='fp'),\n",
        "      #tf.keras.metrics.TrueNegatives(name='tn'),\n",
        "      #tf.keras.metrics.FalseNegatives(name='fn'), \n",
        "      tf.keras.metrics.BinaryAccuracy(name='accuracy'),\n",
        "      tf.keras.metrics.Precision(name='precision'),\n",
        "      tf.keras.metrics.Recall(name='recall'),\n",
        "      tf.keras.metrics.AUC(name='auc'),\n",
        "]"
      ],
      "metadata": {
        "id": "-_JUz8EOAFHw"
      },
      "execution_count": 49,
      "outputs": []
    },
    {
      "cell_type": "code",
      "source": [
        "print(np.shape(training_padded))\n",
        "print(np.shape(valid_padded))\n",
        "print(np.shape(test_padded))"
      ],
      "metadata": {
        "colab": {
          "base_uri": "https://localhost:8080/"
        },
        "id": "y9P54ZZDAKCZ",
        "outputId": "288cd980-0a49-4aea-b234-c1ab984d8574"
      },
      "execution_count": 50,
      "outputs": [
        {
          "output_type": "stream",
          "name": "stdout",
          "text": [
            "(35656, 178)\n",
            "(3962, 178)\n",
            "(649, 178)\n"
          ]
        }
      ]
    },
    {
      "cell_type": "code",
      "source": [
        "model = tf.keras.Sequential([\n",
        "    tf.keras.layers.Embedding(vocab_size, embedding_dim, input_length=max_length,\n",
        "                              embeddings_initializer='orthogonal', embeddings_regularizer='L2'),\n",
        "    tf.keras.layers.Bidirectional(tf.keras.layers.LSTM(32)),\n",
        "    tf.keras.layers.Dense(5, activation=tf.nn.softmax)\n",
        "])\n",
        "\n",
        "model.compile(\n",
        "    loss=tf.keras.losses.CategoricalCrossentropy(),\n",
        "    optimizer=tf.keras.optimizers.Adam(learning_rate=0.01),\n",
        "    metrics=METRICS\n",
        ")\n",
        "\n",
        "model.summary()"
      ],
      "metadata": {
        "colab": {
          "base_uri": "https://localhost:8080/"
        },
        "id": "PRmmclzKALo4",
        "outputId": "9e73156c-3c5d-4982-ef7f-401ff7b1fc7d"
      },
      "execution_count": 52,
      "outputs": [
        {
          "output_type": "stream",
          "name": "stdout",
          "text": [
            "Model: \"sequential_1\"\n",
            "_________________________________________________________________\n",
            " Layer (type)                Output Shape              Param #   \n",
            "=================================================================\n",
            " embedding_1 (Embedding)     (None, 178, 100)          7863300   \n",
            "                                                                 \n",
            " bidirectional_1 (Bidirectio  (None, 64)               34048     \n",
            " nal)                                                            \n",
            "                                                                 \n",
            " dense_1 (Dense)             (None, 5)                 325       \n",
            "                                                                 \n",
            "=================================================================\n",
            "Total params: 7,897,673\n",
            "Trainable params: 7,897,673\n",
            "Non-trainable params: 0\n",
            "_________________________________________________________________\n"
          ]
        }
      ]
    },
    {
      "cell_type": "code",
      "source": [
        "#callback = tf.keras.callbacks.EarlyStopping(monitor='loss', patience=10)\n",
        "callback = tf.keras.callbacks.EarlyStopping(monitor='val_auc', patience=10, mode='max', restore_best_weights=True)\n",
        "\n",
        "num_epochs = 2\n",
        "history = model.fit(\n",
        "    training_padded,\n",
        "    training_labels,\n",
        "    epochs=num_epochs,\n",
        "    batch_size = 256,\n",
        "    callbacks=[callback],\n",
        "    validation_data=(valid_padded, validation_labels),\n",
        "    class_weight=class_weight\n",
        ")"
      ],
      "metadata": {
        "colab": {
          "base_uri": "https://localhost:8080/"
        },
        "id": "hNGY_GOeASoB",
        "outputId": "64db445c-f1b0-4995-b56b-29cb213402a7"
      },
      "execution_count": 53,
      "outputs": [
        {
          "output_type": "stream",
          "name": "stdout",
          "text": [
            "Epoch 1/2\n",
            "140/140 [==============================] - 93s 628ms/step - loss: 9.9258 - accuracy: 0.8196 - precision: 0.6916 - recall: 0.1765 - auc: 0.7276 - val_loss: 6.1175 - val_accuracy: 0.8198 - val_precision: 0.6488 - val_recall: 0.2163 - val_auc: 0.7392\n",
            "Epoch 2/2\n",
            "140/140 [==============================] - 88s 630ms/step - loss: 11.7104 - accuracy: 0.8250 - precision: 0.6815 - recall: 0.2344 - auc: 0.7582 - val_loss: 6.9614 - val_accuracy: 0.8331 - val_precision: 0.7321 - val_recall: 0.2607 - val_auc: 0.7840\n"
          ]
        }
      ]
    },
    {
      "cell_type": "code",
      "source": [
        "tf.keras.utils.plot_model(\n",
        "    model,\n",
        "    to_file=\"model.png\",\n",
        "    show_shapes=False,\n",
        "    show_dtype=False,\n",
        "    show_layer_names=True,\n",
        "    rankdir=\"TB\",\n",
        "    expand_nested=False,\n",
        "    dpi=96,\n",
        ")"
      ],
      "metadata": {
        "colab": {
          "base_uri": "https://localhost:8080/",
          "height": 369
        },
        "id": "dMxBJX9JAZJU",
        "outputId": "42889eb7-861b-4606-d425-aa7f65fee5b2"
      },
      "execution_count": 54,
      "outputs": [
        {
          "output_type": "execute_result",
          "data": {
            "image/png": "[encoded data removed]",
            "text/plain": [
              "<IPython.core.display.Image object>"
            ]
          },
          "metadata": {},
          "execution_count": 54
        }
      ]
    },
    {
      "cell_type": "code",
      "source": [
        "def plot_graphs(history, string):\n",
        "  plt.plot(history.history[string])\n",
        "  plt.plot(history.history['val_'+string])\n",
        "  plt.xlabel(\"Epochs\")\n",
        "  plt.ylabel(string)\n",
        "  plt.legend([string, 'val_'+string])\n",
        "  plt.show()\n",
        "  \n",
        "plot_graphs(history, \"auc\")\n",
        "plot_graphs(history, \"loss\")"
      ],
      "metadata": {
        "colab": {
          "base_uri": "https://localhost:8080/",
          "height": 541
        },
        "id": "V0HCh9iGAcZZ",
        "outputId": "4004d5da-d2f8-4e01-f843-57629567eaac"
      },
      "execution_count": 55,
      "outputs": [
        {
          "output_type": "display_data",
          "data": {
            "text/plain": [
              "<Figure size 432x288 with 1 Axes>"
            ],
            "image/png": "[encoded data removed]"
          },
          "metadata": {
            "needs_background": "light"
          }
        },
        {
          "output_type": "display_data",
          "data": {
            "text/plain": [
              "<Figure size 432x288 with 1 Axes>"
            ],
            "image/png": "[encoded data removed]"
          },
          "metadata": {
            "needs_background": "light"
          }
        }
      ]
    },
    {
      "cell_type": "code",
      "source": [
        "score = model.evaluate(valid_padded, validation_labels)\n",
        "print(\"Loss = {}\".format(score[0]))\n",
        "print(\"Accuracy = {0:.2f}%\".format(score[1]*100))\n",
        "print(score)"
      ],
      "metadata": {
        "colab": {
          "base_uri": "https://localhost:8080/"
        },
        "id": "7-99ZmuKBZu_",
        "outputId": "9fff402d-65af-40a4-fb7e-695df2e4a105"
      },
      "execution_count": 56,
      "outputs": [
        {
          "output_type": "stream",
          "name": "stdout",
          "text": [
            "124/124 [==============================] - 5s 42ms/step - loss: 6.9614 - accuracy: 0.8331 - precision: 0.7321 - recall: 0.2607 - auc: 0.7840\n",
            "Loss = 6.961382865905762\n",
            "Accuracy = 83.31%\n",
            "[6.961382865905762, 0.833064079284668, 0.7321048974990845, 0.2607268989086151, 0.7840321063995361]\n"
          ]
        }
      ]
    },
    {
      "cell_type": "code",
      "source": [
        "y_pred = np.argmax(model.predict(valid_padded), axis=1)\n",
        "classes_y = np.argmax(y_pred,axis=-1)\n",
        "accuracy = accuracy_score(valid_label, y_pred)\n",
        "precision = precision_score(valid_label, y_pred, average='macro')\n",
        "recall = recall_score(valid_label, y_pred, average='macro')\n",
        "f1 = f1_score(valid_label, y_pred, average='macro')\n",
        "\n",
        "print(\"Accuracy = {0:.2f}\".format(accuracy*100))\n",
        "print(\"Precision = {0:.4f}\".format(precision))\n",
        "print(\"Recall = {0:.4f}\".format(recall))\n",
        "print(\"F1-score = {0:.4f}\".format(f1))"
      ],
      "metadata": {
        "colab": {
          "base_uri": "https://localhost:8080/"
        },
        "id": "JjxGF5IYBjAc",
        "outputId": "a1b468b4-62e0-4691-d819-6825eeac3c53"
      },
      "execution_count": 58,
      "outputs": [
        {
          "output_type": "stream",
          "name": "stdout",
          "text": [
            "124/124 [==============================] - 5s 30ms/step\n",
            "Accuracy = 48.99\n",
            "Precision = 0.4005\n",
            "Recall = 0.4834\n",
            "F1-score = 0.4075\n"
          ]
        }
      ]
    },
    {
      "cell_type": "code",
      "source": [
        "confusion_matrix(valid_label,y_pred)"
      ],
      "metadata": {
        "colab": {
          "base_uri": "https://localhost:8080/"
        },
        "id": "NYV0au3HBivb",
        "outputId": "83f3fb06-fab7-4e2a-c6be-7b9531c57ce7"
      },
      "execution_count": 59,
      "outputs": [
        {
          "output_type": "execute_result",
          "data": {
            "text/plain": [
              "array([[ 102,  154,   97,   30,   55],\n",
              "       [  44,  282,   66,   32,   56],\n",
              "       [ 157,  432, 1194,  186,  288],\n",
              "       [   6,   16,   27,  117,   10],\n",
              "       [  69,  142,   85,   69,  246]])"
            ]
          },
          "metadata": {},
          "execution_count": 59
        }
      ]
    },
    {
      "cell_type": "code",
      "source": [
        "print(classification_report(valid_label,y_pred))"
      ],
      "metadata": {
        "colab": {
          "base_uri": "https://localhost:8080/"
        },
        "id": "0quoLcyiDJtc",
        "outputId": "8c0dfe35-9b3b-44a7-c86e-62d955b73bdd"
      },
      "execution_count": 60,
      "outputs": [
        {
          "output_type": "stream",
          "name": "stdout",
          "text": [
            "              precision    recall  f1-score   support\n",
            "\n",
            "           0       0.27      0.23      0.25       438\n",
            "           1       0.27      0.59      0.37       480\n",
            "           2       0.81      0.53      0.64      2257\n",
            "           3       0.27      0.66      0.38       176\n",
            "           4       0.38      0.40      0.39       611\n",
            "\n",
            "    accuracy                           0.49      3962\n",
            "   macro avg       0.40      0.48      0.41      3962\n",
            "weighted avg       0.60      0.49      0.52      3962\n",
            "\n"
          ]
        }
      ]
    },
    {
      "cell_type": "code",
      "source": [
        "def predict_review(model, reviews):\n",
        "  # Create the sequences\n",
        "  padding_type='post'\n",
        "  sample_sequences = tokenizer.texts_to_sequences(reviews)\n",
        "  reviews_padded = tf.keras.preprocessing.sequence.pad_sequences(sample_sequences, padding=padding_type, \n",
        "                                 maxlen=max_length) \n",
        "  class_pred = np.argmax(model.predict(reviews_padded), axis=-1)\n",
        "  classes = np.argmax(class_pred,axis=-1)\n",
        "  classes_prob = model.predict(reviews_padded)\n",
        "  for x in range(len(reviews_padded)):\n",
        "    print(reviews[x])\n",
        "    print(le.inverse_transform([class_pred[x]]))\n",
        "    print(classes_prob[x])\n",
        "    print('\\n')"
      ],
      "metadata": {
        "id": "_GGEqYnYDJmE"
      },
      "execution_count": 61,
      "outputs": []
    },
    {
      "cell_type": "code",
      "source": [
        "sample_test = test_text[0:10]\n",
        "sample_test"
      ],
      "metadata": {
        "colab": {
          "base_uri": "https://localhost:8080/"
        },
        "id": "VDbm9nnUDJei",
        "outputId": "8c5c32f9-0a46-4b90-dd01-6ad30c07c0f4"
      },
      "execution_count": 62,
      "outputs": [
        {
          "output_type": "execute_result",
          "data": {
            "text/plain": [
              "['இது புதுவகை கொள்ளை கூட்டம்',\n",
              " 'சுட்டுக்கொல்ல வேண்டும் அல்லது குண்டர் சட்டத்தில் கைது செய்ய வேண்டும்',\n",
              " 'இந்த திருநங்கைகள் பொதுமக்களுக்கு பொது இடங்களில் பெரும் தொல்லையாக உள்ளார்கள்',\n",
              " 'அராஜகம் செய்து தங்களுடைய மதிப்பை தாங்களே கெடுத்துக்கொள்கிறார்கள்',\n",
              " 'தவறான விடையம் சகோஅந்த பொண்டுகப் புண்டாமகன்ளுக்கு என்ன மதிப்பு இருந்துச்சு',\n",
              " 'romba thollai pannuthunga yaarume ketka matangala',\n",
              " 'இதற்கு அரசாங்கமும் பொது மக்களும் இணைந்து ஒரு வழி செய்ய வேண்டும்  மிக கடுமையான நடவடிக்கை தேவை',\n",
              " 'பெங்களூரில் எங்க வீட்டு திருமணத்தில் இதேமாதிரி தொல்லை நடந்தது',\n",
              " 'yenna pannenga apro',\n",
              " 'ennoda anna mareagla kooda 2000 rupa kuduthadha povom illana sabam vitruvomnu mirattunanga']"
            ]
          },
          "metadata": {},
          "execution_count": 62
        }
      ]
    },
    {
      "cell_type": "code",
      "source": [
        "predict_review(model, sample_test)"
      ],
      "metadata": {
        "colab": {
          "base_uri": "https://localhost:8080/"
        },
        "id": "k15byVwFDY0J",
        "outputId": "65ed092d-f4f4-439c-eb7f-a0efff2c0bc0"
      },
      "execution_count": 63,
      "outputs": [
        {
          "output_type": "stream",
          "name": "stdout",
          "text": [
            "1/1 [==============================] - 0s 42ms/step\n",
            "1/1 [==============================] - 0s 36ms/step\n",
            "இது புதுவகை கொள்ளை கூட்டம்\n",
            "['unknown_state']\n",
            "[0.15358691 0.17559774 0.16707145 0.13040821 0.37333566]\n",
            "\n",
            "\n",
            "சுட்டுக்கொல்ல வேண்டும் அல்லது குண்டர் சட்டத்தில் கைது செய்ய வேண்டும்\n",
            "['unknown_state']\n",
            "[0.16859636 0.1546655  0.14553285 0.13825579 0.39294958]\n",
            "\n",
            "\n",
            "இந்த திருநங்கைகள் பொதுமக்களுக்கு பொது இடங்களில் பெரும் தொல்லையாக உள்ளார்கள்\n",
            "['Negative']\n",
            "[0.22407408 0.3469172  0.16277443 0.07636855 0.18986571]\n",
            "\n",
            "\n",
            "அராஜகம் செய்து தங்களுடைய மதிப்பை தாங்களே கெடுத்துக்கொள்கிறார்கள்\n",
            "['Negative']\n",
            "[0.19462758 0.3330599  0.16609757 0.12151594 0.18469903]\n",
            "\n",
            "\n",
            "தவறான விடையம் சகோஅந்த பொண்டுகப் புண்டாமகன்ளுக்கு என்ன மதிப்பு இருந்துச்சு\n",
            "['Negative']\n",
            "[0.24877907 0.36387745 0.185477   0.04338273 0.15848376]\n",
            "\n",
            "\n",
            "romba thollai pannuthunga yaarume ketka matangala\n",
            "['Negative']\n",
            "[0.19428101 0.4335432  0.12561394 0.07523103 0.17133076]\n",
            "\n",
            "\n",
            "இதற்கு அரசாங்கமும் பொது மக்களும் இணைந்து ஒரு வழி செய்ய வேண்டும்  மிக கடுமையான நடவடிக்கை தேவை\n",
            "['unknown_state']\n",
            "[0.28591257 0.24106225 0.11060169 0.04718948 0.315234  ]\n",
            "\n",
            "\n",
            "பெங்களூரில் எங்க வீட்டு திருமணத்தில் இதேமாதிரி தொல்லை நடந்தது\n",
            "['unknown_state']\n",
            "[0.20064484 0.25132445 0.16542159 0.11272494 0.26988423]\n",
            "\n",
            "\n",
            "yenna pannenga apro\n",
            "['not-Tamil']\n",
            "[0.1236973  0.11995783 0.17778595 0.3776877  0.20087127]\n",
            "\n",
            "\n",
            "ennoda anna mareagla kooda 2000 rupa kuduthadha povom illana sabam vitruvomnu mirattunanga\n",
            "['Mixed_feelings']\n",
            "[0.31990752 0.2653304  0.17867698 0.02206467 0.21402037]\n",
            "\n",
            "\n"
          ]
        }
      ]
    },
    {
      "cell_type": "code",
      "source": [
        "class_pred = np.argmax(model.predict(test_padded), axis=-1)\n",
        "classes = np.argmax(class_pred,axis=-1)\n",
        "pred = []\n",
        "\n",
        "for i in range(len(class_pred)):\n",
        "  pred.append(le.inverse_transform([class_pred[i]])[0])"
      ],
      "metadata": {
        "id": "TWUrWT2-DY_c",
        "colab": {
          "base_uri": "https://localhost:8080/"
        },
        "outputId": "16677e25-9835-4fc4-94b8-83202df536ca"
      },
      "execution_count": 64,
      "outputs": [
        {
          "output_type": "stream",
          "name": "stdout",
          "text": [
            "21/21 [==============================] - 1s 32ms/step\n"
          ]
        }
      ]
    },
    {
      "cell_type": "code",
      "source": [
        "pred_df = pd.DataFrame(pred, columns=['label'])\n",
        "pred_df.head()"
      ],
      "metadata": {
        "colab": {
          "base_uri": "https://localhost:8080/",
          "height": 206
        },
        "id": "rb7z2HVODZIr",
        "outputId": "7f3b8d52-0f54-403e-90e3-9140c2aad4eb"
      },
      "execution_count": 65,
      "outputs": [
        {
          "output_type": "execute_result",
          "data": {
            "text/plain": [
              "           label\n",
              "0  unknown_state\n",
              "1  unknown_state\n",
              "2       Negative\n",
              "3       Negative\n",
              "4       Negative"
            ],
            "text/html": [
              "\n",
              "  <div id=\"df-5c72a4ba-7e4e-4b1a-b664-2c8db0161403\">\n",
              "    <div class=\"colab-df-container\">\n",
              "      <div>\n",
              "<style scoped>\n",
              "    .dataframe tbody tr th:only-of-type {\n",
              "        vertical-align: middle;\n",
              "    }\n",
              "\n",
              "    .dataframe tbody tr th {\n",
              "        vertical-align: top;\n",
              "    }\n",
              "\n",
              "    .dataframe thead th {\n",
              "        text-align: right;\n",
              "    }\n",
              "</style>\n",
              "<table border=\"1\" class=\"dataframe\">\n",
              "  <thead>\n",
              "    <tr style=\"text-align: right;\">\n",
              "      <th></th>\n",
              "      <th>label</th>\n",
              "    </tr>\n",
              "  </thead>\n",
              "  <tbody>\n",
              "    <tr>\n",
              "      <th>0</th>\n",
              "      <td>unknown_state</td>\n",
              "    </tr>\n",
              "    <tr>\n",
              "      <th>1</th>\n",
              "      <td>unknown_state</td>\n",
              "    </tr>\n",
              "    <tr>\n",
              "      <th>2</th>\n",
              "      <td>Negative</td>\n",
              "    </tr>\n",
              "    <tr>\n",
              "      <th>3</th>\n",
              "      <td>Negative</td>\n",
              "    </tr>\n",
              "    <tr>\n",
              "      <th>4</th>\n",
              "      <td>Negative</td>\n",
              "    </tr>\n",
              "  </tbody>\n",
              "</table>\n",
              "</div>\n",
              "      <button class=\"colab-df-convert\" onclick=\"convertToInteractive('df-5c72a4ba-7e4e-4b1a-b664-2c8db0161403')\"\n",
              "              title=\"Convert this dataframe to an interactive table.\"\n",
              "              style=\"display:none;\">\n",
              "        \n",
              "  <svg xmlns=\"http://www.w3.org/2000/svg\" height=\"24px\"viewBox=\"0 0 24 24\"\n",
              "       width=\"24px\">\n",
              "    <path d=\"M0 0h24v24H0V0z\" fill=\"none\"/>\n",
              "    <path d=\"M18.56 5.44l.94 2.06.94-2.06 2.06-.94-2.06-.94-.94-2.06-.94 2.06-2.06.94zm-11 1L8.5 8.5l.94-2.06 2.06-.94-2.06-.94L8.5 2.5l-.94 2.06-2.06.94zm10 10l.94 2.06.94-2.06 2.06-.94-2.06-.94-.94-2.06-.94 2.06-2.06.94z\"/><path d=\"M17.41 7.96l-1.37-1.37c-.4-.4-.92-.59-1.43-.59-.52 0-1.04.2-1.43.59L10.3 9.45l-7.72 7.72c-.78.78-.78 2.05 0 2.83L4 21.41c.39.39.9.59 1.41.59.51 0 1.02-.2 1.41-.59l7.78-7.78 2.81-2.81c.8-.78.8-2.07 0-2.86zM5.41 20L4 18.59l7.72-7.72 1.47 1.35L5.41 20z\"/>\n",
              "  </svg>\n",
              "      </button>\n",
              "      \n",
              "  <style>\n",
              "    .colab-df-container {\n",
              "      display:flex;\n",
              "      flex-wrap:wrap;\n",
              "      gap: 12px;\n",
              "    }\n",
              "\n",
              "    .colab-df-convert {\n",
              "      background-color: #E8F0FE;\n",
              "      border: none;\n",
              "      border-radius: 50%;\n",
              "      cursor: pointer;\n",
              "      display: none;\n",
              "      fill: #1967D2;\n",
              "      height: 32px;\n",
              "      padding: 0 0 0 0;\n",
              "      width: 32px;\n",
              "    }\n",
              "\n",
              "    .colab-df-convert:hover {\n",
              "      background-color: #E2EBFA;\n",
              "      box-shadow: 0px 1px 2px rgba(60, 64, 67, 0.3), 0px 1px 3px 1px rgba(60, 64, 67, 0.15);\n",
              "      fill: #174EA6;\n",
              "    }\n",
              "\n",
              "    [theme=dark] .colab-df-convert {\n",
              "      background-color: #3B4455;\n",
              "      fill: #D2E3FC;\n",
              "    }\n",
              "\n",
              "    [theme=dark] .colab-df-convert:hover {\n",
              "      background-color: #434B5C;\n",
              "      box-shadow: 0px 1px 3px 1px rgba(0, 0, 0, 0.15);\n",
              "      filter: drop-shadow(0px 1px 2px rgba(0, 0, 0, 0.3));\n",
              "      fill: #FFFFFF;\n",
              "    }\n",
              "  </style>\n",
              "\n",
              "      <script>\n",
              "        const buttonEl =\n",
              "          document.querySelector('#df-5c72a4ba-7e4e-4b1a-b664-2c8db0161403 button.colab-df-convert');\n",
              "        buttonEl.style.display =\n",
              "          google.colab.kernel.accessAllowed ? 'block' : 'none';\n",
              "\n",
              "        async function convertToInteractive(key) {\n",
              "          const element = document.querySelector('#df-5c72a4ba-7e4e-4b1a-b664-2c8db0161403');\n",
              "          const dataTable =\n",
              "            await google.colab.kernel.invokeFunction('convertToInteractive',\n",
              "                                                     [key], {});\n",
              "          if (!dataTable) return;\n",
              "\n",
              "          const docLinkHtml = 'Like what you see? Visit the ' +\n",
              "            '<a target=\"_blank\" href=https://colab.research.google.com/notebooks/data_table.ipynb>data table notebook</a>'\n",
              "            + ' to learn more about interactive tables.';\n",
              "          element.innerHTML = '';\n",
              "          dataTable['output_type'] = 'display_data';\n",
              "          await google.colab.output.renderOutput(dataTable, element);\n",
              "          const docLink = document.createElement('div');\n",
              "          docLink.innerHTML = docLinkHtml;\n",
              "          element.appendChild(docLink);\n",
              "        }\n",
              "      </script>\n",
              "    </div>\n",
              "  </div>\n",
              "  "
            ]
          },
          "metadata": {},
          "execution_count": 65
        }
      ]
    },
    {
      "cell_type": "code",
      "source": [
        "result = pd.concat([test_df, pred_df], axis=1)\n",
        "result.head()"
      ],
      "metadata": {
        "colab": {
          "base_uri": "https://localhost:8080/",
          "height": 302
        },
        "id": "JMBIN4xYDf-g",
        "outputId": "e1e2a52d-64e0-4526-ee6b-f6540928c3e2"
      },
      "execution_count": 66,
      "outputs": [
        {
          "output_type": "execute_result",
          "data": {
            "text/plain": [
              "       id                                               Text          label\n",
              "0  TAM_01                         இது புதுவகை கொள்ளை கூட்டம்  unknown_state\n",
              "1  TAM_02  சுட்டுக்கொல்ல வேண்டும் அல்லது குண்டர் சட்டத்தி...  unknown_state\n",
              "2  TAM_03  இந்த திருநங்கைகள் பொதுமக்களுக்கு பொது இடங்களில...       Negative\n",
              "3  TAM_04  அராஜகம் செய்து தங்களுடைய மதிப்பை தாங்களே கெடுத...       Negative\n",
              "4  TAM_05  தவறான விடையம் சகோஅந்த பொண்டுகப் புண்டாமகன்ளுக்...       Negative"
            ],
            "text/html": [
              "\n",
              "  <div id=\"df-d1bb392a-54a4-4f83-b422-9f37cdd51426\">\n",
              "    <div class=\"colab-df-container\">\n",
              "      <div>\n",
              "<style scoped>\n",
              "    .dataframe tbody tr th:only-of-type {\n",
              "        vertical-align: middle;\n",
              "    }\n",
              "\n",
              "    .dataframe tbody tr th {\n",
              "        vertical-align: top;\n",
              "    }\n",
              "\n",
              "    .dataframe thead th {\n",
              "        text-align: right;\n",
              "    }\n",
              "</style>\n",
              "<table border=\"1\" class=\"dataframe\">\n",
              "  <thead>\n",
              "    <tr style=\"text-align: right;\">\n",
              "      <th></th>\n",
              "      <th>id</th>\n",
              "      <th>Text</th>\n",
              "      <th>label</th>\n",
              "    </tr>\n",
              "  </thead>\n",
              "  <tbody>\n",
              "    <tr>\n",
              "      <th>0</th>\n",
              "      <td>TAM_01</td>\n",
              "      <td>இது புதுவகை கொள்ளை கூட்டம்</td>\n",
              "      <td>unknown_state</td>\n",
              "    </tr>\n",
              "    <tr>\n",
              "      <th>1</th>\n",
              "      <td>TAM_02</td>\n",
              "      <td>சுட்டுக்கொல்ல வேண்டும் அல்லது குண்டர் சட்டத்தி...</td>\n",
              "      <td>unknown_state</td>\n",
              "    </tr>\n",
              "    <tr>\n",
              "      <th>2</th>\n",
              "      <td>TAM_03</td>\n",
              "      <td>இந்த திருநங்கைகள் பொதுமக்களுக்கு பொது இடங்களில...</td>\n",
              "      <td>Negative</td>\n",
              "    </tr>\n",
              "    <tr>\n",
              "      <th>3</th>\n",
              "      <td>TAM_04</td>\n",
              "      <td>அராஜகம் செய்து தங்களுடைய மதிப்பை தாங்களே கெடுத...</td>\n",
              "      <td>Negative</td>\n",
              "    </tr>\n",
              "    <tr>\n",
              "      <th>4</th>\n",
              "      <td>TAM_05</td>\n",
              "      <td>தவறான விடையம் சகோஅந்த பொண்டுகப் புண்டாமகன்ளுக்...</td>\n",
              "      <td>Negative</td>\n",
              "    </tr>\n",
              "  </tbody>\n",
              "</table>\n",
              "</div>\n",
              "      <button class=\"colab-df-convert\" onclick=\"convertToInteractive('df-d1bb392a-54a4-4f83-b422-9f37cdd51426')\"\n",
              "              title=\"Convert this dataframe to an interactive table.\"\n",
              "              style=\"display:none;\">\n",
              "        \n",
              "  <svg xmlns=\"http://www.w3.org/2000/svg\" height=\"24px\"viewBox=\"0 0 24 24\"\n",
              "       width=\"24px\">\n",
              "    <path d=\"M0 0h24v24H0V0z\" fill=\"none\"/>\n",
              "    <path d=\"M18.56 5.44l.94 2.06.94-2.06 2.06-.94-2.06-.94-.94-2.06-.94 2.06-2.06.94zm-11 1L8.5 8.5l.94-2.06 2.06-.94-2.06-.94L8.5 2.5l-.94 2.06-2.06.94zm10 10l.94 2.06.94-2.06 2.06-.94-2.06-.94-.94-2.06-.94 2.06-2.06.94z\"/><path d=\"M17.41 7.96l-1.37-1.37c-.4-.4-.92-.59-1.43-.59-.52 0-1.04.2-1.43.59L10.3 9.45l-7.72 7.72c-.78.78-.78 2.05 0 2.83L4 21.41c.39.39.9.59 1.41.59.51 0 1.02-.2 1.41-.59l7.78-7.78 2.81-2.81c.8-.78.8-2.07 0-2.86zM5.41 20L4 18.59l7.72-7.72 1.47 1.35L5.41 20z\"/>\n",
              "  </svg>\n",
              "      </button>\n",
              "      \n",
              "  <style>\n",
              "    .colab-df-container {\n",
              "      display:flex;\n",
              "      flex-wrap:wrap;\n",
              "      gap: 12px;\n",
              "    }\n",
              "\n",
              "    .colab-df-convert {\n",
              "      background-color: #E8F0FE;\n",
              "      border: none;\n",
              "      border-radius: 50%;\n",
              "      cursor: pointer;\n",
              "      display: none;\n",
              "      fill: #1967D2;\n",
              "      height: 32px;\n",
              "      padding: 0 0 0 0;\n",
              "      width: 32px;\n",
              "    }\n",
              "\n",
              "    .colab-df-convert:hover {\n",
              "      background-color: #E2EBFA;\n",
              "      box-shadow: 0px 1px 2px rgba(60, 64, 67, 0.3), 0px 1px 3px 1px rgba(60, 64, 67, 0.15);\n",
              "      fill: #174EA6;\n",
              "    }\n",
              "\n",
              "    [theme=dark] .colab-df-convert {\n",
              "      background-color: #3B4455;\n",
              "      fill: #D2E3FC;\n",
              "    }\n",
              "\n",
              "    [theme=dark] .colab-df-convert:hover {\n",
              "      background-color: #434B5C;\n",
              "      box-shadow: 0px 1px 3px 1px rgba(0, 0, 0, 0.15);\n",
              "      filter: drop-shadow(0px 1px 2px rgba(0, 0, 0, 0.3));\n",
              "      fill: #FFFFFF;\n",
              "    }\n",
              "  </style>\n",
              "\n",
              "      <script>\n",
              "        const buttonEl =\n",
              "          document.querySelector('#df-d1bb392a-54a4-4f83-b422-9f37cdd51426 button.colab-df-convert');\n",
              "        buttonEl.style.display =\n",
              "          google.colab.kernel.accessAllowed ? 'block' : 'none';\n",
              "\n",
              "        async function convertToInteractive(key) {\n",
              "          const element = document.querySelector('#df-d1bb392a-54a4-4f83-b422-9f37cdd51426');\n",
              "          const dataTable =\n",
              "            await google.colab.kernel.invokeFunction('convertToInteractive',\n",
              "                                                     [key], {});\n",
              "          if (!dataTable) return;\n",
              "\n",
              "          const docLinkHtml = 'Like what you see? Visit the ' +\n",
              "            '<a target=\"_blank\" href=https://colab.research.google.com/notebooks/data_table.ipynb>data table notebook</a>'\n",
              "            + ' to learn more about interactive tables.';\n",
              "          element.innerHTML = '';\n",
              "          dataTable['output_type'] = 'display_data';\n",
              "          await google.colab.output.renderOutput(dataTable, element);\n",
              "          const docLink = document.createElement('div');\n",
              "          docLink.innerHTML = docLinkHtml;\n",
              "          element.appendChild(docLink);\n",
              "        }\n",
              "      </script>\n",
              "    </div>\n",
              "  </div>\n",
              "  "
            ]
          },
          "metadata": {},
          "execution_count": 66
        }
      ]
    },
    {
      "cell_type": "code",
      "source": [
        "result.to_csv('Task Masters_tamil_task_A.tsv', sep = ',', index=False)"
      ],
      "metadata": {
        "id": "BPs3ncbMDhDO"
      },
      "execution_count": 67,
      "outputs": []
    },
    {
      "cell_type": "code",
      "source": [
        "class_pred = np.argmax(model.predict(test_padded), axis=-1)\n",
        "classes = np.argmax(class_pred,axis=-1)\n",
        "Valid_pred = []\n",
        "\n",
        "for i in range(len(class_pred)):\n",
        "    Valid_pred.append(le.inverse_transform([class_pred[i]])[0])"
      ],
      "metadata": {
        "id": "ceI6v_LHDhRo",
        "colab": {
          "base_uri": "https://localhost:8080/"
        },
        "outputId": "23635f74-36b9-4cea-ecdd-44b798457f1a"
      },
      "execution_count": 68,
      "outputs": [
        {
          "output_type": "stream",
          "name": "stdout",
          "text": [
            "21/21 [==============================] - 1s 29ms/step\n"
          ]
        }
      ]
    },
    {
      "cell_type": "code",
      "source": [
        "class_pred.shape"
      ],
      "metadata": {
        "colab": {
          "base_uri": "https://localhost:8080/"
        },
        "id": "rWFVnauYDp8l",
        "outputId": "aaa6153b-7e34-4331-e08a-31460d1db582"
      },
      "execution_count": 69,
      "outputs": [
        {
          "output_type": "execute_result",
          "data": {
            "text/plain": [
              "(649,)"
            ]
          },
          "metadata": {},
          "execution_count": 69
        }
      ]
    },
    {
      "cell_type": "code",
      "source": [
        "Valid_pred_df = pd.DataFrame(Valid_pred, columns=['Predicted label'])\n",
        "Valid_pred_df.head()"
      ],
      "metadata": {
        "colab": {
          "base_uri": "https://localhost:8080/",
          "height": 206
        },
        "id": "qan-2dEPDqFa",
        "outputId": "8f497110-f7fb-4349-dae8-14fd7681f7be"
      },
      "execution_count": 70,
      "outputs": [
        {
          "output_type": "execute_result",
          "data": {
            "text/plain": [
              "  Predicted label\n",
              "0   unknown_state\n",
              "1   unknown_state\n",
              "2        Negative\n",
              "3        Negative\n",
              "4        Negative"
            ],
            "text/html": [
              "\n",
              "  <div id=\"df-29bd67c5-64c7-4af3-a5ae-6d32e6670456\">\n",
              "    <div class=\"colab-df-container\">\n",
              "      <div>\n",
              "<style scoped>\n",
              "    .dataframe tbody tr th:only-of-type {\n",
              "        vertical-align: middle;\n",
              "    }\n",
              "\n",
              "    .dataframe tbody tr th {\n",
              "        vertical-align: top;\n",
              "    }\n",
              "\n",
              "    .dataframe thead th {\n",
              "        text-align: right;\n",
              "    }\n",
              "</style>\n",
              "<table border=\"1\" class=\"dataframe\">\n",
              "  <thead>\n",
              "    <tr style=\"text-align: right;\">\n",
              "      <th></th>\n",
              "      <th>Predicted label</th>\n",
              "    </tr>\n",
              "  </thead>\n",
              "  <tbody>\n",
              "    <tr>\n",
              "      <th>0</th>\n",
              "      <td>unknown_state</td>\n",
              "    </tr>\n",
              "    <tr>\n",
              "      <th>1</th>\n",
              "      <td>unknown_state</td>\n",
              "    </tr>\n",
              "    <tr>\n",
              "      <th>2</th>\n",
              "      <td>Negative</td>\n",
              "    </tr>\n",
              "    <tr>\n",
              "      <th>3</th>\n",
              "      <td>Negative</td>\n",
              "    </tr>\n",
              "    <tr>\n",
              "      <th>4</th>\n",
              "      <td>Negative</td>\n",
              "    </tr>\n",
              "  </tbody>\n",
              "</table>\n",
              "</div>\n",
              "      <button class=\"colab-df-convert\" onclick=\"convertToInteractive('df-29bd67c5-64c7-4af3-a5ae-6d32e6670456')\"\n",
              "              title=\"Convert this dataframe to an interactive table.\"\n",
              "              style=\"display:none;\">\n",
              "        \n",
              "  <svg xmlns=\"http://www.w3.org/2000/svg\" height=\"24px\"viewBox=\"0 0 24 24\"\n",
              "       width=\"24px\">\n",
              "    <path d=\"M0 0h24v24H0V0z\" fill=\"none\"/>\n",
              "    <path d=\"M18.56 5.44l.94 2.06.94-2.06 2.06-.94-2.06-.94-.94-2.06-.94 2.06-2.06.94zm-11 1L8.5 8.5l.94-2.06 2.06-.94-2.06-.94L8.5 2.5l-.94 2.06-2.06.94zm10 10l.94 2.06.94-2.06 2.06-.94-2.06-.94-.94-2.06-.94 2.06-2.06.94z\"/><path d=\"M17.41 7.96l-1.37-1.37c-.4-.4-.92-.59-1.43-.59-.52 0-1.04.2-1.43.59L10.3 9.45l-7.72 7.72c-.78.78-.78 2.05 0 2.83L4 21.41c.39.39.9.59 1.41.59.51 0 1.02-.2 1.41-.59l7.78-7.78 2.81-2.81c.8-.78.8-2.07 0-2.86zM5.41 20L4 18.59l7.72-7.72 1.47 1.35L5.41 20z\"/>\n",
              "  </svg>\n",
              "      </button>\n",
              "      \n",
              "  <style>\n",
              "    .colab-df-container {\n",
              "      display:flex;\n",
              "      flex-wrap:wrap;\n",
              "      gap: 12px;\n",
              "    }\n",
              "\n",
              "    .colab-df-convert {\n",
              "      background-color: #E8F0FE;\n",
              "      border: none;\n",
              "      border-radius: 50%;\n",
              "      cursor: pointer;\n",
              "      display: none;\n",
              "      fill: #1967D2;\n",
              "      height: 32px;\n",
              "      padding: 0 0 0 0;\n",
              "      width: 32px;\n",
              "    }\n",
              "\n",
              "    .colab-df-convert:hover {\n",
              "      background-color: #E2EBFA;\n",
              "      box-shadow: 0px 1px 2px rgba(60, 64, 67, 0.3), 0px 1px 3px 1px rgba(60, 64, 67, 0.15);\n",
              "      fill: #174EA6;\n",
              "    }\n",
              "\n",
              "    [theme=dark] .colab-df-convert {\n",
              "      background-color: #3B4455;\n",
              "      fill: #D2E3FC;\n",
              "    }\n",
              "\n",
              "    [theme=dark] .colab-df-convert:hover {\n",
              "      background-color: #434B5C;\n",
              "      box-shadow: 0px 1px 3px 1px rgba(0, 0, 0, 0.15);\n",
              "      filter: drop-shadow(0px 1px 2px rgba(0, 0, 0, 0.3));\n",
              "      fill: #FFFFFF;\n",
              "    }\n",
              "  </style>\n",
              "\n",
              "      <script>\n",
              "        const buttonEl =\n",
              "          document.querySelector('#df-29bd67c5-64c7-4af3-a5ae-6d32e6670456 button.colab-df-convert');\n",
              "        buttonEl.style.display =\n",
              "          google.colab.kernel.accessAllowed ? 'block' : 'none';\n",
              "\n",
              "        async function convertToInteractive(key) {\n",
              "          const element = document.querySelector('#df-29bd67c5-64c7-4af3-a5ae-6d32e6670456');\n",
              "          const dataTable =\n",
              "            await google.colab.kernel.invokeFunction('convertToInteractive',\n",
              "                                                     [key], {});\n",
              "          if (!dataTable) return;\n",
              "\n",
              "          const docLinkHtml = 'Like what you see? Visit the ' +\n",
              "            '<a target=\"_blank\" href=https://colab.research.google.com/notebooks/data_table.ipynb>data table notebook</a>'\n",
              "            + ' to learn more about interactive tables.';\n",
              "          element.innerHTML = '';\n",
              "          dataTable['output_type'] = 'display_data';\n",
              "          await google.colab.output.renderOutput(dataTable, element);\n",
              "          const docLink = document.createElement('div');\n",
              "          docLink.innerHTML = docLinkHtml;\n",
              "          element.appendChild(docLink);\n",
              "        }\n",
              "      </script>\n",
              "    </div>\n",
              "  </div>\n",
              "  "
            ]
          },
          "metadata": {},
          "execution_count": 70
        }
      ]
    },
    {
      "cell_type": "code",
      "source": [
        "Valid_result = pd.concat([valid_df, Valid_pred_df], axis=1)\n",
        "Valid_result"
      ],
      "metadata": {
        "colab": {
          "base_uri": "https://localhost:8080/",
          "height": 520
        },
        "id": "0BBwzX3yDqOE",
        "outputId": "959e8e85-0380-45b3-d958-de3e5ba22bdd"
      },
      "execution_count": 71,
      "outputs": [
        {
          "output_type": "execute_result",
          "data": {
            "text/plain": [
              "                                                   text        category  \\\n",
              "0     40 songsuperbkamallllla  im waiting for dis so...   unknown_state   \n",
              "1     கணத்ததோர் அகமுடையார் சார்பாக  படம் வெற்றி அடைய...        Positive   \n",
              "2     thalavia neenga veera level boss and neega tha...        Positive   \n",
              "3                  oru padam patha fellvera level music        Positive   \n",
              "4     hairstyle than mattama iruku adhu mattum mathi...   unknown_state   \n",
              "...                                                 ...             ...   \n",
              "3957  நாடக காதல் மிகப்பெரிய தவறு இதை தான் இந்த படம் ...        Positive   \n",
              "3958                          so long to see you suriya       not-Tamil   \n",
              "3959  super  sk  ettan adipoli makkalle dec20  waiti...  Mixed_feelings   \n",
              "3960      minimum 50m viewa vara veppoma all thala fans        Positive   \n",
              "3961                      vera vera level da version 20        Positive   \n",
              "\n",
              "     Predicted label  \n",
              "0      unknown_state  \n",
              "1      unknown_state  \n",
              "2           Negative  \n",
              "3           Negative  \n",
              "4           Negative  \n",
              "...              ...  \n",
              "3957             NaN  \n",
              "3958             NaN  \n",
              "3959             NaN  \n",
              "3960             NaN  \n",
              "3961             NaN  \n",
              "\n",
              "[3962 rows x 3 columns]"
            ],
            "text/html": [
              "\n",
              "  <div id=\"df-b99e742c-04f9-43ac-9351-055ffcca5ff6\">\n",
              "    <div class=\"colab-df-container\">\n",
              "      <div>\n",
              "<style scoped>\n",
              "    .dataframe tbody tr th:only-of-type {\n",
              "        vertical-align: middle;\n",
              "    }\n",
              "\n",
              "    .dataframe tbody tr th {\n",
              "        vertical-align: top;\n",
              "    }\n",
              "\n",
              "    .dataframe thead th {\n",
              "        text-align: right;\n",
              "    }\n",
              "</style>\n",
              "<table border=\"1\" class=\"dataframe\">\n",
              "  <thead>\n",
              "    <tr style=\"text-align: right;\">\n",
              "      <th></th>\n",
              "      <th>text</th>\n",
              "      <th>category</th>\n",
              "      <th>Predicted label</th>\n",
              "    </tr>\n",
              "  </thead>\n",
              "  <tbody>\n",
              "    <tr>\n",
              "      <th>0</th>\n",
              "      <td>40 songsuperbkamallllla  im waiting for dis so...</td>\n",
              "      <td>unknown_state</td>\n",
              "      <td>unknown_state</td>\n",
              "    </tr>\n",
              "    <tr>\n",
              "      <th>1</th>\n",
              "      <td>கணத்ததோர் அகமுடையார் சார்பாக  படம் வெற்றி அடைய...</td>\n",
              "      <td>Positive</td>\n",
              "      <td>unknown_state</td>\n",
              "    </tr>\n",
              "    <tr>\n",
              "      <th>2</th>\n",
              "      <td>thalavia neenga veera level boss and neega tha...</td>\n",
              "      <td>Positive</td>\n",
              "      <td>Negative</td>\n",
              "    </tr>\n",
              "    <tr>\n",
              "      <th>3</th>\n",
              "      <td>oru padam patha fellvera level music</td>\n",
              "      <td>Positive</td>\n",
              "      <td>Negative</td>\n",
              "    </tr>\n",
              "    <tr>\n",
              "      <th>4</th>\n",
              "      <td>hairstyle than mattama iruku adhu mattum mathi...</td>\n",
              "      <td>unknown_state</td>\n",
              "      <td>Negative</td>\n",
              "    </tr>\n",
              "    <tr>\n",
              "      <th>...</th>\n",
              "      <td>...</td>\n",
              "      <td>...</td>\n",
              "      <td>...</td>\n",
              "    </tr>\n",
              "    <tr>\n",
              "      <th>3957</th>\n",
              "      <td>நாடக காதல் மிகப்பெரிய தவறு இதை தான் இந்த படம் ...</td>\n",
              "      <td>Positive</td>\n",
              "      <td>NaN</td>\n",
              "    </tr>\n",
              "    <tr>\n",
              "      <th>3958</th>\n",
              "      <td>so long to see you suriya</td>\n",
              "      <td>not-Tamil</td>\n",
              "      <td>NaN</td>\n",
              "    </tr>\n",
              "    <tr>\n",
              "      <th>3959</th>\n",
              "      <td>super  sk  ettan adipoli makkalle dec20  waiti...</td>\n",
              "      <td>Mixed_feelings</td>\n",
              "      <td>NaN</td>\n",
              "    </tr>\n",
              "    <tr>\n",
              "      <th>3960</th>\n",
              "      <td>minimum 50m viewa vara veppoma all thala fans</td>\n",
              "      <td>Positive</td>\n",
              "      <td>NaN</td>\n",
              "    </tr>\n",
              "    <tr>\n",
              "      <th>3961</th>\n",
              "      <td>vera vera level da version 20</td>\n",
              "      <td>Positive</td>\n",
              "      <td>NaN</td>\n",
              "    </tr>\n",
              "  </tbody>\n",
              "</table>\n",
              "<p>3962 rows × 3 columns</p>\n",
              "</div>\n",
              "      <button class=\"colab-df-convert\" onclick=\"convertToInteractive('df-b99e742c-04f9-43ac-9351-055ffcca5ff6')\"\n",
              "              title=\"Convert this dataframe to an interactive table.\"\n",
              "              style=\"display:none;\">\n",
              "        \n",
              "  <svg xmlns=\"http://www.w3.org/2000/svg\" height=\"24px\"viewBox=\"0 0 24 24\"\n",
              "       width=\"24px\">\n",
              "    <path d=\"M0 0h24v24H0V0z\" fill=\"none\"/>\n",
              "    <path d=\"M18.56 5.44l.94 2.06.94-2.06 2.06-.94-2.06-.94-.94-2.06-.94 2.06-2.06.94zm-11 1L8.5 8.5l.94-2.06 2.06-.94-2.06-.94L8.5 2.5l-.94 2.06-2.06.94zm10 10l.94 2.06.94-2.06 2.06-.94-2.06-.94-.94-2.06-.94 2.06-2.06.94z\"/><path d=\"M17.41 7.96l-1.37-1.37c-.4-.4-.92-.59-1.43-.59-.52 0-1.04.2-1.43.59L10.3 9.45l-7.72 7.72c-.78.78-.78 2.05 0 2.83L4 21.41c.39.39.9.59 1.41.59.51 0 1.02-.2 1.41-.59l7.78-7.78 2.81-2.81c.8-.78.8-2.07 0-2.86zM5.41 20L4 18.59l7.72-7.72 1.47 1.35L5.41 20z\"/>\n",
              "  </svg>\n",
              "      </button>\n",
              "      \n",
              "  <style>\n",
              "    .colab-df-container {\n",
              "      display:flex;\n",
              "      flex-wrap:wrap;\n",
              "      gap: 12px;\n",
              "    }\n",
              "\n",
              "    .colab-df-convert {\n",
              "      background-color: #E8F0FE;\n",
              "      border: none;\n",
              "      border-radius: 50%;\n",
              "      cursor: pointer;\n",
              "      display: none;\n",
              "      fill: #1967D2;\n",
              "      height: 32px;\n",
              "      padding: 0 0 0 0;\n",
              "      width: 32px;\n",
              "    }\n",
              "\n",
              "    .colab-df-convert:hover {\n",
              "      background-color: #E2EBFA;\n",
              "      box-shadow: 0px 1px 2px rgba(60, 64, 67, 0.3), 0px 1px 3px 1px rgba(60, 64, 67, 0.15);\n",
              "      fill: #174EA6;\n",
              "    }\n",
              "\n",
              "    [theme=dark] .colab-df-convert {\n",
              "      background-color: #3B4455;\n",
              "      fill: #D2E3FC;\n",
              "    }\n",
              "\n",
              "    [theme=dark] .colab-df-convert:hover {\n",
              "      background-color: #434B5C;\n",
              "      box-shadow: 0px 1px 3px 1px rgba(0, 0, 0, 0.15);\n",
              "      filter: drop-shadow(0px 1px 2px rgba(0, 0, 0, 0.3));\n",
              "      fill: #FFFFFF;\n",
              "    }\n",
              "  </style>\n",
              "\n",
              "      <script>\n",
              "        const buttonEl =\n",
              "          document.querySelector('#df-b99e742c-04f9-43ac-9351-055ffcca5ff6 button.colab-df-convert');\n",
              "        buttonEl.style.display =\n",
              "          google.colab.kernel.accessAllowed ? 'block' : 'none';\n",
              "\n",
              "        async function convertToInteractive(key) {\n",
              "          const element = document.querySelector('#df-b99e742c-04f9-43ac-9351-055ffcca5ff6');\n",
              "          const dataTable =\n",
              "            await google.colab.kernel.invokeFunction('convertToInteractive',\n",
              "                                                     [key], {});\n",
              "          if (!dataTable) return;\n",
              "\n",
              "          const docLinkHtml = 'Like what you see? Visit the ' +\n",
              "            '<a target=\"_blank\" href=https://colab.research.google.com/notebooks/data_table.ipynb>data table notebook</a>'\n",
              "            + ' to learn more about interactive tables.';\n",
              "          element.innerHTML = '';\n",
              "          dataTable['output_type'] = 'display_data';\n",
              "          await google.colab.output.renderOutput(dataTable, element);\n",
              "          const docLink = document.createElement('div');\n",
              "          docLink.innerHTML = docLinkHtml;\n",
              "          element.appendChild(docLink);\n",
              "        }\n",
              "      </script>\n",
              "    </div>\n",
              "  </div>\n",
              "  "
            ]
          },
          "metadata": {},
          "execution_count": 71
        }
      ]
    },
    {
      "cell_type": "code",
      "source": [
        "Valid_result.to_csv('Task Masters_tamil_task_A.tsv', sep = ',', index=False)"
      ],
      "metadata": {
        "id": "ISEIIp0-DvRV"
      },
      "execution_count": 72,
      "outputs": []
    },
    {
      "cell_type": "code",
      "source": [
        "valid_df"
      ],
      "metadata": {
        "colab": {
          "base_uri": "https://localhost:8080/",
          "height": 468
        },
        "id": "98WcdCCgDyh4",
        "outputId": "543abae4-9046-4238-9547-dc58556859d0"
      },
      "execution_count": 73,
      "outputs": [
        {
          "output_type": "execute_result",
          "data": {
            "text/plain": [
              "                                                   text        category\n",
              "0     40 songsuperbkamallllla  im waiting for dis so...   unknown_state\n",
              "1     கணத்ததோர் அகமுடையார் சார்பாக  படம் வெற்றி அடைய...        Positive\n",
              "2     thalavia neenga veera level boss and neega tha...        Positive\n",
              "3                  oru padam patha fellvera level music        Positive\n",
              "4     hairstyle than mattama iruku adhu mattum mathi...   unknown_state\n",
              "...                                                 ...             ...\n",
              "3957  நாடக காதல் மிகப்பெரிய தவறு இதை தான் இந்த படம் ...        Positive\n",
              "3958                          so long to see you suriya       not-Tamil\n",
              "3959  super  sk  ettan adipoli makkalle dec20  waiti...  Mixed_feelings\n",
              "3960      minimum 50m viewa vara veppoma all thala fans        Positive\n",
              "3961                      vera vera level da version 20        Positive\n",
              "\n",
              "[3962 rows x 2 columns]"
            ],
            "text/html": [
              "\n",
              "  <div id=\"df-706fbeb1-f973-491d-9cd1-81721da26c1f\">\n",
              "    <div class=\"colab-df-container\">\n",
              "      <div>\n",
              "<style scoped>\n",
              "    .dataframe tbody tr th:only-of-type {\n",
              "        vertical-align: middle;\n",
              "    }\n",
              "\n",
              "    .dataframe tbody tr th {\n",
              "        vertical-align: top;\n",
              "    }\n",
              "\n",
              "    .dataframe thead th {\n",
              "        text-align: right;\n",
              "    }\n",
              "</style>\n",
              "<table border=\"1\" class=\"dataframe\">\n",
              "  <thead>\n",
              "    <tr style=\"text-align: right;\">\n",
              "      <th></th>\n",
              "      <th>text</th>\n",
              "      <th>category</th>\n",
              "    </tr>\n",
              "  </thead>\n",
              "  <tbody>\n",
              "    <tr>\n",
              "      <th>0</th>\n",
              "      <td>40 songsuperbkamallllla  im waiting for dis so...</td>\n",
              "      <td>unknown_state</td>\n",
              "    </tr>\n",
              "    <tr>\n",
              "      <th>1</th>\n",
              "      <td>கணத்ததோர் அகமுடையார் சார்பாக  படம் வெற்றி அடைய...</td>\n",
              "      <td>Positive</td>\n",
              "    </tr>\n",
              "    <tr>\n",
              "      <th>2</th>\n",
              "      <td>thalavia neenga veera level boss and neega tha...</td>\n",
              "      <td>Positive</td>\n",
              "    </tr>\n",
              "    <tr>\n",
              "      <th>3</th>\n",
              "      <td>oru padam patha fellvera level music</td>\n",
              "      <td>Positive</td>\n",
              "    </tr>\n",
              "    <tr>\n",
              "      <th>4</th>\n",
              "      <td>hairstyle than mattama iruku adhu mattum mathi...</td>\n",
              "      <td>unknown_state</td>\n",
              "    </tr>\n",
              "    <tr>\n",
              "      <th>...</th>\n",
              "      <td>...</td>\n",
              "      <td>...</td>\n",
              "    </tr>\n",
              "    <tr>\n",
              "      <th>3957</th>\n",
              "      <td>நாடக காதல் மிகப்பெரிய தவறு இதை தான் இந்த படம் ...</td>\n",
              "      <td>Positive</td>\n",
              "    </tr>\n",
              "    <tr>\n",
              "      <th>3958</th>\n",
              "      <td>so long to see you suriya</td>\n",
              "      <td>not-Tamil</td>\n",
              "    </tr>\n",
              "    <tr>\n",
              "      <th>3959</th>\n",
              "      <td>super  sk  ettan adipoli makkalle dec20  waiti...</td>\n",
              "      <td>Mixed_feelings</td>\n",
              "    </tr>\n",
              "    <tr>\n",
              "      <th>3960</th>\n",
              "      <td>minimum 50m viewa vara veppoma all thala fans</td>\n",
              "      <td>Positive</td>\n",
              "    </tr>\n",
              "    <tr>\n",
              "      <th>3961</th>\n",
              "      <td>vera vera level da version 20</td>\n",
              "      <td>Positive</td>\n",
              "    </tr>\n",
              "  </tbody>\n",
              "</table>\n",
              "<p>3962 rows × 2 columns</p>\n",
              "</div>\n",
              "      <button class=\"colab-df-convert\" onclick=\"convertToInteractive('df-706fbeb1-f973-491d-9cd1-81721da26c1f')\"\n",
              "              title=\"Convert this dataframe to an interactive table.\"\n",
              "              style=\"display:none;\">\n",
              "        \n",
              "  <svg xmlns=\"http://www.w3.org/2000/svg\" height=\"24px\"viewBox=\"0 0 24 24\"\n",
              "       width=\"24px\">\n",
              "    <path d=\"M0 0h24v24H0V0z\" fill=\"none\"/>\n",
              "    <path d=\"M18.56 5.44l.94 2.06.94-2.06 2.06-.94-2.06-.94-.94-2.06-.94 2.06-2.06.94zm-11 1L8.5 8.5l.94-2.06 2.06-.94-2.06-.94L8.5 2.5l-.94 2.06-2.06.94zm10 10l.94 2.06.94-2.06 2.06-.94-2.06-.94-.94-2.06-.94 2.06-2.06.94z\"/><path d=\"M17.41 7.96l-1.37-1.37c-.4-.4-.92-.59-1.43-.59-.52 0-1.04.2-1.43.59L10.3 9.45l-7.72 7.72c-.78.78-.78 2.05 0 2.83L4 21.41c.39.39.9.59 1.41.59.51 0 1.02-.2 1.41-.59l7.78-7.78 2.81-2.81c.8-.78.8-2.07 0-2.86zM5.41 20L4 18.59l7.72-7.72 1.47 1.35L5.41 20z\"/>\n",
              "  </svg>\n",
              "      </button>\n",
              "      \n",
              "  <style>\n",
              "    .colab-df-container {\n",
              "      display:flex;\n",
              "      flex-wrap:wrap;\n",
              "      gap: 12px;\n",
              "    }\n",
              "\n",
              "    .colab-df-convert {\n",
              "      background-color: #E8F0FE;\n",
              "      border: none;\n",
              "      border-radius: 50%;\n",
              "      cursor: pointer;\n",
              "      display: none;\n",
              "      fill: #1967D2;\n",
              "      height: 32px;\n",
              "      padding: 0 0 0 0;\n",
              "      width: 32px;\n",
              "    }\n",
              "\n",
              "    .colab-df-convert:hover {\n",
              "      background-color: #E2EBFA;\n",
              "      box-shadow: 0px 1px 2px rgba(60, 64, 67, 0.3), 0px 1px 3px 1px rgba(60, 64, 67, 0.15);\n",
              "      fill: #174EA6;\n",
              "    }\n",
              "\n",
              "    [theme=dark] .colab-df-convert {\n",
              "      background-color: #3B4455;\n",
              "      fill: #D2E3FC;\n",
              "    }\n",
              "\n",
              "    [theme=dark] .colab-df-convert:hover {\n",
              "      background-color: #434B5C;\n",
              "      box-shadow: 0px 1px 3px 1px rgba(0, 0, 0, 0.15);\n",
              "      filter: drop-shadow(0px 1px 2px rgba(0, 0, 0, 0.3));\n",
              "      fill: #FFFFFF;\n",
              "    }\n",
              "  </style>\n",
              "\n",
              "      <script>\n",
              "        const buttonEl =\n",
              "          document.querySelector('#df-706fbeb1-f973-491d-9cd1-81721da26c1f button.colab-df-convert');\n",
              "        buttonEl.style.display =\n",
              "          google.colab.kernel.accessAllowed ? 'block' : 'none';\n",
              "\n",
              "        async function convertToInteractive(key) {\n",
              "          const element = document.querySelector('#df-706fbeb1-f973-491d-9cd1-81721da26c1f');\n",
              "          const dataTable =\n",
              "            await google.colab.kernel.invokeFunction('convertToInteractive',\n",
              "                                                     [key], {});\n",
              "          if (!dataTable) return;\n",
              "\n",
              "          const docLinkHtml = 'Like what you see? Visit the ' +\n",
              "            '<a target=\"_blank\" href=https://colab.research.google.com/notebooks/data_table.ipynb>data table notebook</a>'\n",
              "            + ' to learn more about interactive tables.';\n",
              "          element.innerHTML = '';\n",
              "          dataTable['output_type'] = 'display_data';\n",
              "          await google.colab.output.renderOutput(dataTable, element);\n",
              "          const docLink = document.createElement('div');\n",
              "          docLink.innerHTML = docLinkHtml;\n",
              "          element.appendChild(docLink);\n",
              "        }\n",
              "      </script>\n",
              "    </div>\n",
              "  </div>\n",
              "  "
            ]
          },
          "metadata": {},
          "execution_count": 73
        }
      ]
    },
    {
      "cell_type": "code",
      "source": [
        "d = pd.read_csv(\"Task Masters_tamil_task_A.tsv\", sep=',')\n",
        "d"
      ],
      "metadata": {
        "colab": {
          "base_uri": "https://localhost:8080/",
          "height": 520
        },
        "id": "c14stt9zDyX0",
        "outputId": "f1012498-7b2e-4370-bc6e-e0f7cc4d0b42"
      },
      "execution_count": 74,
      "outputs": [
        {
          "output_type": "execute_result",
          "data": {
            "text/plain": [
              "                                                   text        category  \\\n",
              "0     40 songsuperbkamallllla  im waiting for dis so...   unknown_state   \n",
              "1     கணத்ததோர் அகமுடையார் சார்பாக  படம் வெற்றி அடைய...        Positive   \n",
              "2     thalavia neenga veera level boss and neega tha...        Positive   \n",
              "3                  oru padam patha fellvera level music        Positive   \n",
              "4     hairstyle than mattama iruku adhu mattum mathi...   unknown_state   \n",
              "...                                                 ...             ...   \n",
              "3957  நாடக காதல் மிகப்பெரிய தவறு இதை தான் இந்த படம் ...        Positive   \n",
              "3958                          so long to see you suriya       not-Tamil   \n",
              "3959  super  sk  ettan adipoli makkalle dec20  waiti...  Mixed_feelings   \n",
              "3960      minimum 50m viewa vara veppoma all thala fans        Positive   \n",
              "3961                      vera vera level da version 20        Positive   \n",
              "\n",
              "     Predicted label  \n",
              "0      unknown_state  \n",
              "1      unknown_state  \n",
              "2           Negative  \n",
              "3           Negative  \n",
              "4           Negative  \n",
              "...              ...  \n",
              "3957             NaN  \n",
              "3958             NaN  \n",
              "3959             NaN  \n",
              "3960             NaN  \n",
              "3961             NaN  \n",
              "\n",
              "[3962 rows x 3 columns]"
            ],
            "text/html": [
              "\n",
              "  <div id=\"df-7fd88d0f-9677-4c21-bcef-8ae992dabf94\">\n",
              "    <div class=\"colab-df-container\">\n",
              "      <div>\n",
              "<style scoped>\n",
              "    .dataframe tbody tr th:only-of-type {\n",
              "        vertical-align: middle;\n",
              "    }\n",
              "\n",
              "    .dataframe tbody tr th {\n",
              "        vertical-align: top;\n",
              "    }\n",
              "\n",
              "    .dataframe thead th {\n",
              "        text-align: right;\n",
              "    }\n",
              "</style>\n",
              "<table border=\"1\" class=\"dataframe\">\n",
              "  <thead>\n",
              "    <tr style=\"text-align: right;\">\n",
              "      <th></th>\n",
              "      <th>text</th>\n",
              "      <th>category</th>\n",
              "      <th>Predicted label</th>\n",
              "    </tr>\n",
              "  </thead>\n",
              "  <tbody>\n",
              "    <tr>\n",
              "      <th>0</th>\n",
              "      <td>40 songsuperbkamallllla  im waiting for dis so...</td>\n",
              "      <td>unknown_state</td>\n",
              "      <td>unknown_state</td>\n",
              "    </tr>\n",
              "    <tr>\n",
              "      <th>1</th>\n",
              "      <td>கணத்ததோர் அகமுடையார் சார்பாக  படம் வெற்றி அடைய...</td>\n",
              "      <td>Positive</td>\n",
              "      <td>unknown_state</td>\n",
              "    </tr>\n",
              "    <tr>\n",
              "      <th>2</th>\n",
              "      <td>thalavia neenga veera level boss and neega tha...</td>\n",
              "      <td>Positive</td>\n",
              "      <td>Negative</td>\n",
              "    </tr>\n",
              "    <tr>\n",
              "      <th>3</th>\n",
              "      <td>oru padam patha fellvera level music</td>\n",
              "      <td>Positive</td>\n",
              "      <td>Negative</td>\n",
              "    </tr>\n",
              "    <tr>\n",
              "      <th>4</th>\n",
              "      <td>hairstyle than mattama iruku adhu mattum mathi...</td>\n",
              "      <td>unknown_state</td>\n",
              "      <td>Negative</td>\n",
              "    </tr>\n",
              "    <tr>\n",
              "      <th>...</th>\n",
              "      <td>...</td>\n",
              "      <td>...</td>\n",
              "      <td>...</td>\n",
              "    </tr>\n",
              "    <tr>\n",
              "      <th>3957</th>\n",
              "      <td>நாடக காதல் மிகப்பெரிய தவறு இதை தான் இந்த படம் ...</td>\n",
              "      <td>Positive</td>\n",
              "      <td>NaN</td>\n",
              "    </tr>\n",
              "    <tr>\n",
              "      <th>3958</th>\n",
              "      <td>so long to see you suriya</td>\n",
              "      <td>not-Tamil</td>\n",
              "      <td>NaN</td>\n",
              "    </tr>\n",
              "    <tr>\n",
              "      <th>3959</th>\n",
              "      <td>super  sk  ettan adipoli makkalle dec20  waiti...</td>\n",
              "      <td>Mixed_feelings</td>\n",
              "      <td>NaN</td>\n",
              "    </tr>\n",
              "    <tr>\n",
              "      <th>3960</th>\n",
              "      <td>minimum 50m viewa vara veppoma all thala fans</td>\n",
              "      <td>Positive</td>\n",
              "      <td>NaN</td>\n",
              "    </tr>\n",
              "    <tr>\n",
              "      <th>3961</th>\n",
              "      <td>vera vera level da version 20</td>\n",
              "      <td>Positive</td>\n",
              "      <td>NaN</td>\n",
              "    </tr>\n",
              "  </tbody>\n",
              "</table>\n",
              "<p>3962 rows × 3 columns</p>\n",
              "</div>\n",
              "      <button class=\"colab-df-convert\" onclick=\"convertToInteractive('df-7fd88d0f-9677-4c21-bcef-8ae992dabf94')\"\n",
              "              title=\"Convert this dataframe to an interactive table.\"\n",
              "              style=\"display:none;\">\n",
              "        \n",
              "  <svg xmlns=\"http://www.w3.org/2000/svg\" height=\"24px\"viewBox=\"0 0 24 24\"\n",
              "       width=\"24px\">\n",
              "    <path d=\"M0 0h24v24H0V0z\" fill=\"none\"/>\n",
              "    <path d=\"M18.56 5.44l.94 2.06.94-2.06 2.06-.94-2.06-.94-.94-2.06-.94 2.06-2.06.94zm-11 1L8.5 8.5l.94-2.06 2.06-.94-2.06-.94L8.5 2.5l-.94 2.06-2.06.94zm10 10l.94 2.06.94-2.06 2.06-.94-2.06-.94-.94-2.06-.94 2.06-2.06.94z\"/><path d=\"M17.41 7.96l-1.37-1.37c-.4-.4-.92-.59-1.43-.59-.52 0-1.04.2-1.43.59L10.3 9.45l-7.72 7.72c-.78.78-.78 2.05 0 2.83L4 21.41c.39.39.9.59 1.41.59.51 0 1.02-.2 1.41-.59l7.78-7.78 2.81-2.81c.8-.78.8-2.07 0-2.86zM5.41 20L4 18.59l7.72-7.72 1.47 1.35L5.41 20z\"/>\n",
              "  </svg>\n",
              "      </button>\n",
              "      \n",
              "  <style>\n",
              "    .colab-df-container {\n",
              "      display:flex;\n",
              "      flex-wrap:wrap;\n",
              "      gap: 12px;\n",
              "    }\n",
              "\n",
              "    .colab-df-convert {\n",
              "      background-color: #E8F0FE;\n",
              "      border: none;\n",
              "      border-radius: 50%;\n",
              "      cursor: pointer;\n",
              "      display: none;\n",
              "      fill: #1967D2;\n",
              "      height: 32px;\n",
              "      padding: 0 0 0 0;\n",
              "      width: 32px;\n",
              "    }\n",
              "\n",
              "    .colab-df-convert:hover {\n",
              "      background-color: #E2EBFA;\n",
              "      box-shadow: 0px 1px 2px rgba(60, 64, 67, 0.3), 0px 1px 3px 1px rgba(60, 64, 67, 0.15);\n",
              "      fill: #174EA6;\n",
              "    }\n",
              "\n",
              "    [theme=dark] .colab-df-convert {\n",
              "      background-color: #3B4455;\n",
              "      fill: #D2E3FC;\n",
              "    }\n",
              "\n",
              "    [theme=dark] .colab-df-convert:hover {\n",
              "      background-color: #434B5C;\n",
              "      box-shadow: 0px 1px 3px 1px rgba(0, 0, 0, 0.15);\n",
              "      filter: drop-shadow(0px 1px 2px rgba(0, 0, 0, 0.3));\n",
              "      fill: #FFFFFF;\n",
              "    }\n",
              "  </style>\n",
              "\n",
              "      <script>\n",
              "        const buttonEl =\n",
              "          document.querySelector('#df-7fd88d0f-9677-4c21-bcef-8ae992dabf94 button.colab-df-convert');\n",
              "        buttonEl.style.display =\n",
              "          google.colab.kernel.accessAllowed ? 'block' : 'none';\n",
              "\n",
              "        async function convertToInteractive(key) {\n",
              "          const element = document.querySelector('#df-7fd88d0f-9677-4c21-bcef-8ae992dabf94');\n",
              "          const dataTable =\n",
              "            await google.colab.kernel.invokeFunction('convertToInteractive',\n",
              "                                                     [key], {});\n",
              "          if (!dataTable) return;\n",
              "\n",
              "          const docLinkHtml = 'Like what you see? Visit the ' +\n",
              "            '<a target=\"_blank\" href=https://colab.research.google.com/notebooks/data_table.ipynb>data table notebook</a>'\n",
              "            + ' to learn more about interactive tables.';\n",
              "          element.innerHTML = '';\n",
              "          dataTable['output_type'] = 'display_data';\n",
              "          await google.colab.output.renderOutput(dataTable, element);\n",
              "          const docLink = document.createElement('div');\n",
              "          docLink.innerHTML = docLinkHtml;\n",
              "          element.appendChild(docLink);\n",
              "        }\n",
              "      </script>\n",
              "    </div>\n",
              "  </div>\n",
              "  "
            ]
          },
          "metadata": {},
          "execution_count": 74
        }
      ]
    },
    {
      "cell_type": "code",
      "source": [
        "d1 = pd.read_csv(\"Task Masters_tamil_task_A.tsv\", sep=',')\n",
        "d1"
      ],
      "metadata": {
        "colab": {
          "base_uri": "https://localhost:8080/",
          "height": 520
        },
        "id": "Q54zzFE2D6-5",
        "outputId": "218990bc-9f8d-4820-8388-441257e2c489"
      },
      "execution_count": 75,
      "outputs": [
        {
          "output_type": "execute_result",
          "data": {
            "text/plain": [
              "                                                   text        category  \\\n",
              "0     40 songsuperbkamallllla  im waiting for dis so...   unknown_state   \n",
              "1     கணத்ததோர் அகமுடையார் சார்பாக  படம் வெற்றி அடைய...        Positive   \n",
              "2     thalavia neenga veera level boss and neega tha...        Positive   \n",
              "3                  oru padam patha fellvera level music        Positive   \n",
              "4     hairstyle than mattama iruku adhu mattum mathi...   unknown_state   \n",
              "...                                                 ...             ...   \n",
              "3957  நாடக காதல் மிகப்பெரிய தவறு இதை தான் இந்த படம் ...        Positive   \n",
              "3958                          so long to see you suriya       not-Tamil   \n",
              "3959  super  sk  ettan adipoli makkalle dec20  waiti...  Mixed_feelings   \n",
              "3960      minimum 50m viewa vara veppoma all thala fans        Positive   \n",
              "3961                      vera vera level da version 20        Positive   \n",
              "\n",
              "     Predicted label  \n",
              "0      unknown_state  \n",
              "1      unknown_state  \n",
              "2           Negative  \n",
              "3           Negative  \n",
              "4           Negative  \n",
              "...              ...  \n",
              "3957             NaN  \n",
              "3958             NaN  \n",
              "3959             NaN  \n",
              "3960             NaN  \n",
              "3961             NaN  \n",
              "\n",
              "[3962 rows x 3 columns]"
            ],
            "text/html": [
              "\n",
              "  <div id=\"df-80241cf8-ddc6-4772-816e-f7edbae5149d\">\n",
              "    <div class=\"colab-df-container\">\n",
              "      <div>\n",
              "<style scoped>\n",
              "    .dataframe tbody tr th:only-of-type {\n",
              "        vertical-align: middle;\n",
              "    }\n",
              "\n",
              "    .dataframe tbody tr th {\n",
              "        vertical-align: top;\n",
              "    }\n",
              "\n",
              "    .dataframe thead th {\n",
              "        text-align: right;\n",
              "    }\n",
              "</style>\n",
              "<table border=\"1\" class=\"dataframe\">\n",
              "  <thead>\n",
              "    <tr style=\"text-align: right;\">\n",
              "      <th></th>\n",
              "      <th>text</th>\n",
              "      <th>category</th>\n",
              "      <th>Predicted label</th>\n",
              "    </tr>\n",
              "  </thead>\n",
              "  <tbody>\n",
              "    <tr>\n",
              "      <th>0</th>\n",
              "      <td>40 songsuperbkamallllla  im waiting for dis so...</td>\n",
              "      <td>unknown_state</td>\n",
              "      <td>unknown_state</td>\n",
              "    </tr>\n",
              "    <tr>\n",
              "      <th>1</th>\n",
              "      <td>கணத்ததோர் அகமுடையார் சார்பாக  படம் வெற்றி அடைய...</td>\n",
              "      <td>Positive</td>\n",
              "      <td>unknown_state</td>\n",
              "    </tr>\n",
              "    <tr>\n",
              "      <th>2</th>\n",
              "      <td>thalavia neenga veera level boss and neega tha...</td>\n",
              "      <td>Positive</td>\n",
              "      <td>Negative</td>\n",
              "    </tr>\n",
              "    <tr>\n",
              "      <th>3</th>\n",
              "      <td>oru padam patha fellvera level music</td>\n",
              "      <td>Positive</td>\n",
              "      <td>Negative</td>\n",
              "    </tr>\n",
              "    <tr>\n",
              "      <th>4</th>\n",
              "      <td>hairstyle than mattama iruku adhu mattum mathi...</td>\n",
              "      <td>unknown_state</td>\n",
              "      <td>Negative</td>\n",
              "    </tr>\n",
              "    <tr>\n",
              "      <th>...</th>\n",
              "      <td>...</td>\n",
              "      <td>...</td>\n",
              "      <td>...</td>\n",
              "    </tr>\n",
              "    <tr>\n",
              "      <th>3957</th>\n",
              "      <td>நாடக காதல் மிகப்பெரிய தவறு இதை தான் இந்த படம் ...</td>\n",
              "      <td>Positive</td>\n",
              "      <td>NaN</td>\n",
              "    </tr>\n",
              "    <tr>\n",
              "      <th>3958</th>\n",
              "      <td>so long to see you suriya</td>\n",
              "      <td>not-Tamil</td>\n",
              "      <td>NaN</td>\n",
              "    </tr>\n",
              "    <tr>\n",
              "      <th>3959</th>\n",
              "      <td>super  sk  ettan adipoli makkalle dec20  waiti...</td>\n",
              "      <td>Mixed_feelings</td>\n",
              "      <td>NaN</td>\n",
              "    </tr>\n",
              "    <tr>\n",
              "      <th>3960</th>\n",
              "      <td>minimum 50m viewa vara veppoma all thala fans</td>\n",
              "      <td>Positive</td>\n",
              "      <td>NaN</td>\n",
              "    </tr>\n",
              "    <tr>\n",
              "      <th>3961</th>\n",
              "      <td>vera vera level da version 20</td>\n",
              "      <td>Positive</td>\n",
              "      <td>NaN</td>\n",
              "    </tr>\n",
              "  </tbody>\n",
              "</table>\n",
              "<p>3962 rows × 3 columns</p>\n",
              "</div>\n",
              "      <button class=\"colab-df-convert\" onclick=\"convertToInteractive('df-80241cf8-ddc6-4772-816e-f7edbae5149d')\"\n",
              "              title=\"Convert this dataframe to an interactive table.\"\n",
              "              style=\"display:none;\">\n",
              "        \n",
              "  <svg xmlns=\"http://www.w3.org/2000/svg\" height=\"24px\"viewBox=\"0 0 24 24\"\n",
              "       width=\"24px\">\n",
              "    <path d=\"M0 0h24v24H0V0z\" fill=\"none\"/>\n",
              "    <path d=\"M18.56 5.44l.94 2.06.94-2.06 2.06-.94-2.06-.94-.94-2.06-.94 2.06-2.06.94zm-11 1L8.5 8.5l.94-2.06 2.06-.94-2.06-.94L8.5 2.5l-.94 2.06-2.06.94zm10 10l.94 2.06.94-2.06 2.06-.94-2.06-.94-.94-2.06-.94 2.06-2.06.94z\"/><path d=\"M17.41 7.96l-1.37-1.37c-.4-.4-.92-.59-1.43-.59-.52 0-1.04.2-1.43.59L10.3 9.45l-7.72 7.72c-.78.78-.78 2.05 0 2.83L4 21.41c.39.39.9.59 1.41.59.51 0 1.02-.2 1.41-.59l7.78-7.78 2.81-2.81c.8-.78.8-2.07 0-2.86zM5.41 20L4 18.59l7.72-7.72 1.47 1.35L5.41 20z\"/>\n",
              "  </svg>\n",
              "      </button>\n",
              "      \n",
              "  <style>\n",
              "    .colab-df-container {\n",
              "      display:flex;\n",
              "      flex-wrap:wrap;\n",
              "      gap: 12px;\n",
              "    }\n",
              "\n",
              "    .colab-df-convert {\n",
              "      background-color: #E8F0FE;\n",
              "      border: none;\n",
              "      border-radius: 50%;\n",
              "      cursor: pointer;\n",
              "      display: none;\n",
              "      fill: #1967D2;\n",
              "      height: 32px;\n",
              "      padding: 0 0 0 0;\n",
              "      width: 32px;\n",
              "    }\n",
              "\n",
              "    .colab-df-convert:hover {\n",
              "      background-color: #E2EBFA;\n",
              "      box-shadow: 0px 1px 2px rgba(60, 64, 67, 0.3), 0px 1px 3px 1px rgba(60, 64, 67, 0.15);\n",
              "      fill: #174EA6;\n",
              "    }\n",
              "\n",
              "    [theme=dark] .colab-df-convert {\n",
              "      background-color: #3B4455;\n",
              "      fill: #D2E3FC;\n",
              "    }\n",
              "\n",
              "    [theme=dark] .colab-df-convert:hover {\n",
              "      background-color: #434B5C;\n",
              "      box-shadow: 0px 1px 3px 1px rgba(0, 0, 0, 0.15);\n",
              "      filter: drop-shadow(0px 1px 2px rgba(0, 0, 0, 0.3));\n",
              "      fill: #FFFFFF;\n",
              "    }\n",
              "  </style>\n",
              "\n",
              "      <script>\n",
              "        const buttonEl =\n",
              "          document.querySelector('#df-80241cf8-ddc6-4772-816e-f7edbae5149d button.colab-df-convert');\n",
              "        buttonEl.style.display =\n",
              "          google.colab.kernel.accessAllowed ? 'block' : 'none';\n",
              "\n",
              "        async function convertToInteractive(key) {\n",
              "          const element = document.querySelector('#df-80241cf8-ddc6-4772-816e-f7edbae5149d');\n",
              "          const dataTable =\n",
              "            await google.colab.kernel.invokeFunction('convertToInteractive',\n",
              "                                                     [key], {});\n",
              "          if (!dataTable) return;\n",
              "\n",
              "          const docLinkHtml = 'Like what you see? Visit the ' +\n",
              "            '<a target=\"_blank\" href=https://colab.research.google.com/notebooks/data_table.ipynb>data table notebook</a>'\n",
              "            + ' to learn more about interactive tables.';\n",
              "          element.innerHTML = '';\n",
              "          dataTable['output_type'] = 'display_data';\n",
              "          await google.colab.output.renderOutput(dataTable, element);\n",
              "          const docLink = document.createElement('div');\n",
              "          docLink.innerHTML = docLinkHtml;\n",
              "          element.appendChild(docLink);\n",
              "        }\n",
              "      </script>\n",
              "    </div>\n",
              "  </div>\n",
              "  "
            ]
          },
          "metadata": {},
          "execution_count": 75
        }
      ]
    },
    {
      "cell_type": "code",
      "source": [
        "test_df = pd.read_csv(\"sen_tam_test_with_labels.tsv\", sep='\\t')"
      ],
      "metadata": {
        "id": "ARd6rIxwH3oo"
      },
      "execution_count": 82,
      "outputs": []
    },
    {
      "cell_type": "code",
      "source": [
        "test_df.head()"
      ],
      "metadata": {
        "colab": {
          "base_uri": "https://localhost:8080/",
          "height": 267
        },
        "id": "BHJIJ3ARSMiU",
        "outputId": "bceb3134-d13c-4c88-eec3-801f8d365f0c"
      },
      "execution_count": 83,
      "outputs": [
        {
          "output_type": "execute_result",
          "data": {
            "text/plain": [
              "       id                                               Text    labels\n",
              "0  TAM_01                         இது புதுவகை கொள்ளை கூட்டம்   neutral\n",
              "1  TAM_02  சுட்டுக்கொல்ல வேண்டும் அல்லது குண்டர் சட்டத்தி...  negative\n",
              "2  TAM_03  இந்த திருநங்கைகள் பொதுமக்களுக்கு பொது இடங்களில...  negative\n",
              "3  TAM_04  அராஜகம் செய்து தங்களுடைய மதிப்பை தாங்களே கெடுத...  negative\n",
              "4  TAM_05  தவறான விடையம் சகோ...அந்த பொண்டுகப் புண்டாமகன்ள...  negative"
            ],
            "text/html": [
              "\n",
              "  <div id=\"df-7198a8e2-b475-4513-82d8-1c10ee3175f7\">\n",
              "    <div class=\"colab-df-container\">\n",
              "      <div>\n",
              "<style scoped>\n",
              "    .dataframe tbody tr th:only-of-type {\n",
              "        vertical-align: middle;\n",
              "    }\n",
              "\n",
              "    .dataframe tbody tr th {\n",
              "        vertical-align: top;\n",
              "    }\n",
              "\n",
              "    .dataframe thead th {\n",
              "        text-align: right;\n",
              "    }\n",
              "</style>\n",
              "<table border=\"1\" class=\"dataframe\">\n",
              "  <thead>\n",
              "    <tr style=\"text-align: right;\">\n",
              "      <th></th>\n",
              "      <th>id</th>\n",
              "      <th>Text</th>\n",
              "      <th>labels</th>\n",
              "    </tr>\n",
              "  </thead>\n",
              "  <tbody>\n",
              "    <tr>\n",
              "      <th>0</th>\n",
              "      <td>TAM_01</td>\n",
              "      <td>இது புதுவகை கொள்ளை கூட்டம்</td>\n",
              "      <td>neutral</td>\n",
              "    </tr>\n",
              "    <tr>\n",
              "      <th>1</th>\n",
              "      <td>TAM_02</td>\n",
              "      <td>சுட்டுக்கொல்ல வேண்டும் அல்லது குண்டர் சட்டத்தி...</td>\n",
              "      <td>negative</td>\n",
              "    </tr>\n",
              "    <tr>\n",
              "      <th>2</th>\n",
              "      <td>TAM_03</td>\n",
              "      <td>இந்த திருநங்கைகள் பொதுமக்களுக்கு பொது இடங்களில...</td>\n",
              "      <td>negative</td>\n",
              "    </tr>\n",
              "    <tr>\n",
              "      <th>3</th>\n",
              "      <td>TAM_04</td>\n",
              "      <td>அராஜகம் செய்து தங்களுடைய மதிப்பை தாங்களே கெடுத...</td>\n",
              "      <td>negative</td>\n",
              "    </tr>\n",
              "    <tr>\n",
              "      <th>4</th>\n",
              "      <td>TAM_05</td>\n",
              "      <td>தவறான விடையம் சகோ...அந்த பொண்டுகப் புண்டாமகன்ள...</td>\n",
              "      <td>negative</td>\n",
              "    </tr>\n",
              "  </tbody>\n",
              "</table>\n",
              "</div>\n",
              "      <button class=\"colab-df-convert\" onclick=\"convertToInteractive('df-7198a8e2-b475-4513-82d8-1c10ee3175f7')\"\n",
              "              title=\"Convert this dataframe to an interactive table.\"\n",
              "              style=\"display:none;\">\n",
              "        \n",
              "  <svg xmlns=\"http://www.w3.org/2000/svg\" height=\"24px\"viewBox=\"0 0 24 24\"\n",
              "       width=\"24px\">\n",
              "    <path d=\"M0 0h24v24H0V0z\" fill=\"none\"/>\n",
              "    <path d=\"M18.56 5.44l.94 2.06.94-2.06 2.06-.94-2.06-.94-.94-2.06-.94 2.06-2.06.94zm-11 1L8.5 8.5l.94-2.06 2.06-.94-2.06-.94L8.5 2.5l-.94 2.06-2.06.94zm10 10l.94 2.06.94-2.06 2.06-.94-2.06-.94-.94-2.06-.94 2.06-2.06.94z\"/><path d=\"M17.41 7.96l-1.37-1.37c-.4-.4-.92-.59-1.43-.59-.52 0-1.04.2-1.43.59L10.3 9.45l-7.72 7.72c-.78.78-.78 2.05 0 2.83L4 21.41c.39.39.9.59 1.41.59.51 0 1.02-.2 1.41-.59l7.78-7.78 2.81-2.81c.8-.78.8-2.07 0-2.86zM5.41 20L4 18.59l7.72-7.72 1.47 1.35L5.41 20z\"/>\n",
              "  </svg>\n",
              "      </button>\n",
              "      \n",
              "  <style>\n",
              "    .colab-df-container {\n",
              "      display:flex;\n",
              "      flex-wrap:wrap;\n",
              "      gap: 12px;\n",
              "    }\n",
              "\n",
              "    .colab-df-convert {\n",
              "      background-color: #E8F0FE;\n",
              "      border: none;\n",
              "      border-radius: 50%;\n",
              "      cursor: pointer;\n",
              "      display: none;\n",
              "      fill: #1967D2;\n",
              "      height: 32px;\n",
              "      padding: 0 0 0 0;\n",
              "      width: 32px;\n",
              "    }\n",
              "\n",
              "    .colab-df-convert:hover {\n",
              "      background-color: #E2EBFA;\n",
              "      box-shadow: 0px 1px 2px rgba(60, 64, 67, 0.3), 0px 1px 3px 1px rgba(60, 64, 67, 0.15);\n",
              "      fill: #174EA6;\n",
              "    }\n",
              "\n",
              "    [theme=dark] .colab-df-convert {\n",
              "      background-color: #3B4455;\n",
              "      fill: #D2E3FC;\n",
              "    }\n",
              "\n",
              "    [theme=dark] .colab-df-convert:hover {\n",
              "      background-color: #434B5C;\n",
              "      box-shadow: 0px 1px 3px 1px rgba(0, 0, 0, 0.15);\n",
              "      filter: drop-shadow(0px 1px 2px rgba(0, 0, 0, 0.3));\n",
              "      fill: #FFFFFF;\n",
              "    }\n",
              "  </style>\n",
              "\n",
              "      <script>\n",
              "        const buttonEl =\n",
              "          document.querySelector('#df-7198a8e2-b475-4513-82d8-1c10ee3175f7 button.colab-df-convert');\n",
              "        buttonEl.style.display =\n",
              "          google.colab.kernel.accessAllowed ? 'block' : 'none';\n",
              "\n",
              "        async function convertToInteractive(key) {\n",
              "          const element = document.querySelector('#df-7198a8e2-b475-4513-82d8-1c10ee3175f7');\n",
              "          const dataTable =\n",
              "            await google.colab.kernel.invokeFunction('convertToInteractive',\n",
              "                                                     [key], {});\n",
              "          if (!dataTable) return;\n",
              "\n",
              "          const docLinkHtml = 'Like what you see? Visit the ' +\n",
              "            '<a target=\"_blank\" href=https://colab.research.google.com/notebooks/data_table.ipynb>data table notebook</a>'\n",
              "            + ' to learn more about interactive tables.';\n",
              "          element.innerHTML = '';\n",
              "          dataTable['output_type'] = 'display_data';\n",
              "          await google.colab.output.renderOutput(dataTable, element);\n",
              "          const docLink = document.createElement('div');\n",
              "          docLink.innerHTML = docLinkHtml;\n",
              "          element.appendChild(docLink);\n",
              "        }\n",
              "      </script>\n",
              "    </div>\n",
              "  </div>\n",
              "  "
            ]
          },
          "metadata": {},
          "execution_count": 83
        }
      ]
    },
    {
      "cell_type": "code",
      "source": [
        "test_label = test_df['labels'].tolist()"
      ],
      "metadata": {
        "id": "XRYI3CeFsb9T"
      },
      "execution_count": 85,
      "outputs": []
    },
    {
      "cell_type": "code",
      "source": [
        "le = LabelEncoder()\n",
        "\n",
        "test_label = le.fit_transform(test_label)"
      ],
      "metadata": {
        "id": "ZChaQHEWS004"
      },
      "execution_count": 86,
      "outputs": []
    },
    {
      "cell_type": "code",
      "source": [
        "y_pred = np.argmax(model.predict(test_padded), axis=-1)\n",
        "classes_y = np.argmax(y_pred,axis=-1)\n",
        "accuracy = accuracy_score(test_label, y_pred)\n",
        "precision = precision_score(test_label, y_pred, average='macro')\n",
        "recall = recall_score(test_label, y_pred, average='macro')\n",
        "f1 = f1_score(test_label, y_pred, average='macro')\n",
        "\n",
        "print(\"Accuracy = {0:.2f}\".format(accuracy*100))\n",
        "print(\"Precision = {0:.4f}\".format(precision))\n",
        "print(\"Recall = {0:.4f}\".format(recall))\n",
        "print(\"F1-score = {0:.4f}\".format(f1))"
      ],
      "metadata": {
        "colab": {
          "base_uri": "https://localhost:8080/"
        },
        "id": "NvF1qH8hs995",
        "outputId": "5b51d0a0-0369-4ddc-a63a-f9c54ccdf1fa"
      },
      "execution_count": 87,
      "outputs": [
        {
          "output_type": "stream",
          "name": "stdout",
          "text": [
            "21/21 [==============================] - 1s 31ms/step\n",
            "Accuracy = 32.36\n",
            "Precision = 0.2254\n",
            "Recall = 0.1858\n",
            "F1-score = 0.1956\n"
          ]
        },
        {
          "output_type": "stream",
          "name": "stderr",
          "text": [
            "/usr/local/lib/python3.7/dist-packages/sklearn/metrics/_classification.py:1318: UndefinedMetricWarning: Recall is ill-defined and being set to 0.0 in labels with no true samples. Use `zero_division` parameter to control this behavior.\n",
            "  _warn_prf(average, modifier, msg_start, len(result))\n"
          ]
        }
      ]
    }
  ]
}